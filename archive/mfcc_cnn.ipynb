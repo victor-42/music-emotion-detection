{
 "cells": [
  {
   "cell_type": "markdown",
   "metadata": {
    "id": "OWFAl6KPGFGO",
    "pycharm": {
     "name": "#%% md\n"
    }
   },
   "source": [
    "### Imports and Helper"
   ]
  },
  {
   "cell_type": "code",
   "execution_count": 1,
   "metadata": {
    "executionInfo": {
     "elapsed": 4792,
     "status": "ok",
     "timestamp": 1651568672291,
     "user": {
      "displayName": "Victor Hug",
      "userId": "11181831673208928307"
     },
     "user_tz": -120
    },
    "id": "k6NVSfB6FOf1",
    "pycharm": {
     "name": "#%%\n"
    }
   },
   "outputs": [],
   "source": [
    "import pandas as pd\n",
    "import librosa as lr\n",
    "import librosa.display as lrd\n",
    "import time\n",
    "import warnings\n",
    "import matplotlib.pyplot as plt\n",
    "import numpy as np\n",
    "import torch.nn as nn\n",
    "from torch import Tensor\n",
    "import torch\n",
    "import torch.nn.functional as F\n",
    "import torch.optim as optim\n",
    "from torch.autograd import Variable\n",
    "from torch.optim import Adam, SGD\n",
    "from torch.utils.data import Dataset\n",
    "import math\n",
    "import datetime"
   ]
  },
  {
   "cell_type": "code",
   "execution_count": 2,
   "metadata": {
    "executionInfo": {
     "elapsed": 2,
     "status": "ok",
     "timestamp": 1651568672292,
     "user": {
      "displayName": "Victor Hug",
      "userId": "11181831673208928307"
     },
     "user_tz": -120
    },
    "id": "-sLDKHVkFcjH",
    "pycharm": {
     "name": "#%%\n"
    }
   },
   "outputs": [],
   "source": [
    "from IPython.display import HTML, display\n",
    "\n",
    "\n",
    "def progress(value, max=100):\n",
    "    return HTML(\"\"\"\n",
    "        <progress\n",
    "            value='{value}'\n",
    "            max='{max}',\n",
    "            style='width: 100%'\n",
    "        >\n",
    "            {value}\n",
    "        </progress>\n",
    "    \"\"\".format(value=value, max=max))"
   ]
  },
  {
   "cell_type": "code",
   "execution_count": 2,
   "metadata": {
    "executionInfo": {
     "elapsed": 5,
     "status": "ok",
     "timestamp": 1651525196080,
     "user": {
      "displayName": "Victor Hug",
      "userId": "11181831673208928307"
     },
     "user_tz": -120
    },
    "id": "9wJvBX3NmYAS",
    "pycharm": {
     "name": "#%%\n"
    }
   },
   "outputs": [],
   "source": []
  },
  {
   "cell_type": "code",
   "execution_count": 3,
   "metadata": {
    "id": "2REkOLHZFVHe",
    "colab": {
     "base_uri": "https://localhost:8080/"
    },
    "executionInfo": {
     "status": "ok",
     "timestamp": 1651529350354,
     "user_tz": -120,
     "elapsed": 2893,
     "user": {
      "displayName": "Victor Hug",
      "userId": "11181831673208928307"
     }
    },
    "outputId": "5f5f9fc0-43b6-43f5-ce05-9318e5c216d2",
    "pycharm": {
     "name": "#%%\n"
    }
   },
   "outputs": [],
   "source": [
    "#!wget http://cvml.unige.ch/databases/DEAM/DEAM_audio.zip\n"
   ]
  },
  {
   "cell_type": "code",
   "source": [
    "#!unzip DEAM_audio.zip"
   ],
   "metadata": {
    "colab": {
     "base_uri": "https://localhost:8080/"
    },
    "id": "-R7YuiN3AOod",
    "executionInfo": {
     "status": "ok",
     "timestamp": 1651525241870,
     "user_tz": -120,
     "elapsed": 9,
     "user": {
      "displayName": "Victor Hug",
      "userId": "11181831673208928307"
     }
    },
    "outputId": "9b173792-c0c6-469c-fcf8-bac5877612ec",
    "pycharm": {
     "name": "#%%\n"
    }
   },
   "execution_count": 4,
   "outputs": []
  },
  {
   "cell_type": "markdown",
   "metadata": {
    "id": "9zd0wvFiGCR3",
    "pycharm": {
     "name": "#%% md\n"
    }
   },
   "source": [
    "# Dataset"
   ]
  },
  {
   "cell_type": "code",
   "execution_count": 5,
   "metadata": {
    "id": "ipOeq0tEGKH1",
    "executionInfo": {
     "status": "ok",
     "timestamp": 1651569697532,
     "user_tz": -120,
     "elapsed": 225,
     "user": {
      "displayName": "Victor Hug",
      "userId": "11181831673208928307"
     }
    },
    "pycharm": {
     "name": "#%%\n"
    }
   },
   "outputs": [],
   "source": [
    "from librosa import util\n",
    "from joblib import Parallel, delayed\n",
    "from tqdm import tqdm"
   ]
  },
  {
   "cell_type": "code",
   "execution_count": 6,
   "metadata": {
    "executionInfo": {
     "elapsed": 1,
     "status": "ok",
     "timestamp": 1651569923987,
     "user": {
      "displayName": "Victor Hug",
      "userId": "11181831673208928307"
     },
     "user_tz": -120
    },
    "id": "TzcezbKJ_lsO",
    "pycharm": {
     "name": "#%%\n"
    }
   },
   "outputs": [],
   "source": [
    "from customdataset import WindowedAudioDataset"
   ]
  },
  {
   "cell_type": "code",
   "execution_count": 6,
   "outputs": [],
   "source": [],
   "metadata": {
    "collapsed": false,
    "pycharm": {
     "name": "#%%\n"
    }
   }
  },
  {
   "cell_type": "code",
   "execution_count": 7,
   "metadata": {
    "executionInfo": {
     "elapsed": 3,
     "status": "ok",
     "timestamp": 1651572391213,
     "user": {
      "displayName": "Victor Hug",
      "userId": "11181831673208928307"
     },
     "user_tz": -120
    },
    "id": "buk3oa6HXmRW",
    "colab": {
     "base_uri": "https://localhost:8080/",
     "height": 35
    },
    "outputId": "8b9bc567-0b13-4cc0-8460-ee0ba702848a",
    "pycharm": {
     "name": "#%%\n"
    }
   },
   "outputs": [
    {
     "data": {
      "text/plain": "'0.9.1'"
     },
     "execution_count": 7,
     "metadata": {},
     "output_type": "execute_result"
    }
   ],
   "source": [
    "lr.__version__"
   ]
  },
  {
   "cell_type": "code",
   "source": [
    "len(range(int(15 * 1000), int((44.0 - 20 / 2) * 1000 + 1), int(5 * 1000)))"
   ],
   "metadata": {
    "colab": {
     "base_uri": "https://localhost:8080/"
    },
    "id": "9Woe-f6iCSuj",
    "executionInfo": {
     "status": "ok",
     "timestamp": 1651526232350,
     "user_tz": -120,
     "elapsed": 1,
     "user": {
      "displayName": "Victor Hug",
      "userId": "11181831673208928307"
     }
    },
    "outputId": "ff55a449-6d44-45bd-aa98-e92168ae0ebd",
    "pycharm": {
     "name": "#%%\n"
    }
   },
   "execution_count": 8,
   "outputs": [
    {
     "data": {
      "text/plain": "4"
     },
     "execution_count": 8,
     "metadata": {},
     "output_type": "execute_result"
    }
   ]
  },
  {
   "cell_type": "code",
   "execution_count": 9,
   "metadata": {
    "executionInfo": {
     "elapsed": 1966,
     "status": "ok",
     "timestamp": 1651569928731,
     "user": {
      "displayName": "Victor Hug",
      "userId": "11181831673208928307"
     },
     "user_tz": -120
    },
    "id": "0cZJU9PUFYkL",
    "pycharm": {
     "name": "#%%\n"
    }
   },
   "outputs": [],
   "source": [
    "audio_base_path = 'data/MEMD_audio/'\n",
    "arousal_file = 'data/annotations/annotations averaged per song/dynamic (per second annotations)/arousal.csv'\n",
    "valence_file = 'data/annotations/annotations averaged per song/dynamic (per second annotations)/valence.csv'\n",
    "dataset_path = 'dataset.torchdata'"
   ]
  },
  {
   "cell_type": "code",
   "execution_count": 13,
   "metadata": {
    "executionInfo": {
     "elapsed": 1185,
     "status": "ok",
     "timestamp": 1651569929914,
     "user": {
      "displayName": "Victor Hug",
      "userId": "11181831673208928307"
     },
     "user_tz": -120
    },
    "id": "la_NrIEhFtPm",
    "pycharm": {
     "name": "#%%\n"
    }
   },
   "outputs": [],
   "source": [
    "deam_dataset = WindowedAudioDataset(arousal_file,\n",
    "                                    valence_file,\n",
    "                                    audio_base_path)"
   ]
  },
  {
   "cell_type": "code",
   "execution_count": 14,
   "outputs": [
    {
     "name": "stdout",
     "output_type": "stream",
     "text": [
      "Retrieving File Names and Labels...\n"
     ]
    },
    {
     "name": "stderr",
     "output_type": "stream",
     "text": [
      "\n",
      "0it [00:00, ?it/s]\u001B[A\n",
      "98it [00:00, 979.12it/s]\u001B[A\n",
      "199it [00:00, 996.74it/s]\u001B[A\n",
      "299it [00:00, 997.81it/s]\u001B[A\n",
      "399it [00:00, 982.80it/s]\u001B[A\n",
      "499it [00:00, 985.10it/s]\u001B[A\n",
      "598it [00:00, 935.99it/s]\u001B[A\n",
      "693it [00:00, 914.31it/s]\u001B[A\n",
      "785it [00:00, 896.73it/s]\u001B[A\n",
      "880it [00:00, 912.35it/s]\u001B[A\n",
      "972it [00:01, 893.05it/s]\u001B[A\n",
      "1071it [00:01, 921.30it/s]\u001B[A\n",
      "1171it [00:01, 941.53it/s]\u001B[A\n",
      "1266it [00:01, 927.29it/s]\u001B[A\n",
      "1365it [00:01, 945.45it/s]\u001B[A\n",
      "1463it [00:01, 955.40it/s]\u001B[A\n",
      "1560it [00:01, 959.48it/s]\u001B[A\n",
      "1657it [00:01, 953.82it/s]\u001B[A\n",
      "1802it [00:01, 940.14it/s]\u001B[A\n"
     ]
    },
    {
     "name": "stdout",
     "output_type": "stream",
     "text": [
      "Done!\n",
      "Loading Files and Features...\n"
     ]
    },
    {
     "name": "stderr",
     "output_type": "stream",
     "text": [
      "\n",
      "  0%|          | 0/1802 [00:00<?, ?it/s]\u001B[A\n",
      "  0%|          | 1/1802 [00:00<03:54,  7.69it/s]\u001B[A\n",
      "  2%|▏         | 32/1802 [00:03<03:11,  9.25it/s]\u001B[A\n",
      "  3%|▎         | 48/1802 [00:23<16:50,  1.74it/s]\u001B[A\n",
      "  4%|▎         | 64/1802 [00:26<12:53,  2.25it/s]\u001B[A\n",
      "  4%|▍         | 80/1802 [00:29<10:01,  2.86it/s]\u001B[A\n",
      "  5%|▌         | 96/1802 [00:31<08:05,  3.52it/s]\u001B[A\n",
      "  6%|▌         | 112/1802 [00:35<07:15,  3.88it/s]\u001B[A\n",
      "  7%|▋         | 128/1802 [00:38<06:42,  4.16it/s]\u001B[A\n",
      "  8%|▊         | 144/1802 [00:41<06:05,  4.54it/s]\u001B[A\n",
      "  9%|▉         | 160/1802 [00:43<05:36,  4.88it/s]\u001B[A\n",
      " 10%|▉         | 176/1802 [00:46<05:26,  4.97it/s]\u001B[A\n",
      " 11%|█         | 192/1802 [00:49<05:08,  5.22it/s]\u001B[A\n",
      " 12%|█▏        | 208/1802 [00:52<05:01,  5.29it/s]\u001B[A\n",
      " 12%|█▏        | 224/1802 [00:55<05:01,  5.23it/s]\u001B[A\n",
      " 13%|█▎        | 240/1802 [00:58<04:46,  5.46it/s]\u001B[A\n",
      " 14%|█▍        | 256/1802 [01:00<04:29,  5.74it/s]\u001B[A\n",
      " 15%|█▌        | 272/1802 [01:04<04:45,  5.37it/s]\u001B[A\n",
      " 16%|█▌        | 288/1802 [01:07<04:59,  5.05it/s]\u001B[A\n",
      " 17%|█▋        | 304/1802 [01:10<04:47,  5.21it/s]\u001B[A\n",
      " 18%|█▊        | 320/1802 [01:13<04:30,  5.48it/s]\u001B[A\n",
      " 19%|█▊        | 336/1802 [01:15<04:06,  5.94it/s]\u001B[A\n",
      " 20%|█▉        | 352/1802 [01:18<04:04,  5.94it/s]\u001B[A\n",
      " 20%|██        | 368/1802 [01:21<04:15,  5.61it/s]\u001B[A\n",
      " 21%|██▏       | 384/1802 [01:23<03:56,  5.99it/s]\u001B[A\n",
      " 22%|██▏       | 400/1802 [01:26<04:10,  5.60it/s]\u001B[A\n",
      " 23%|██▎       | 416/1802 [01:29<04:08,  5.58it/s]\u001B[A\n",
      " 24%|██▍       | 432/1802 [01:32<04:02,  5.65it/s]\u001B[A\n",
      " 25%|██▍       | 448/1802 [01:35<03:59,  5.66it/s]\u001B[A\n",
      " 26%|██▌       | 464/1802 [01:37<03:48,  5.86it/s]\u001B[A\n",
      " 27%|██▋       | 480/1802 [01:40<03:43,  5.93it/s]\u001B[A\n",
      " 28%|██▊       | 496/1802 [01:43<03:42,  5.88it/s]\u001B[A\n",
      " 28%|██▊       | 512/1802 [01:46<03:48,  5.65it/s]\u001B[A\n",
      " 29%|██▉       | 528/1802 [01:48<03:26,  6.18it/s]\u001B[A\n",
      " 30%|███       | 544/1802 [01:50<03:23,  6.17it/s]\u001B[A\n",
      " 31%|███       | 560/1802 [01:53<03:30,  5.91it/s]\u001B[A\n",
      " 32%|███▏      | 576/1802 [01:56<03:20,  6.11it/s]\u001B[A\n",
      " 33%|███▎      | 592/1802 [01:59<03:31,  5.72it/s]\u001B[A\n",
      " 34%|███▎      | 608/1802 [02:02<03:36,  5.52it/s]\u001B[A\n",
      " 35%|███▍      | 624/1802 [02:05<03:31,  5.56it/s]\u001B[A\n",
      " 36%|███▌      | 640/1802 [02:08<03:31,  5.50it/s]\u001B[A\n",
      " 36%|███▋      | 656/1802 [02:11<03:23,  5.64it/s]\u001B[A\n",
      " 37%|███▋      | 672/1802 [02:14<03:26,  5.47it/s]\u001B[A\n",
      " 38%|███▊      | 688/1802 [02:17<03:21,  5.53it/s]\u001B[A\n",
      " 39%|███▉      | 704/1802 [02:19<03:04,  5.95it/s]\u001B[A\n",
      " 40%|███▉      | 720/1802 [02:22<03:01,  5.95it/s]\u001B[A\n",
      " 41%|████      | 736/1802 [02:24<02:56,  6.05it/s]\u001B[A\n",
      " 42%|████▏     | 752/1802 [02:27<02:49,  6.20it/s]\u001B[A\n",
      " 43%|████▎     | 768/1802 [02:29<02:49,  6.09it/s]\u001B[A\n",
      " 44%|████▎     | 784/1802 [02:32<02:42,  6.25it/s]\u001B[A\n",
      " 44%|████▍     | 800/1802 [02:34<02:33,  6.54it/s]\u001B[A\n",
      " 45%|████▌     | 816/1802 [02:36<02:32,  6.45it/s]\u001B[A\n",
      " 46%|████▌     | 832/1802 [02:39<02:38,  6.12it/s]\u001B[A\n",
      " 47%|████▋     | 848/1802 [02:42<02:44,  5.80it/s]\u001B[A\n",
      " 48%|████▊     | 864/1802 [02:45<02:42,  5.77it/s]\u001B[A\n",
      " 49%|████▉     | 880/1802 [02:47<02:27,  6.27it/s]\u001B[A\n",
      " 50%|████▉     | 896/1802 [02:50<02:26,  6.18it/s]\u001B[A\n",
      " 51%|█████     | 912/1802 [02:53<02:28,  5.97it/s]\u001B[A\n",
      " 51%|█████▏    | 928/1802 [02:55<02:16,  6.39it/s]\u001B[A\n",
      " 52%|█████▏    | 944/1802 [02:58<02:23,  5.99it/s]\u001B[A\n",
      " 53%|█████▎    | 960/1802 [03:01<02:22,  5.90it/s]\u001B[A\n",
      " 54%|█████▍    | 976/1802 [03:03<02:13,  6.19it/s]\u001B[A\n",
      " 55%|█████▌    | 992/1802 [03:06<02:10,  6.23it/s]\u001B[A\n",
      " 56%|█████▌    | 1008/1802 [03:08<02:01,  6.56it/s]\u001B[A\n",
      " 57%|█████▋    | 1024/1802 [03:11<02:11,  5.92it/s]\u001B[A\n",
      " 58%|█████▊    | 1040/1802 [03:14<02:18,  5.51it/s]\u001B[A\n",
      " 59%|█████▊    | 1056/1802 [03:17<02:14,  5.54it/s]\u001B[A\n",
      " 59%|█████▉    | 1072/1802 [03:20<02:03,  5.92it/s]\u001B[A\n",
      " 60%|██████    | 1088/1802 [03:22<02:01,  5.88it/s]\u001B[A\n",
      " 61%|██████▏   | 1104/1802 [03:25<02:04,  5.61it/s]\u001B[A\n",
      " 62%|██████▏   | 1120/1802 [03:29<02:06,  5.37it/s]\u001B[A\n",
      " 63%|██████▎   | 1136/1802 [03:31<01:59,  5.59it/s]\u001B[A\n",
      " 64%|██████▍   | 1152/1802 [03:35<02:00,  5.38it/s]\u001B[A\n",
      " 65%|██████▍   | 1168/1802 [03:37<01:48,  5.83it/s]\u001B[A\n",
      " 66%|██████▌   | 1184/1802 [03:39<01:44,  5.90it/s]\u001B[A\n",
      " 67%|██████▋   | 1200/1802 [03:42<01:40,  5.98it/s]\u001B[A\n",
      " 67%|██████▋   | 1216/1802 [03:45<01:39,  5.87it/s]\u001B[A\n",
      " 68%|██████▊   | 1232/1802 [03:47<01:27,  6.49it/s]\u001B[A\n",
      " 69%|██████▉   | 1248/1802 [03:50<01:34,  5.89it/s]\u001B[A\n",
      " 70%|███████   | 1264/1802 [03:53<01:29,  6.01it/s]\u001B[A\n",
      " 71%|███████   | 1280/1802 [03:55<01:28,  5.90it/s]\u001B[A\n",
      " 72%|███████▏  | 1296/1802 [03:59<01:30,  5.60it/s]\u001B[A\n",
      " 73%|███████▎  | 1312/1802 [04:02<01:28,  5.54it/s]\u001B[A\n",
      " 74%|███████▎  | 1328/1802 [04:05<01:28,  5.38it/s]\u001B[A\n",
      " 75%|███████▍  | 1344/1802 [04:08<01:27,  5.26it/s]\u001B[A\n",
      " 75%|███████▌  | 1360/1802 [04:11<01:21,  5.40it/s]\u001B[A\n",
      " 76%|███████▋  | 1376/1802 [04:14<01:19,  5.35it/s]\u001B[A\n",
      " 77%|███████▋  | 1392/1802 [04:16<01:13,  5.55it/s]\u001B[A\n",
      " 78%|███████▊  | 1408/1802 [04:19<01:11,  5.53it/s]\u001B[A\n",
      " 79%|███████▉  | 1424/1802 [04:23<01:13,  5.13it/s]\u001B[A\n",
      " 80%|███████▉  | 1440/1802 [04:26<01:11,  5.06it/s]\u001B[A\n",
      " 81%|████████  | 1456/1802 [04:28<01:00,  5.71it/s]\u001B[A\n",
      " 82%|████████▏ | 1472/1802 [04:31<00:59,  5.51it/s]\u001B[A\n",
      " 83%|████████▎ | 1488/1802 [04:34<00:56,  5.54it/s]\u001B[A\n",
      " 83%|████████▎ | 1504/1802 [04:37<00:56,  5.32it/s]\u001B[A\n",
      " 84%|████████▍ | 1520/1802 [04:40<00:51,  5.50it/s]\u001B[A\n",
      " 85%|████████▌ | 1536/1802 [04:44<00:50,  5.24it/s]\u001B[A\n",
      " 86%|████████▌ | 1552/1802 [04:45<00:41,  6.04it/s]\u001B[A\n",
      " 87%|████████▋ | 1568/1802 [04:48<00:41,  5.64it/s]\u001B[A\n",
      " 88%|████████▊ | 1584/1802 [04:51<00:38,  5.69it/s]\u001B[A\n",
      " 89%|████████▉ | 1600/1802 [04:54<00:34,  5.91it/s]\u001B[A\n",
      " 90%|████████▉ | 1616/1802 [04:56<00:29,  6.31it/s]\u001B[A\n",
      " 91%|█████████ | 1632/1802 [04:58<00:26,  6.40it/s]\u001B[A\n",
      " 91%|█████████▏| 1648/1802 [05:01<00:25,  6.03it/s]\u001B[A\n",
      " 92%|█████████▏| 1664/1802 [05:04<00:22,  6.09it/s]\u001B[A\n",
      " 93%|█████████▎| 1680/1802 [05:06<00:19,  6.19it/s]\u001B[A\n",
      " 94%|█████████▍| 1696/1802 [05:09<00:16,  6.39it/s]\u001B[A\n",
      " 95%|█████████▌| 1712/1802 [05:11<00:13,  6.57it/s]\u001B[A\n",
      " 96%|█████████▌| 1728/1802 [05:13<00:11,  6.47it/s]\u001B[A\n",
      " 97%|█████████▋| 1744/1802 [05:17<00:09,  5.96it/s]\u001B[A\n",
      " 98%|█████████▊| 1760/1802 [05:19<00:07,  5.90it/s]\u001B[A\n",
      " 99%|█████████▊| 1776/1802 [05:22<00:04,  6.27it/s]\u001B[A\n",
      "100%|██████████| 1802/1802 [05:23<00:00,  5.56it/s]\u001B[A\n",
      "\n",
      "100%|██████████| 1802/1802 [00:00<00:00, 225051.69it/s]\n"
     ]
    },
    {
     "name": "stdout",
     "output_type": "stream",
     "text": [
      "Done!\n"
     ]
    }
   ],
   "source": [
    "deam_dataset.generate_x_y()"
   ],
   "metadata": {
    "collapsed": false,
    "pycharm": {
     "name": "#%%\n"
    }
   }
  },
  {
   "cell_type": "code",
   "source": [
    "torch.save(deam_dataset, dataset_path, pickle_protocol=4)"
   ],
   "metadata": {
    "colab": {
     "base_uri": "https://localhost:8080/",
     "height": 165
    },
    "id": "-Rkbkmweg6Hh",
    "executionInfo": {
     "status": "error",
     "timestamp": 1651535126612,
     "user_tz": -120,
     "elapsed": 501,
     "user": {
      "displayName": "Victor Hug",
      "userId": "11181831673208928307"
     }
    },
    "outputId": "c224dd6e-6283-4b24-abf7-0b644bc99b96",
    "pycharm": {
     "name": "#%%\n"
    }
   },
   "execution_count": 15,
   "outputs": []
  },
  {
   "cell_type": "code",
   "source": [
    "dataset = deam_dataset"
   ],
   "metadata": {
    "colab": {
     "base_uri": "https://localhost:8080/"
    },
    "id": "ZD7N1v7bjnkN",
    "executionInfo": {
     "status": "ok",
     "timestamp": 1651529402930,
     "user_tz": -120,
     "elapsed": 3,
     "user": {
      "displayName": "Victor Hug",
      "userId": "11181831673208928307"
     }
    },
    "outputId": "b78e6847-6b9e-490e-ae04-31e36f93ec1a",
    "pycharm": {
     "name": "#%%\n"
    }
   },
   "execution_count": 18,
   "outputs": []
  },
  {
   "cell_type": "code",
   "source": [
    "dataset.labels.shape"
   ],
   "metadata": {
    "colab": {
     "base_uri": "https://localhost:8080/"
    },
    "id": "Gn6IEg4FkD49",
    "executionInfo": {
     "status": "ok",
     "timestamp": 1651525045196,
     "user_tz": -120,
     "elapsed": 187,
     "user": {
      "displayName": "Victor Hug",
      "userId": "11181831673208928307"
     }
    },
    "outputId": "e1fa9671-4ef4-4dad-ce40-b52eca3a0b1c",
    "pycharm": {
     "name": "#%%\n"
    }
   },
   "execution_count": 15,
   "outputs": [
    {
     "data": {
      "text/plain": "(3604, 2)"
     },
     "execution_count": 15,
     "metadata": {},
     "output_type": "execute_result"
    }
   ]
  },
  {
   "cell_type": "code",
   "execution_count": 4,
   "outputs": [
    {
     "name": "stderr",
     "output_type": "stream",
     "text": [
      "C:\\Users\\info\\anaconda3\\envs\\music-emotion-detection\\lib\\site-packages\\librosa\\util\\decorators.py:88: UserWarning: PySoundFile failed. Trying audioread instead.\n",
      "  return f(*args, **kwargs)\n"
     ]
    }
   ],
   "source": [
    "test = lr.load(audio_base_path + '2.mp3', sr=44100)"
   ],
   "metadata": {
    "collapsed": false,
    "pycharm": {
     "name": "#%%\n"
    }
   }
  },
  {
   "cell_type": "markdown",
   "metadata": {
    "id": "w26D-0qOKhMe",
    "pycharm": {
     "name": "#%% md\n"
    }
   },
   "source": [
    "# Model"
   ]
  },
  {
   "cell_type": "code",
   "source": [
    "from sklearn.model_selection import train_test_split\n",
    "from torch.utils.data import DataLoader, Subset\n",
    "from torch.utils.data.sampler import SubsetRandomSampler\n"
   ],
   "metadata": {
    "id": "FyY9ih7QYZDK",
    "pycharm": {
     "name": "#%%\n"
    }
   },
   "execution_count": 19,
   "outputs": []
  },
  {
   "cell_type": "code",
   "execution_count": 20,
   "metadata": {
    "id": "-UrlNhndUy_Z",
    "pycharm": {
     "name": "#%%\n"
    }
   },
   "outputs": [],
   "source": [
    "batch_size = 128\n",
    "validation_split = .2\n",
    "shuffle_dataset = True\n",
    "random_seed = 42\n",
    "\n",
    "dataset_size = len(dataset)\n",
    "indices = list(range(dataset_size))\n",
    "split = int(np.floor(validation_split * dataset_size))\n",
    "if shuffle_dataset:\n",
    "    np.random.seed(random_seed)\n",
    "    np.random.shuffle(indices)\n",
    "train_indices, val_indices = indices[split:], indices[:split]\n",
    "\n",
    "train_sampler = SubsetRandomSampler(train_indices)\n",
    "valid_sampler = SubsetRandomSampler(val_indices)\n",
    "\n",
    "train_loader = torch.utils.data.DataLoader(dataset, batch_size=batch_size,\n",
    "                                           sampler=train_sampler)\n",
    "validation_loader = torch.utils.data.DataLoader(dataset, batch_size=batch_size,\n",
    "                                                sampler=valid_sampler)\n"
   ]
  },
  {
   "cell_type": "code",
   "execution_count": 21,
   "outputs": [],
   "source": [
    "class MFCCNet(nn.Module):\n",
    "    def __init__(self):\n",
    "        super().__init__()\n",
    "        self.conv1 = nn.Conv2d(1, 5, (2, 15))\n",
    "        self.pool1 = nn.MaxPool2d((2, 5))\n",
    "        self.dropout2d1 = nn.Dropout2d(p=0.1, inplace=False)\n",
    "        self.conv2 = nn.Conv2d(5, 5, 5)\n",
    "        self.pool2 = nn.MaxPool2d((1,3))\n",
    "        self.fc1 = nn.Linear(1550, 120)\n",
    "        self.dropout1 = nn.Dropout(p=0.1, inplace=False)\n",
    "        self.fc2 = nn.Linear(120, 84)\n",
    "        self.fc3 = nn.Linear(84, 2)\n",
    "\n",
    "    def forward(self, x):\n",
    "        x = x[:, None, :, :]\n",
    "        x = self.dropout2d1(self.pool1(F.relu(self.conv1(x))))\n",
    "        x = self.pool2(F.relu(self.conv2(x)))\n",
    "        x = torch.flatten(x, 1) # flatten all dimensions except batch\n",
    "        x = self.dropout1(F.relu(self.fc1(x)))\n",
    "        x = F.relu(self.fc2(x))\n",
    "        x = self.fc3(x)\n",
    "        return x\n"
   ],
   "metadata": {
    "collapsed": false,
    "pycharm": {
     "name": "#%%\n"
    }
   }
  },
  {
   "cell_type": "code",
   "execution_count": 27,
   "outputs": [],
   "source": [
    "net = MFCCNet()"
   ],
   "metadata": {
    "collapsed": false,
    "pycharm": {
     "name": "#%%\n"
    }
   }
  },
  {
   "cell_type": "code",
   "execution_count": 28,
   "outputs": [],
   "source": [
    "criterion = nn.MSELoss()\n",
    "optimizer = torch.optim.Adam(net.parameters())"
   ],
   "metadata": {
    "collapsed": false,
    "pycharm": {
     "name": "#%%\n"
    }
   }
  },
  {
   "cell_type": "code",
   "execution_count": 29,
   "outputs": [],
   "source": [
    "from sklearn.metrics import r2_score"
   ],
   "metadata": {
    "collapsed": false,
    "pycharm": {
     "name": "#%%\n"
    }
   }
  },
  {
   "cell_type": "code",
   "execution_count": 30,
   "outputs": [],
   "source": [
    "val_loss = []\n",
    "train_loss = []\n",
    "\n",
    "for epoch in range(15):\n",
    "\n",
    "    with torch.set_grad_enabled(False):\n",
    "        sum = 0.0\n",
    "        sum_r2 = 0.0\n",
    "        for test_batch, test_y in validation_loader:\n",
    "            pred = net(test_batch)\n",
    "            loss = criterion(pred, test_y)\n",
    "            sum_r2 += r2_score(test_y, pred)\n",
    "            sum += loss.item()\n",
    "        val_loss.append([float(epoch), sum / len(validation_loader), sum_r2 / len(validation_loader)])\n",
    "\n",
    "    i = 0\n",
    "    for local_batch, local_labels in train_loader:\n",
    "        optimizer.zero_grad()\n",
    "\n",
    "        # prediction for training and validation set\n",
    "        pred = net(local_batch)\n",
    "        # computing the training and validation loss\n",
    "        loss_train = criterion(pred, local_labels)\n",
    "        loss_train.backward()\n",
    "        optimizer.step()\n",
    "\n",
    "        i += 1\n",
    "        train_loss.append([float(epoch + i/len(train_loader)), loss_train.item()])"
   ],
   "metadata": {
    "collapsed": false,
    "pycharm": {
     "name": "#%%\n"
    }
   }
  },
  {
   "cell_type": "code",
   "execution_count": 31,
   "outputs": [
    {
     "data": {
      "text/plain": "<matplotlib.legend.Legend at 0x25f09dfb208>"
     },
     "execution_count": 31,
     "metadata": {},
     "output_type": "execute_result"
    },
    {
     "data": {
      "text/plain": "<Figure size 1080x1080 with 1 Axes>",
      "image/png": "[encoded data removed]"
     },
     "metadata": {
      "needs_background": "light"
     },
     "output_type": "display_data"
    }
   ],
   "source": [
    "val_loss = np.array(val_loss)\n",
    "train_loss = np.array(train_loss)\n",
    "\n",
    "fig, ax = plt.subplots(figsize=(15,15))\n",
    "ax.plot(train_loss[5:, 0], train_loss[5:, 1], label='Trainings Loss')\n",
    "ax.plot(val_loss[:, 0], val_loss[:, 1], label='Validation Loss')\n",
    "ax.plot(val_loss[1:, 0], val_loss[1:, 2], label='R2 Score')\n",
    "ax.legend()"
   ],
   "metadata": {
    "collapsed": false,
    "pycharm": {
     "name": "#%%\n"
    }
   }
  },
  {
   "cell_type": "code",
   "execution_count": 32,
   "outputs": [],
   "source": [],
   "metadata": {
    "collapsed": false,
    "pycharm": {
     "name": "#%%\n"
    }
   }
  },
  {
   "cell_type": "code",
   "execution_count": null,
   "outputs": [],
   "source": [],
   "metadata": {
    "collapsed": false,
    "pycharm": {
     "name": "#%%\n"
    }
   }
  }
 ],
 "metadata": {
  "colab": {
   "collapsed_sections": [],
   "name": "feature_test111111.ipynb",
   "provenance": [],
   "mount_file_id": "1ci2tVI8qqrO0XIZMhLvoY4SxMxc6jbgW",
   "authorship_tag": "ABX9TyORiYtJKldOvX454hBcL1ts"
  },
  "kernelspec": {
   "display_name": "Python 3",
   "name": "python3"
  },
  "language_info": {
   "name": "python"
  }
 },
 "nbformat": 4,
 "nbformat_minor": 0
}