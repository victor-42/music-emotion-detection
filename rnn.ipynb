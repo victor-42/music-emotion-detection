{
 "cells": [
  {
   "cell_type": "markdown",
   "metadata": {
    "id": "OWFAl6KPGFGO",
    "pycharm": {
     "name": "#%% md\n"
    }
   },
   "source": [
    "### Imports and Helper"
   ]
  },
  {
   "cell_type": "code",
   "execution_count": 1,
   "metadata": {
    "id": "k6NVSfB6FOf1",
    "pycharm": {
     "name": "#%%\n"
    },
    "executionInfo": {
     "status": "ok",
     "timestamp": 1651790696665,
     "user_tz": -120,
     "elapsed": 237,
     "user": {
      "displayName": "Victor Hug",
      "userId": "11181831673208928307"
     }
    }
   },
   "outputs": [],
   "source": [
    "import pandas as pd\n",
    "import librosa as lr\n",
    "import librosa.display as lrd\n",
    "import time\n",
    "import warnings\n",
    "import matplotlib.pyplot as plt\n",
    "import numpy as np\n",
    "import torch.nn as nn\n",
    "from torch import Tensor\n",
    "import torch\n",
    "import torch.nn.functional as F\n",
    "import torch.optim as optim\n",
    "from torch.autograd import Variable\n",
    "from torch.optim import Adam, SGD\n",
    "from torch.utils.data import Dataset\n",
    "import math\n",
    "import datetime"
   ]
  },
  {
   "cell_type": "markdown",
   "metadata": {
    "id": "9zd0wvFiGCR3",
    "pycharm": {
     "name": "#%% md\n"
    }
   },
   "source": [
    "# Dataset"
   ]
  },
  {
   "cell_type": "code",
   "execution_count": 2,
   "metadata": {
    "id": "ipOeq0tEGKH1",
    "pycharm": {
     "name": "#%%\n"
    },
    "executionInfo": {
     "status": "ok",
     "timestamp": 1651790697582,
     "user_tz": -120,
     "elapsed": 2,
     "user": {
      "displayName": "Victor Hug",
      "userId": "11181831673208928307"
     }
    }
   },
   "outputs": [],
   "source": [
    "from librosa import util\n",
    "from joblib import Parallel, delayed\n",
    "from tqdm import tqdm"
   ]
  },
  {
   "cell_type": "code",
   "source": [
    "#from google.colab import drive\n",
    "#drive.mount('/content/drive')"
   ],
   "metadata": {
    "colab": {
     "base_uri": "https://localhost:8080/"
    },
    "id": "_ZSpIWhGN_YG",
    "executionInfo": {
     "status": "ok",
     "timestamp": 1651790650182,
     "user_tz": -120,
     "elapsed": 14878,
     "user": {
      "displayName": "Victor Hug",
      "userId": "11181831673208928307"
     }
    },
    "outputId": "53a026c9-85fc-4269-b900-a3a112501bcc"
   },
   "execution_count": 3,
   "outputs": []
  },
  {
   "cell_type": "code",
   "execution_count": 4,
   "outputs": [],
   "source": [
    "from customdataset import WindowedAudioDataset"
   ],
   "metadata": {
    "collapsed": false,
    "pycharm": {
     "name": "#%%\n"
    }
   }
  },
  {
   "cell_type": "code",
   "execution_count": 4,
   "metadata": {
    "id": "TzcezbKJ_lsO",
    "pycharm": {
     "name": "#%%\n"
    },
    "executionInfo": {
     "status": "ok",
     "timestamp": 1651790701108,
     "user_tz": -120,
     "elapsed": 251,
     "user": {
      "displayName": "Victor Hug",
      "userId": "11181831673208928307"
     }
    }
   },
   "outputs": [],
   "source": []
  },
  {
   "cell_type": "code",
   "execution_count": 5,
   "metadata": {
    "id": "0cZJU9PUFYkL",
    "pycharm": {
     "name": "#%%\n"
    },
    "executionInfo": {
     "status": "ok",
     "timestamp": 1651790701991,
     "user_tz": -120,
     "elapsed": 1,
     "user": {
      "displayName": "Victor Hug",
      "userId": "11181831673208928307"
     }
    }
   },
   "outputs": [],
   "source": [
    "audio_base_path = 'data/MEMD_audio/'\n",
    "arousal_file = 'data/annotations/annotations averaged per song/dynamic (per second annotations)/arousal.csv'\n",
    "valence_file = 'data/annotations/annotations averaged per song/dynamic (per second annotations)/valence.csv'\n",
    "dataset_path = 'dataset.torchdata'"
   ]
  },
  {
   "cell_type": "code",
   "execution_count": 6,
   "metadata": {
    "id": "la_NrIEhFtPm",
    "pycharm": {
     "name": "#%%\n"
    },
    "executionInfo": {
     "status": "ok",
     "timestamp": 1651790704419,
     "user_tz": -120,
     "elapsed": 248,
     "user": {
      "displayName": "Victor Hug",
      "userId": "11181831673208928307"
     }
    }
   },
   "outputs": [],
   "source": [
    "deam_dataset = WindowedAudioDataset(arousal_file,\n",
    "                                    valence_file,\n",
    "                                    audio_base_path,\n",
    "                                    window_length=25.0,\n",
    "                                    window_hopsize=999.9,\n",
    "                                    mfcc_features=50,\n",
    "                                    feature_hop_len=22050,\n",
    "                                    feature_window_size=22050,\n",
    "                                    sequence_annotation=True\n",
    "                                    )"
   ]
  },
  {
   "cell_type": "code",
   "execution_count": 7,
   "outputs": [
    {
     "name": "stdout",
     "output_type": "stream",
     "text": [
      "Retrieving File Names and Labels...\n"
     ]
    },
    {
     "name": "stderr",
     "output_type": "stream",
     "text": [
      "1802it [00:40, 44.87it/s]\n"
     ]
    },
    {
     "name": "stdout",
     "output_type": "stream",
     "text": [
      "Done!\n",
      "Loading Files and Features...\n",
      "Using 16 Threads\n"
     ]
    },
    {
     "name": "stderr",
     "output_type": "stream",
     "text": [
      "100%|██████████| 1802/1802 [05:01<00:00,  5.97it/s]\n",
      "100%|██████████| 1802/1802 [00:00<00:00, 360117.01it/s]"
     ]
    },
    {
     "name": "stdout",
     "output_type": "stream",
     "text": [
      "Done!\n"
     ]
    },
    {
     "name": "stderr",
     "output_type": "stream",
     "text": [
      "\n"
     ]
    }
   ],
   "source": [
    "deam_dataset.generate_x_y(worker=16)"
   ],
   "metadata": {
    "pycharm": {
     "name": "#%%\n"
    },
    "id": "p8Knnh_iNtn_",
    "executionInfo": {
     "status": "ok",
     "timestamp": 1651790704642,
     "user_tz": -120,
     "elapsed": 1,
     "user": {
      "displayName": "Victor Hug",
      "userId": "11181831673208928307"
     }
    }
   }
  },
  {
   "cell_type": "code",
   "source": [
    "dataset = deam_dataset"
   ],
   "metadata": {
    "id": "Hj0l6pv50ZwS",
    "executionInfo": {
     "status": "ok",
     "timestamp": 1651790704643,
     "user_tz": -120,
     "elapsed": 2,
     "user": {
      "displayName": "Victor Hug",
      "userId": "11181831673208928307"
     }
    }
   },
   "execution_count": 8,
   "outputs": []
  },
  {
   "cell_type": "code",
   "source": [
    "torch.save(deam_dataset, dataset_path, pickle_protocol=4)"
   ],
   "metadata": {
    "id": "-Rkbkmweg6Hh",
    "pycharm": {
     "name": "#%%\n"
    },
    "executionInfo": {
     "status": "ok",
     "timestamp": 1651790779190,
     "user_tz": -120,
     "elapsed": 74310,
     "user": {
      "displayName": "Victor Hug",
      "userId": "11181831673208928307"
     }
    }
   },
   "execution_count": 9,
   "outputs": []
  },
  {
   "cell_type": "code",
   "execution_count": 10,
   "outputs": [
    {
     "data": {
      "text/plain": "1802"
     },
     "execution_count": 10,
     "metadata": {},
     "output_type": "execute_result"
    }
   ],
   "source": [
    "len(deam_dataset.labels)"
   ],
   "metadata": {
    "collapsed": false,
    "pycharm": {
     "name": "#%%\n"
    }
   }
  },
  {
   "cell_type": "code",
   "source": [
    "dataset.mode = 'mfcc'"
   ],
   "metadata": {
    "id": "ZD7N1v7bjnkN",
    "pycharm": {
     "name": "#%%\n"
    },
    "executionInfo": {
     "status": "ok",
     "timestamp": 1651790779190,
     "user_tz": -120,
     "elapsed": 2,
     "user": {
      "displayName": "Victor Hug",
      "userId": "11181831673208928307"
     }
    }
   },
   "execution_count": 11,
   "outputs": []
  },
  {
   "cell_type": "code",
   "source": [
    "dataset[0][1].size()"
   ],
   "metadata": {
    "id": "Gn6IEg4FkD49",
    "pycharm": {
     "name": "#%%\n"
    },
    "executionInfo": {
     "status": "ok",
     "timestamp": 1651790779191,
     "user_tz": -120,
     "elapsed": 2,
     "user": {
      "displayName": "Victor Hug",
      "userId": "11181831673208928307"
     }
    }
   },
   "execution_count": 12,
   "outputs": [
    {
     "data": {
      "text/plain": "torch.Size([50, 2])"
     },
     "execution_count": 12,
     "metadata": {},
     "output_type": "execute_result"
    }
   ]
  },
  {
   "cell_type": "markdown",
   "metadata": {
    "id": "w26D-0qOKhMe",
    "pycharm": {
     "name": "#%% md\n"
    }
   },
   "source": [
    "# Model"
   ]
  },
  {
   "cell_type": "code",
   "execution_count": 13,
   "outputs": [],
   "source": [
    "from sklearn.metrics import r2_score"
   ],
   "metadata": {
    "pycharm": {
     "name": "#%%\n"
    },
    "id": "Rt3QCrNzNtoD",
    "executionInfo": {
     "status": "ok",
     "timestamp": 1651790806377,
     "user_tz": -120,
     "elapsed": 206,
     "user": {
      "displayName": "Victor Hug",
      "userId": "11181831673208928307"
     }
    }
   }
  },
  {
   "cell_type": "code",
   "source": [
    "from sklearn.model_selection import train_test_split\n",
    "from torch.utils.data import DataLoader, Subset\n",
    "from torch.utils.data.sampler import SubsetRandomSampler\n",
    "device = 'cuda' if torch.cuda.is_available() else 'cpu'"
   ],
   "metadata": {
    "id": "FyY9ih7QYZDK",
    "pycharm": {
     "name": "#%%\n"
    },
    "executionInfo": {
     "status": "ok",
     "timestamp": 1651790806878,
     "user_tz": -120,
     "elapsed": 221,
     "user": {
      "displayName": "Victor Hug",
      "userId": "11181831673208928307"
     }
    }
   },
   "execution_count": 14,
   "outputs": []
  },
  {
   "cell_type": "code",
   "execution_count": 15,
   "metadata": {
    "id": "-UrlNhndUy_Z",
    "pycharm": {
     "name": "#%%\n"
    },
    "executionInfo": {
     "status": "ok",
     "timestamp": 1651790806879,
     "user_tz": -120,
     "elapsed": 1,
     "user": {
      "displayName": "Victor Hug",
      "userId": "11181831673208928307"
     }
    }
   },
   "outputs": [],
   "source": [
    "batch_size = 32\n",
    "validation_split = .2\n",
    "shuffle_dataset = True\n",
    "random_seed = 42\n",
    "train_size = int(0.8 * len(deam_dataset))\n",
    "test_size = len(deam_dataset) - train_size\n",
    "train_dataset, test_dataset = torch.utils.data.random_split(deam_dataset, [train_size, test_size])\n",
    "\n",
    "train_loader = torch.utils.data.DataLoader(train_dataset, batch_size=batch_size)\n",
    "validation_loader = torch.utils.data.DataLoader(test_dataset, batch_size=batch_size)\n"
   ]
  },
  {
   "cell_type": "code",
   "execution_count": 16,
   "outputs": [
    {
     "name": "stdout",
     "output_type": "stream",
     "text": [
      "torch.Size([32, 50, 50])\n"
     ]
    }
   ],
   "source": [
    "for x, y in train_loader:\n",
    "    print(x.size())\n",
    "    break"
   ],
   "metadata": {
    "collapsed": false,
    "pycharm": {
     "name": "#%%\n"
    }
   }
  },
  {
   "cell_type": "markdown",
   "source": [
    "### Model"
   ],
   "metadata": {
    "id": "RhDHl6Kpxbvm"
   }
  },
  {
   "cell_type": "code",
   "execution_count": 17,
   "outputs": [],
   "source": [
    "class PositionalEncoding(nn.Module):\n",
    "\n",
    "    def __init__(self, d_model: int, dropout: float = 0.1, max_len: int = 5000):\n",
    "        super().__init__()\n",
    "        self.dropout = nn.Dropout(p=dropout)\n",
    "\n",
    "        position = torch.arange(max_len).unsqueeze(1)\n",
    "        div_term = torch.exp(torch.arange(0, d_model, 2) * (-math.log(10000.0) / d_model))\n",
    "        pe = torch.zeros(max_len, 1, d_model)\n",
    "        pe[:, 0, 0::2] = torch.sin(position * div_term)\n",
    "        pe[:, 0, 1::2] = torch.cos(position * div_term)\n",
    "        self.register_buffer('pe', pe)\n",
    "\n",
    "    def forward(self, x: Tensor) -> Tensor:\n",
    "        \"\"\"\n",
    "        Args:\n",
    "            x: Tensor, shape [seq_len, batch_size, embedding_dim]\n",
    "        \"\"\"\n",
    "        x = x + self.pe[:x.size(0)]\n",
    "        return self.dropout(x)"
   ],
   "metadata": {
    "collapsed": false,
    "pycharm": {
     "name": "#%%\n"
    }
   }
  },
  {
   "cell_type": "code",
   "execution_count": 17,
   "outputs": [],
   "source": [],
   "metadata": {
    "collapsed": false,
    "pycharm": {
     "name": "#%%\n"
    }
   }
  },
  {
   "cell_type": "code",
   "execution_count": 18,
   "outputs": [],
   "source": [
    "def batchify(data: Tensor, bsz: int) -> Tensor:\n",
    "    \"\"\"Divides the data into bsz separate sequences, removing extra elements\n",
    "    that wouldn't cleanly fit.\n",
    "\n",
    "    Args:\n",
    "        data: Tensor, shape [N]\n",
    "        bsz: int, batch size\n",
    "\n",
    "    Returns:\n",
    "        Tensor of shape [N // bsz, bsz]\n",
    "    \"\"\"\n",
    "    seq_len = data.size(0) // bsz\n",
    "    data = data[:seq_len * bsz]\n",
    "    data = data.view(bsz, seq_len).t().contiguous()\n",
    "    return data.to(device)\n"
   ],
   "metadata": {
    "collapsed": false,
    "pycharm": {
     "name": "#%%\n"
    }
   }
  },
  {
   "cell_type": "code",
   "source": [
    "import math\n",
    "\n",
    "import torch\n",
    "from torch import nn, Tensor\n",
    "from torch.nn import TransformerEncoder, TransformerEncoderLayer\n",
    "from torch.utils.data import dataset\n",
    "\n",
    "class TransformerModel(nn.Module):\n",
    "\n",
    "    def __init__(self, ntoken: int, d_model: int, nhead: int, d_hid: int,\n",
    "                 nlayers: int, dropout: float = 0.5):\n",
    "        super().__init__()\n",
    "        self.model_type = 'Transformer'\n",
    "        self.pos_encoder = PositionalEncoding(d_model, dropout)\n",
    "        encoder_layers = TransformerEncoderLayer(d_model, nhead, d_hid, dropout)\n",
    "        self.transformer_encoder = TransformerEncoder(encoder_layers, nlayers)\n",
    "        self.encoder = nn.Embedding(ntoken, d_model)\n",
    "        self.d_model = d_model\n",
    "        self.decoder = nn.Linear(d_model, ntoken)\n",
    "\n",
    "        self.init_weights()\n",
    "\n",
    "    def init_weights(self) -> None:\n",
    "        initrange = 0.1\n",
    "        self.encoder.weight.data.uniform_(-initrange, initrange)\n",
    "        self.decoder.bias.data.zero_()\n",
    "        self.decoder.weight.data.uniform_(-initrange, initrange)\n",
    "\n",
    "    def forward(self, src: Tensor, src_mask: Tensor) -> Tensor:\n",
    "        \"\"\"\n",
    "        Args:\n",
    "            src: Tensor, shape [seq_len, batch_size]\n",
    "            src_mask: Tensor, shape [seq_len, seq_len]\n",
    "\n",
    "        Returns:\n",
    "            output Tensor of shape [seq_len, batch_size, ntoken]\n",
    "        \"\"\"\n",
    "        src = self.encoder(src) * math.sqrt(self.d_model)\n",
    "        src = self.pos_encoder(src)\n",
    "        output = self.transformer_encoder(src, src_mask)\n",
    "        output = self.decoder(output)\n",
    "        return output\n",
    "\n",
    "\n",
    "def generate_square_subsequent_mask(sz: int) -> Tensor:\n",
    "    \"\"\"Generates an upper-triangular matrix of -inf, with zeros on diag.\"\"\"\n",
    "    return torch.triu(torch.ones(sz, sz) * float('-inf'), diagonal=1)"
   ],
   "metadata": {
    "id": "LeKuZOQmZh_Y",
    "executionInfo": {
     "status": "ok",
     "timestamp": 1651790779736,
     "user_tz": -120,
     "elapsed": 2,
     "user": {
      "displayName": "Victor Hug",
      "userId": "11181831673208928307"
     }
    }
   },
   "execution_count": 19,
   "outputs": []
  },
  {
   "cell_type": "code",
   "execution_count": 19,
   "outputs": [],
   "source": [],
   "metadata": {
    "collapsed": false,
    "pycharm": {
     "name": "#%%\n"
    }
   }
  },
  {
   "cell_type": "code",
   "execution_count": 43,
   "outputs": [],
   "source": [
    "class LSTMNet(nn.Module):\n",
    "\n",
    "    def __init__(self, embedding_dim=50, hidden_dim=64, target_size=2, dropout=0.2):\n",
    "        super(LSTMNet, self).__init__()\n",
    "        self.hidden_dim = hidden_dim\n",
    "\n",
    "        # The LSTM takes word embeddings as inputs, and outputs hidden states\n",
    "        # with dimensionality hidden_dim.\n",
    "        self.lstm = nn.LSTM(embedding_dim, hidden_dim, dropout=dropout, num_layers=24, batch_first=True)\n",
    "\n",
    "        # The linear layer that maps from hidden state space to tag space\n",
    "        self.linear = nn.Linear(hidden_dim, 32, bias=True)\n",
    "        self.relu = nn.ReLU()\n",
    "        self.linear2 = nn.Linear(32, 2, bias=True)\n",
    "\n",
    "    def forward(self, x):\n",
    "        x, _ = self.lstm(x)\n",
    "        x = self.relu(self.linear(x))\n",
    "        x = self.linear2(x)\n",
    "        return x"
   ],
   "metadata": {
    "collapsed": false,
    "pycharm": {
     "name": "#%%\n"
    }
   }
  },
  {
   "cell_type": "code",
   "source": [
    "net = LSTMNet().to(device)"
   ],
   "metadata": {
    "id": "kFnPWCxIbgO-",
    "executionInfo": {
     "status": "ok",
     "timestamp": 1651791367492,
     "user_tz": -120,
     "elapsed": 252,
     "user": {
      "displayName": "Victor Hug",
      "userId": "11181831673208928307"
     }
    }
   },
   "execution_count": 44,
   "outputs": []
  },
  {
   "cell_type": "code",
   "source": [
    "\"\"\"test = TransformerModel(\n",
    "    ntoken=2,\n",
    "    d_model=256,\n",
    "    nhead=2,\n",
    "    d_hid=256,\n",
    "    nlayers=2,\n",
    "    dropout=0.2,\n",
    "\n",
    ").to(device)\"\"\""
   ],
   "metadata": {
    "id": "p_DoRgjbxfN-",
    "executionInfo": {
     "status": "ok",
     "timestamp": 1651790784643,
     "user_tz": -120,
     "elapsed": 220,
     "user": {
      "displayName": "Victor Hug",
      "userId": "11181831673208928307"
     }
    }
   },
   "execution_count": 45,
   "outputs": [
    {
     "data": {
      "text/plain": "'test = TransformerModel(\\n    ntoken=2,\\n    d_model=256,\\n    nhead=2,\\n    d_hid=256,\\n    nlayers=2,\\n    dropout=0.2,\\n\\n).to(device)'"
     },
     "execution_count": 45,
     "metadata": {},
     "output_type": "execute_result"
    }
   ]
  },
  {
   "cell_type": "code",
   "execution_count": 46,
   "outputs": [],
   "source": [
    "testdata = deam_dataset[0][0][None, :, :]"
   ],
   "metadata": {
    "collapsed": false,
    "pycharm": {
     "name": "#%%\n"
    }
   }
  },
  {
   "cell_type": "code",
   "execution_count": 47,
   "outputs": [
    {
     "name": "stdout",
     "output_type": "stream",
     "text": [
      "torch.Size([1, 64])\n"
     ]
    },
    {
     "data": {
      "text/plain": "torch.Size([1, 2])"
     },
     "execution_count": 47,
     "metadata": {},
     "output_type": "execute_result"
    }
   ],
   "source": [
    "\n",
    "pred = net(testdata.to(device))\n",
    "pred.size()"
   ],
   "metadata": {
    "collapsed": false,
    "pycharm": {
     "name": "#%%\n"
    }
   }
  },
  {
   "cell_type": "code",
   "execution_count": 50,
   "outputs": [
    {
     "data": {
      "text/plain": "torch.Size([1, 2])"
     },
     "execution_count": 50,
     "metadata": {},
     "output_type": "execute_result"
    }
   ],
   "source": [
    "torch.Tensor(deam_dataset.labels[0][-1])[None, :].size()"
   ],
   "metadata": {
    "collapsed": false,
    "pycharm": {
     "name": "#%%\n"
    }
   }
  },
  {
   "cell_type": "code",
   "source": [
    "def get_n_params(model):\n",
    "    pp=0\n",
    "    for p in list(model.parameters()):\n",
    "        nn=1\n",
    "        for s in list(p.size()):\n",
    "            nn = nn*s\n",
    "        pp += nn\n",
    "    return pp"
   ],
   "metadata": {
    "id": "92q2hg_kVhCw",
    "executionInfo": {
     "status": "ok",
     "timestamp": 1651791606964,
     "user_tz": -120,
     "elapsed": 1,
     "user": {
      "displayName": "Victor Hug",
      "userId": "11181831673208928307"
     }
    }
   },
   "execution_count": 33,
   "outputs": []
  },
  {
   "cell_type": "code",
   "execution_count": 34,
   "outputs": [],
   "source": [
    "criterion = nn.MSELoss()\n",
    "optimizer = optim.SGD(net.parameters(), lr=0.01)"
   ],
   "metadata": {
    "collapsed": false,
    "pycharm": {
     "name": "#%%\n"
    }
   }
  },
  {
   "cell_type": "code",
   "source": [
    "def train(model, epochs=50):\n",
    "    train_loss = []\n",
    "    val_loss = []\n",
    "    for epoch in tqdm(range(epochs)):\n",
    "\n",
    "        sum_loss = 0.0\n",
    "        sum_r2 = 0.0\n",
    "        with torch.set_grad_enabled(False):\n",
    "            for x, y in validation_loader:\n",
    "                pred = model(x.to(device))\n",
    "                loss = criterion(pred, y.to(device))\n",
    "                sum_loss += loss.item()\n",
    "                sum_r2 += r2_score(y.flatten(), pred.cpu().flatten())\n",
    "            val_loss.append([epoch, sum_loss / len(validation_loader), sum_r2 / len(validation_loader)])\n",
    "\n",
    "        for i, (x, y) in enumerate(train_loader, 0):\n",
    "                optimizer.zero_grad()\n",
    "                pred = model(x.to(device))\n",
    "                loss = criterion(pred, y)\n",
    "                loss.backward()\n",
    "                optimizer.step()\n",
    "                train_loss.append([float(epoch + i/len(train_loader)), loss.item()])\n",
    "\n",
    "    return np.array(train_loss), np.array(val_loss)\n",
    "\n",
    "train_loss, val_loss = train(net)"
   ],
   "metadata": {
    "colab": {
     "base_uri": "https://localhost:8080/"
    },
    "id": "Te4fo5bUuJUC",
    "executionInfo": {
     "status": "ok",
     "timestamp": 1651791606965,
     "user_tz": -120,
     "elapsed": 2,
     "user": {
      "displayName": "Victor Hug",
      "userId": "11181831673208928307"
     }
    },
    "outputId": "4279b04b-d6a1-4bfb-e517-5bb1edd5b6bc"
   },
   "execution_count": 35,
   "outputs": [
    {
     "name": "stderr",
     "output_type": "stream",
     "text": [
      "100%|██████████| 50/50 [21:32<00:00, 25.84s/it]\n"
     ]
    }
   ]
  },
  {
   "cell_type": "code",
   "execution_count": 35,
   "outputs": [],
   "source": [],
   "metadata": {
    "collapsed": false,
    "pycharm": {
     "name": "#%%\n"
    }
   }
  },
  {
   "cell_type": "code",
   "source": [
    "plt.plot(train_loss[:, 0], np.sqrt(train_loss[:, 1]))"
   ],
   "metadata": {
    "id": "y3Zh0KMsVG9s",
    "executionInfo": {
     "status": "ok",
     "timestamp": 1651791608787,
     "user_tz": -120,
     "elapsed": 262,
     "user": {
      "displayName": "Victor Hug",
      "userId": "11181831673208928307"
     }
    }
   },
   "execution_count": 36,
   "outputs": [
    {
     "data": {
      "text/plain": "[<matplotlib.lines.Line2D at 0x1ebe51ccf28>]"
     },
     "execution_count": 36,
     "metadata": {},
     "output_type": "execute_result"
    },
    {
     "data": {
      "text/plain": "<Figure size 432x288 with 1 Axes>",
      "image/png": "[encoded data removed]"
     },
     "metadata": {
      "needs_background": "light"
     },
     "output_type": "display_data"
    }
   ]
  },
  {
   "cell_type": "code",
   "execution_count": 37,
   "outputs": [
    {
     "data": {
      "text/plain": "[<matplotlib.lines.Line2D at 0x1ebe52904a8>]"
     },
     "execution_count": 37,
     "metadata": {},
     "output_type": "execute_result"
    },
    {
     "data": {
      "text/plain": "<Figure size 432x288 with 1 Axes>",
      "image/png": "[encoded data removed]"
     },
     "metadata": {
      "needs_background": "light"
     },
     "output_type": "display_data"
    }
   ],
   "source": [
    "plt.plot(val_loss[:, 0], np.sqrt(val_loss[:, 1]))"
   ],
   "metadata": {
    "collapsed": false,
    "pycharm": {
     "name": "#%%\n"
    }
   }
  },
  {
   "cell_type": "code",
   "execution_count": 38,
   "outputs": [
    {
     "data": {
      "text/plain": "[<matplotlib.lines.Line2D at 0x1ebe53b2ba8>]"
     },
     "execution_count": 38,
     "metadata": {},
     "output_type": "execute_result"
    },
    {
     "data": {
      "text/plain": "<Figure size 432x288 with 1 Axes>",
      "image/png": "[encoded data removed]"
     },
     "metadata": {
      "needs_background": "light"
     },
     "output_type": "display_data"
    }
   ],
   "source": [
    "plt.plot(val_loss[:, 0], val_loss[:, 2])"
   ],
   "metadata": {
    "collapsed": false,
    "pycharm": {
     "name": "#%%\n"
    }
   }
  },
  {
   "cell_type": "code",
   "execution_count": 39,
   "outputs": [
    {
     "ename": "RuntimeError",
     "evalue": "invalid argument 0: Sizes of tensors must match except in dimension 0. Got 50 and 11 in dimension 2 at C:\\Users\\builder\\AppData\\Local\\Temp\\pip-req-build-m3brw02t\\aten\\src\\TH/generic/THTensor.cpp:612",
     "output_type": "error",
     "traceback": [
      "\u001B[1;31m---------------------------------------------------------------------------\u001B[0m",
      "\u001B[1;31mRuntimeError\u001B[0m                              Traceback (most recent call last)",
      "\u001B[1;32m<ipython-input-39-a9767ae494cc>\u001B[0m in \u001B[0;36m<module>\u001B[1;34m\u001B[0m\n\u001B[1;32m----> 1\u001B[1;33m \u001B[1;32mfor\u001B[0m \u001B[0mx\u001B[0m\u001B[1;33m,\u001B[0m \u001B[0my\u001B[0m \u001B[1;32min\u001B[0m \u001B[0mtrain_loader\u001B[0m\u001B[1;33m:\u001B[0m\u001B[1;33m\u001B[0m\u001B[1;33m\u001B[0m\u001B[0m\n\u001B[0m\u001B[0;32m      2\u001B[0m     \u001B[0mprint\u001B[0m\u001B[1;33m(\u001B[0m\u001B[0mx\u001B[0m\u001B[1;33m.\u001B[0m\u001B[0msize\u001B[0m\u001B[1;33m(\u001B[0m\u001B[1;33m)\u001B[0m\u001B[1;33m)\u001B[0m\u001B[1;33m\u001B[0m\u001B[1;33m\u001B[0m\u001B[0m\n\u001B[0;32m      3\u001B[0m     \u001B[0mprint\u001B[0m\u001B[1;33m(\u001B[0m\u001B[0my\u001B[0m\u001B[1;33m.\u001B[0m\u001B[0msize\u001B[0m\u001B[1;33m(\u001B[0m\u001B[1;33m)\u001B[0m\u001B[1;33m)\u001B[0m\u001B[1;33m\u001B[0m\u001B[1;33m\u001B[0m\u001B[0m\n\u001B[0;32m      4\u001B[0m     \u001B[1;32mbreak\u001B[0m\u001B[1;33m\u001B[0m\u001B[1;33m\u001B[0m\u001B[0m\n",
      "\u001B[1;32m~\\anaconda3\\envs\\lr\\lib\\site-packages\\torch\\utils\\data\\dataloader.py\u001B[0m in \u001B[0;36m__next__\u001B[1;34m(self)\u001B[0m\n\u001B[0;32m    343\u001B[0m \u001B[1;33m\u001B[0m\u001B[0m\n\u001B[0;32m    344\u001B[0m     \u001B[1;32mdef\u001B[0m \u001B[0m__next__\u001B[0m\u001B[1;33m(\u001B[0m\u001B[0mself\u001B[0m\u001B[1;33m)\u001B[0m\u001B[1;33m:\u001B[0m\u001B[1;33m\u001B[0m\u001B[1;33m\u001B[0m\u001B[0m\n\u001B[1;32m--> 345\u001B[1;33m         \u001B[0mdata\u001B[0m \u001B[1;33m=\u001B[0m \u001B[0mself\u001B[0m\u001B[1;33m.\u001B[0m\u001B[0m_next_data\u001B[0m\u001B[1;33m(\u001B[0m\u001B[1;33m)\u001B[0m\u001B[1;33m\u001B[0m\u001B[1;33m\u001B[0m\u001B[0m\n\u001B[0m\u001B[0;32m    346\u001B[0m         \u001B[0mself\u001B[0m\u001B[1;33m.\u001B[0m\u001B[0m_num_yielded\u001B[0m \u001B[1;33m+=\u001B[0m \u001B[1;36m1\u001B[0m\u001B[1;33m\u001B[0m\u001B[1;33m\u001B[0m\u001B[0m\n\u001B[0;32m    347\u001B[0m         \u001B[1;32mif\u001B[0m \u001B[0mself\u001B[0m\u001B[1;33m.\u001B[0m\u001B[0m_dataset_kind\u001B[0m \u001B[1;33m==\u001B[0m \u001B[0m_DatasetKind\u001B[0m\u001B[1;33m.\u001B[0m\u001B[0mIterable\u001B[0m \u001B[1;32mand\u001B[0m\u001B[0;31m \u001B[0m\u001B[0;31m\\\u001B[0m\u001B[1;33m\u001B[0m\u001B[1;33m\u001B[0m\u001B[0m\n",
      "\u001B[1;32m~\\anaconda3\\envs\\lr\\lib\\site-packages\\torch\\utils\\data\\dataloader.py\u001B[0m in \u001B[0;36m_next_data\u001B[1;34m(self)\u001B[0m\n\u001B[0;32m    383\u001B[0m     \u001B[1;32mdef\u001B[0m \u001B[0m_next_data\u001B[0m\u001B[1;33m(\u001B[0m\u001B[0mself\u001B[0m\u001B[1;33m)\u001B[0m\u001B[1;33m:\u001B[0m\u001B[1;33m\u001B[0m\u001B[1;33m\u001B[0m\u001B[0m\n\u001B[0;32m    384\u001B[0m         \u001B[0mindex\u001B[0m \u001B[1;33m=\u001B[0m \u001B[0mself\u001B[0m\u001B[1;33m.\u001B[0m\u001B[0m_next_index\u001B[0m\u001B[1;33m(\u001B[0m\u001B[1;33m)\u001B[0m  \u001B[1;31m# may raise StopIteration\u001B[0m\u001B[1;33m\u001B[0m\u001B[1;33m\u001B[0m\u001B[0m\n\u001B[1;32m--> 385\u001B[1;33m         \u001B[0mdata\u001B[0m \u001B[1;33m=\u001B[0m \u001B[0mself\u001B[0m\u001B[1;33m.\u001B[0m\u001B[0m_dataset_fetcher\u001B[0m\u001B[1;33m.\u001B[0m\u001B[0mfetch\u001B[0m\u001B[1;33m(\u001B[0m\u001B[0mindex\u001B[0m\u001B[1;33m)\u001B[0m  \u001B[1;31m# may raise StopIteration\u001B[0m\u001B[1;33m\u001B[0m\u001B[1;33m\u001B[0m\u001B[0m\n\u001B[0m\u001B[0;32m    386\u001B[0m         \u001B[1;32mif\u001B[0m \u001B[0mself\u001B[0m\u001B[1;33m.\u001B[0m\u001B[0m_pin_memory\u001B[0m\u001B[1;33m:\u001B[0m\u001B[1;33m\u001B[0m\u001B[1;33m\u001B[0m\u001B[0m\n\u001B[0;32m    387\u001B[0m             \u001B[0mdata\u001B[0m \u001B[1;33m=\u001B[0m \u001B[0m_utils\u001B[0m\u001B[1;33m.\u001B[0m\u001B[0mpin_memory\u001B[0m\u001B[1;33m.\u001B[0m\u001B[0mpin_memory\u001B[0m\u001B[1;33m(\u001B[0m\u001B[0mdata\u001B[0m\u001B[1;33m)\u001B[0m\u001B[1;33m\u001B[0m\u001B[1;33m\u001B[0m\u001B[0m\n",
      "\u001B[1;32m~\\anaconda3\\envs\\lr\\lib\\site-packages\\torch\\utils\\data\\_utils\\fetch.py\u001B[0m in \u001B[0;36mfetch\u001B[1;34m(self, possibly_batched_index)\u001B[0m\n\u001B[0;32m     45\u001B[0m         \u001B[1;32melse\u001B[0m\u001B[1;33m:\u001B[0m\u001B[1;33m\u001B[0m\u001B[1;33m\u001B[0m\u001B[0m\n\u001B[0;32m     46\u001B[0m             \u001B[0mdata\u001B[0m \u001B[1;33m=\u001B[0m \u001B[0mself\u001B[0m\u001B[1;33m.\u001B[0m\u001B[0mdataset\u001B[0m\u001B[1;33m[\u001B[0m\u001B[0mpossibly_batched_index\u001B[0m\u001B[1;33m]\u001B[0m\u001B[1;33m\u001B[0m\u001B[1;33m\u001B[0m\u001B[0m\n\u001B[1;32m---> 47\u001B[1;33m         \u001B[1;32mreturn\u001B[0m \u001B[0mself\u001B[0m\u001B[1;33m.\u001B[0m\u001B[0mcollate_fn\u001B[0m\u001B[1;33m(\u001B[0m\u001B[0mdata\u001B[0m\u001B[1;33m)\u001B[0m\u001B[1;33m\u001B[0m\u001B[1;33m\u001B[0m\u001B[0m\n\u001B[0m",
      "\u001B[1;32m~\\anaconda3\\envs\\lr\\lib\\site-packages\\torch\\utils\\data\\_utils\\collate.py\u001B[0m in \u001B[0;36mdefault_collate\u001B[1;34m(batch)\u001B[0m\n\u001B[0;32m     77\u001B[0m     \u001B[1;32melif\u001B[0m \u001B[0misinstance\u001B[0m\u001B[1;33m(\u001B[0m\u001B[0melem\u001B[0m\u001B[1;33m,\u001B[0m \u001B[0mcontainer_abcs\u001B[0m\u001B[1;33m.\u001B[0m\u001B[0mSequence\u001B[0m\u001B[1;33m)\u001B[0m\u001B[1;33m:\u001B[0m\u001B[1;33m\u001B[0m\u001B[1;33m\u001B[0m\u001B[0m\n\u001B[0;32m     78\u001B[0m         \u001B[0mtransposed\u001B[0m \u001B[1;33m=\u001B[0m \u001B[0mzip\u001B[0m\u001B[1;33m(\u001B[0m\u001B[1;33m*\u001B[0m\u001B[0mbatch\u001B[0m\u001B[1;33m)\u001B[0m\u001B[1;33m\u001B[0m\u001B[1;33m\u001B[0m\u001B[0m\n\u001B[1;32m---> 79\u001B[1;33m         \u001B[1;32mreturn\u001B[0m \u001B[1;33m[\u001B[0m\u001B[0mdefault_collate\u001B[0m\u001B[1;33m(\u001B[0m\u001B[0msamples\u001B[0m\u001B[1;33m)\u001B[0m \u001B[1;32mfor\u001B[0m \u001B[0msamples\u001B[0m \u001B[1;32min\u001B[0m \u001B[0mtransposed\u001B[0m\u001B[1;33m]\u001B[0m\u001B[1;33m\u001B[0m\u001B[1;33m\u001B[0m\u001B[0m\n\u001B[0m\u001B[0;32m     80\u001B[0m \u001B[1;33m\u001B[0m\u001B[0m\n\u001B[0;32m     81\u001B[0m     \u001B[1;32mraise\u001B[0m \u001B[0mTypeError\u001B[0m\u001B[1;33m(\u001B[0m\u001B[0mdefault_collate_err_msg_format\u001B[0m\u001B[1;33m.\u001B[0m\u001B[0mformat\u001B[0m\u001B[1;33m(\u001B[0m\u001B[0melem_type\u001B[0m\u001B[1;33m)\u001B[0m\u001B[1;33m)\u001B[0m\u001B[1;33m\u001B[0m\u001B[1;33m\u001B[0m\u001B[0m\n",
      "\u001B[1;32m~\\anaconda3\\envs\\lr\\lib\\site-packages\\torch\\utils\\data\\_utils\\collate.py\u001B[0m in \u001B[0;36m<listcomp>\u001B[1;34m(.0)\u001B[0m\n\u001B[0;32m     77\u001B[0m     \u001B[1;32melif\u001B[0m \u001B[0misinstance\u001B[0m\u001B[1;33m(\u001B[0m\u001B[0melem\u001B[0m\u001B[1;33m,\u001B[0m \u001B[0mcontainer_abcs\u001B[0m\u001B[1;33m.\u001B[0m\u001B[0mSequence\u001B[0m\u001B[1;33m)\u001B[0m\u001B[1;33m:\u001B[0m\u001B[1;33m\u001B[0m\u001B[1;33m\u001B[0m\u001B[0m\n\u001B[0;32m     78\u001B[0m         \u001B[0mtransposed\u001B[0m \u001B[1;33m=\u001B[0m \u001B[0mzip\u001B[0m\u001B[1;33m(\u001B[0m\u001B[1;33m*\u001B[0m\u001B[0mbatch\u001B[0m\u001B[1;33m)\u001B[0m\u001B[1;33m\u001B[0m\u001B[1;33m\u001B[0m\u001B[0m\n\u001B[1;32m---> 79\u001B[1;33m         \u001B[1;32mreturn\u001B[0m \u001B[1;33m[\u001B[0m\u001B[0mdefault_collate\u001B[0m\u001B[1;33m(\u001B[0m\u001B[0msamples\u001B[0m\u001B[1;33m)\u001B[0m \u001B[1;32mfor\u001B[0m \u001B[0msamples\u001B[0m \u001B[1;32min\u001B[0m \u001B[0mtransposed\u001B[0m\u001B[1;33m]\u001B[0m\u001B[1;33m\u001B[0m\u001B[1;33m\u001B[0m\u001B[0m\n\u001B[0m\u001B[0;32m     80\u001B[0m \u001B[1;33m\u001B[0m\u001B[0m\n\u001B[0;32m     81\u001B[0m     \u001B[1;32mraise\u001B[0m \u001B[0mTypeError\u001B[0m\u001B[1;33m(\u001B[0m\u001B[0mdefault_collate_err_msg_format\u001B[0m\u001B[1;33m.\u001B[0m\u001B[0mformat\u001B[0m\u001B[1;33m(\u001B[0m\u001B[0melem_type\u001B[0m\u001B[1;33m)\u001B[0m\u001B[1;33m)\u001B[0m\u001B[1;33m\u001B[0m\u001B[1;33m\u001B[0m\u001B[0m\n",
      "\u001B[1;32m~\\anaconda3\\envs\\lr\\lib\\site-packages\\torch\\utils\\data\\_utils\\collate.py\u001B[0m in \u001B[0;36mdefault_collate\u001B[1;34m(batch)\u001B[0m\n\u001B[0;32m     53\u001B[0m             \u001B[0mstorage\u001B[0m \u001B[1;33m=\u001B[0m \u001B[0melem\u001B[0m\u001B[1;33m.\u001B[0m\u001B[0mstorage\u001B[0m\u001B[1;33m(\u001B[0m\u001B[1;33m)\u001B[0m\u001B[1;33m.\u001B[0m\u001B[0m_new_shared\u001B[0m\u001B[1;33m(\u001B[0m\u001B[0mnumel\u001B[0m\u001B[1;33m)\u001B[0m\u001B[1;33m\u001B[0m\u001B[1;33m\u001B[0m\u001B[0m\n\u001B[0;32m     54\u001B[0m             \u001B[0mout\u001B[0m \u001B[1;33m=\u001B[0m \u001B[0melem\u001B[0m\u001B[1;33m.\u001B[0m\u001B[0mnew\u001B[0m\u001B[1;33m(\u001B[0m\u001B[0mstorage\u001B[0m\u001B[1;33m)\u001B[0m\u001B[1;33m\u001B[0m\u001B[1;33m\u001B[0m\u001B[0m\n\u001B[1;32m---> 55\u001B[1;33m         \u001B[1;32mreturn\u001B[0m \u001B[0mtorch\u001B[0m\u001B[1;33m.\u001B[0m\u001B[0mstack\u001B[0m\u001B[1;33m(\u001B[0m\u001B[0mbatch\u001B[0m\u001B[1;33m,\u001B[0m \u001B[1;36m0\u001B[0m\u001B[1;33m,\u001B[0m \u001B[0mout\u001B[0m\u001B[1;33m=\u001B[0m\u001B[0mout\u001B[0m\u001B[1;33m)\u001B[0m\u001B[1;33m\u001B[0m\u001B[1;33m\u001B[0m\u001B[0m\n\u001B[0m\u001B[0;32m     56\u001B[0m     \u001B[1;32melif\u001B[0m \u001B[0melem_type\u001B[0m\u001B[1;33m.\u001B[0m\u001B[0m__module__\u001B[0m \u001B[1;33m==\u001B[0m \u001B[1;34m'numpy'\u001B[0m \u001B[1;32mand\u001B[0m \u001B[0melem_type\u001B[0m\u001B[1;33m.\u001B[0m\u001B[0m__name__\u001B[0m \u001B[1;33m!=\u001B[0m \u001B[1;34m'str_'\u001B[0m\u001B[0;31m \u001B[0m\u001B[0;31m\\\u001B[0m\u001B[1;33m\u001B[0m\u001B[1;33m\u001B[0m\u001B[0m\n\u001B[0;32m     57\u001B[0m             \u001B[1;32mand\u001B[0m \u001B[0melem_type\u001B[0m\u001B[1;33m.\u001B[0m\u001B[0m__name__\u001B[0m \u001B[1;33m!=\u001B[0m \u001B[1;34m'string_'\u001B[0m\u001B[1;33m:\u001B[0m\u001B[1;33m\u001B[0m\u001B[1;33m\u001B[0m\u001B[0m\n",
      "\u001B[1;31mRuntimeError\u001B[0m: invalid argument 0: Sizes of tensors must match except in dimension 0. Got 50 and 11 in dimension 2 at C:\\Users\\builder\\AppData\\Local\\Temp\\pip-req-build-m3brw02t\\aten\\src\\TH/generic/THTensor.cpp:612"
     ]
    }
   ],
   "source": [
    "for x, y in train_loader:\n",
    "    print(x.size())\n",
    "    print(y.size())\n",
    "    break"
   ],
   "metadata": {
    "pycharm": {
     "name": "#%%\n"
    },
    "id": "tDULMyhpNtoD",
    "executionInfo": {
     "status": "ok",
     "timestamp": 1651791609041,
     "user_tz": -120,
     "elapsed": 1,
     "user": {
      "displayName": "Victor Hug",
      "userId": "11181831673208928307"
     }
    }
   }
  },
  {
   "cell_type": "code",
   "execution_count": 51,
   "outputs": [],
   "source": [],
   "metadata": {
    "pycharm": {
     "name": "#%%\n"
    },
    "id": "gforGz8INtoD",
    "executionInfo": {
     "status": "ok",
     "timestamp": 1651791609042,
     "user_tz": -120,
     "elapsed": 2,
     "user": {
      "displayName": "Victor Hug",
      "userId": "11181831673208928307"
     }
    }
   }
  },
  {
   "cell_type": "code",
   "execution_count": 106,
   "outputs": [],
   "source": [],
   "metadata": {
    "pycharm": {
     "name": "#%%\n"
    },
    "id": "Kl9O0kMyNtoE",
    "executionInfo": {
     "status": "ok",
     "timestamp": 1651771219352,
     "user_tz": -120,
     "elapsed": 1,
     "user": {
      "displayName": "Victor Hug",
      "userId": "11181831673208928307"
     }
    }
   }
  },
  {
   "cell_type": "code",
   "execution_count": 52,
   "outputs": [
    {
     "output_type": "stream",
     "name": "stderr",
     "text": [
      "100%|██████████| 150/150 [06:29<00:00,  2.60s/it]\n"
     ]
    }
   ],
   "source": [],
   "metadata": {
    "pycharm": {
     "name": "#%%\n"
    },
    "colab": {
     "base_uri": "https://localhost:8080/"
    },
    "id": "XEx3DrhXNtoE",
    "executionInfo": {
     "status": "ok",
     "timestamp": 1651792003538,
     "user_tz": -120,
     "elapsed": 390190,
     "user": {
      "displayName": "Victor Hug",
      "userId": "11181831673208928307"
     }
    },
    "outputId": "8b071b93-b1c2-450a-e0f6-d7127b45c8bc"
   }
  },
  {
   "cell_type": "code",
   "source": [
    ""
   ],
   "metadata": {
    "id": "mxk-Fm_mCXGH",
    "executionInfo": {
     "status": "ok",
     "timestamp": 1651771321678,
     "user_tz": -120,
     "elapsed": 3,
     "user": {
      "displayName": "Victor Hug",
      "userId": "11181831673208928307"
     }
    }
   },
   "execution_count": 107,
   "outputs": []
  },
  {
   "cell_type": "code",
   "source": [
    "print_stats(val_loss, train_loss, 10)"
   ],
   "metadata": {
    "colab": {
     "base_uri": "https://localhost:8080/",
     "height": 1000
    },
    "id": "g70e976IXliF",
    "executionInfo": {
     "status": "ok",
     "timestamp": 1651792004630,
     "user_tz": -120,
     "elapsed": 773,
     "user": {
      "displayName": "Victor Hug",
      "userId": "11181831673208928307"
     }
    },
    "outputId": "53a52064-3e67-46c2-fa10-ca377946c026"
   },
   "execution_count": 53,
   "outputs": [
    {
     "output_type": "stream",
     "name": "stdout",
     "text": [
      "Validation RMSE: \n",
      " Max: \t 0.25 \n",
      " Min: \t 0.21 \n",
      " Mean: \t 0.22 \n",
      " std: \t 0.01 \n",
      " \n",
      " Arousel RMSE: \n",
      " Max: \t 0.27 \n",
      " Min: \t 0.23 \n",
      " Mean: \t 0.24 \n",
      " std: \t 0.01 \n",
      " \n",
      " Valence RMSE: \n",
      " Max: \t 0.22 \n",
      " Min: \t 0.19 \n",
      " Mean: \t 0.20 \n",
      " std: \t 0.01 \n",
      " \n",
      " R2: \n",
      " Max: \t 0.25 \n",
      " Min: \t -0.09 \n",
      " Mean: \t 0.15 \n",
      " std: \t 0.05 \n",
      " \n",
      " \n"
     ]
    },
    {
     "output_type": "display_data",
     "data": {
      "text/plain": [
       "<Figure size 1440x720 with 2 Axes>"
      ],
      "image/png": "[encoded data removed]"
     },
     "metadata": {
      "needs_background": "light"
     }
    }
   ]
  },
  {
   "cell_type": "code",
   "source": [
    "def print_stats(val_loss, train_loss, start_mean_std=3):\n",
    "  f, (ax1, ax2) = plt.subplots(1, 2, sharey=True, figsize=(20,10))\n",
    "\n",
    "  val_loss = np.array(val_loss)\n",
    "  train_loss = np.array(train_loss)\n",
    "\n",
    "  ax1.plot(train_loss[5:, 0], np.sqrt(train_loss[5:, 1]), label='Trainings Loss')\n",
    "  ax1.plot(val_loss[:, 0], np.sqrt(val_loss[:, 1]), label='Validation Loss')\n",
    "  #ax2.plot(val_loss[1:, 0], val_loss[1:, 2], label='R2 Score')\n",
    "  ax1.plot(val_loss[:, 0], np.sqrt(val_loss[:, 3]), label='Validation Valence Loss')\n",
    "  ax1.plot(val_loss[:, 0], np.sqrt(val_loss[:, 4]), label='Validation Arousel Loss')\n",
    "\n",
    "  ax1.legend()\n",
    "\n",
    "  ax2.plot(val_loss[1:, 0], val_loss[1:, 2], label='R2 Score')\n",
    "\n",
    "  t = start_mean_std\n",
    "  rmses = np.sqrt(val_loss[t:, 1])\n",
    "  arousel = np.sqrt(val_loss[t:, 4])\n",
    "  valences = np.sqrt(val_loss[t:, 3])\n",
    "  r2 = val_loss[t:, 2]\n",
    "\n",
    "  print(f'Validation RMSE: \\n Max: \\t {np.max(rmses):.2f} \\n Min: \\t {np.min(rmses):.2f} \\n Mean: \\t {np.mean(rmses):.2f} \\n std: \\t {np.std(rmses):.2f} \\n \\n ' +\n",
    "        f'Arousel RMSE: \\n Max: \\t {np.max(arousel):.2f} \\n Min: \\t {np.min(arousel):.2f} \\n Mean: \\t {np.mean(arousel):.2f} \\n std: \\t {np.std(arousel):.2f} \\n \\n ' +\n",
    "        f'Valence RMSE: \\n Max: \\t {np.max(valences):.2f} \\n Min: \\t {np.min(valences):.2f} \\n Mean: \\t {np.mean(valences):.2f} \\n std: \\t {np.std(valences):.2f} \\n \\n ' +\n",
    "        f'R2: \\n Max: \\t {np.max(r2):.2f} \\n Min: \\t {np.min(r2):.2f} \\n Mean: \\t {np.mean(r2):.2f} \\n std: \\t {np.std(r2):.2f} \\n \\n ')\n",
    "\n"
   ],
   "metadata": {
    "id": "h0HfGbiiUxwN",
    "executionInfo": {
     "status": "ok",
     "timestamp": 1651790950134,
     "user_tz": -120,
     "elapsed": 209,
     "user": {
      "displayName": "Victor Hug",
      "userId": "11181831673208928307"
     }
    }
   },
   "execution_count": 28,
   "outputs": []
  },
  {
   "cell_type": "code",
   "source": [
    "# Test:\n",
    "print(dataset.file_names[20])\n",
    "print(dataset.labels[40])"
   ],
   "metadata": {
    "colab": {
     "base_uri": "https://localhost:8080/"
    },
    "id": "ffgjqvEWYCjJ",
    "executionInfo": {
     "status": "ok",
     "timestamp": 1651756791226,
     "user_tz": -120,
     "elapsed": 231,
     "user": {
      "displayName": "Victor Hug",
      "userId": "11181831673208928307"
     }
    },
    "outputId": "0ec13a5e-7ee3-4ba8-ec49-2828673e5bef"
   },
   "execution_count": 143,
   "outputs": [
    {
     "output_type": "stream",
     "name": "stdout",
     "text": [
      "37.mp3\n",
      "[0.1499005 0.3553182]\n"
     ]
    }
   ]
  },
  {
   "cell_type": "code",
   "source": [
    "net((dataset[40][0])[None, :, :].to(device))"
   ],
   "metadata": {
    "colab": {
     "base_uri": "https://localhost:8080/"
    },
    "id": "twfpKzI0XoOx",
    "executionInfo": {
     "status": "ok",
     "timestamp": 1651756862701,
     "user_tz": -120,
     "elapsed": 253,
     "user": {
      "displayName": "Victor Hug",
      "userId": "11181831673208928307"
     }
    },
    "outputId": "8ab66411-b708-490a-e6b1-9e9b08208a97"
   },
   "execution_count": 148,
   "outputs": [
    {
     "output_type": "execute_result",
     "data": {
      "text/plain": [
       "tensor([[0.1054, 0.1852]], device='cuda:0', grad_fn=<AddmmBackward0>)"
      ]
     },
     "metadata": {},
     "execution_count": 148
    }
   ]
  },
  {
   "cell_type": "code",
   "source": [
    ""
   ],
   "metadata": {
    "id": "3UPnCvu_YPSx"
   },
   "execution_count": null,
   "outputs": []
  }
 ],
 "metadata": {
  "colab": {
   "collapsed_sections": [],
   "name": "energie_tempogram.ipynb",
   "provenance": []
  },
  "kernelspec": {
   "display_name": "Python 3",
   "name": "python3"
  },
  "language_info": {
   "name": "python"
  },
  "accelerator": "GPU"
 },
 "nbformat": 4,
 "nbformat_minor": 0
}