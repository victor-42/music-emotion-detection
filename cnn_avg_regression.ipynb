{
 "nbformat": 4,
 "nbformat_minor": 0,
 "metadata": {
  "colab": {
   "name": "cnn_avg_regression.ipynb",
   "provenance": [],
   "mount_file_id": "1UEhoXh7R9339rUrjXH7xzu6PRRm9Ej9f",
   "authorship_tag": "ABX9TyNTSczVvLdRBlITxjPRmtMr"
  },
  "kernelspec": {
   "name": "python3",
   "display_name": "Python 3"
  },
  "language_info": {
   "name": "python"
  },
  "accelerator": "GPU"
 },
 "cells": [
  {
   "cell_type": "code",
   "execution_count": 1,
   "metadata": {
    "id": "1ljexEJjBk8I",
    "executionInfo": {
     "status": "ok",
     "timestamp": 1649796715119,
     "user_tz": -120,
     "elapsed": 3,
     "user": {
      "displayName": "Victor Hug",
      "userId": "11181831673208928307"
     }
    },
    "pycharm": {
     "name": "#%%\n"
    }
   },
   "outputs": [],
   "source": [
    "import pandas as pd\n",
    "import librosa as lr\n",
    "import soundfile as sf\n",
    "import time\n",
    "import warnings\n",
    "import numpy as np\n",
    "from os.path import exists\n"
   ]
  },
  {
   "cell_type": "markdown",
   "source": [
    "#### Helper"
   ],
   "metadata": {
    "id": "nOjIHyl_SRaj",
    "pycharm": {
     "name": "#%% md\n"
    }
   }
  },
  {
   "cell_type": "code",
   "source": [
    "from IPython.display import HTML, display\n",
    "\n",
    "def progress(value, max=100):\n",
    "    return HTML(\"\"\"\n",
    "        <progress\n",
    "            value='{value}'\n",
    "            max='{max}',\n",
    "            style='width: 100%'\n",
    "        >\n",
    "            {value}\n",
    "        </progress>\n",
    "    \"\"\".format(value=value, max=max))\n"
   ],
   "metadata": {
    "id": "0wRnyX7BSUr5",
    "executionInfo": {
     "status": "ok",
     "timestamp": 1649793828695,
     "user_tz": -120,
     "elapsed": 2,
     "user": {
      "displayName": "Victor Hug",
      "userId": "11181831673208928307"
     }
    },
    "pycharm": {
     "name": "#%%\n"
    }
   },
   "execution_count": 2,
   "outputs": []
  },
  {
   "cell_type": "markdown",
   "source": [
    "# Data Preperation (files and valence/arousal values)"
   ],
   "metadata": {
    "id": "BVp-VQB7RkjB",
    "pycharm": {
     "name": "#%% md\n"
    }
   }
  },
  {
   "cell_type": "code",
   "source": [
    "audio_base_path = '/home/victor/IdeaProjects/music-emotion-detection/data/DEAM/audio/MEMD_audio/'\n",
    "arousal_file = pd.read_csv('/home/victor/IdeaProjects/music-emotion-detection/data/DEAM/annotations/annotations averaged per song/dynamic (per second annotations)/arousal.csv')\n",
    "valence_file = pd.read_csv('/home/victor/IdeaProjects/music-emotion-detection/data/DEAM/annotations/annotations averaged per song/dynamic (per second annotations)/valence.csv')"
   ],
   "metadata": {
    "id": "KR2OuSA8B0lt",
    "executionInfo": {
     "status": "ok",
     "timestamp": 1649793829965,
     "user_tz": -120,
     "elapsed": 1272,
     "user": {
      "displayName": "Victor Hug",
      "userId": "11181831673208928307"
     }
    },
    "pycharm": {
     "name": "#%%\n"
    }
   },
   "execution_count": 3,
   "outputs": []
  },
  {
   "cell_type": "code",
   "source": [
    "arousal_file.columns"
   ],
   "metadata": {
    "colab": {
     "base_uri": "https://localhost:8080/"
    },
    "id": "bvFsgpyOB_6G",
    "executionInfo": {
     "status": "ok",
     "timestamp": 1649793829965,
     "user_tz": -120,
     "elapsed": 4,
     "user": {
      "displayName": "Victor Hug",
      "userId": "11181831673208928307"
     }
    },
    "outputId": "fbaa99cd-eab0-4d45-c755-d2700b9d6d9a",
    "pycharm": {
     "name": "#%%\n"
    }
   },
   "execution_count": 4,
   "outputs": [
    {
     "data": {
      "text/plain": "Index(['song_id', 'sample_15000ms', 'sample_15500ms', 'sample_16000ms',\n       'sample_16500ms', 'sample_17000ms', 'sample_17500ms', 'sample_18000ms',\n       'sample_18500ms', 'sample_19000ms',\n       ...\n       'sample_622000ms', 'sample_622500ms', 'sample_623000ms',\n       'sample_623500ms', 'sample_624000ms', 'sample_624500ms',\n       'sample_625000ms', 'sample_625500ms', 'sample_626000ms',\n       'sample_626500ms'],\n      dtype='object', length=1225)"
     },
     "execution_count": 4,
     "metadata": {},
     "output_type": "execute_result"
    }
   ]
  },
  {
   "cell_type": "code",
   "source": [
    "arousal_file.head()"
   ],
   "metadata": {
    "colab": {
     "base_uri": "https://localhost:8080/",
     "height": 299
    },
    "id": "MaGjbSrWF4kq",
    "executionInfo": {
     "status": "ok",
     "timestamp": 1649793829965,
     "user_tz": -120,
     "elapsed": 3,
     "user": {
      "displayName": "Victor Hug",
      "userId": "11181831673208928307"
     }
    },
    "outputId": "6e653ee4-05a0-4435-e932-cefcd83b3de0",
    "pycharm": {
     "name": "#%%\n"
    }
   },
   "execution_count": 5,
   "outputs": [
    {
     "data": {
      "text/plain": "   song_id  sample_15000ms  sample_15500ms  sample_16000ms  sample_16500ms  \\\n0        2       -0.109386       -0.114942       -0.116413       -0.118613   \n1        3       -0.110846       -0.123973       -0.131103       -0.135956   \n2        4        0.222327        0.179446        0.178388        0.184056   \n3        5       -0.255613       -0.251579       -0.251958       -0.251124   \n4        7        0.464234        0.460789        0.460991        0.461046   \n\n   sample_17000ms  sample_17500ms  sample_18000ms  sample_18500ms  \\\n0       -0.126457       -0.133199       -0.136855       -0.144713   \n1       -0.140775       -0.144664       -0.163118       -0.165218   \n2        0.176042        0.178720        0.176345        0.175793   \n3       -0.250763       -0.251957       -0.251957       -0.251957   \n4        0.457240        0.465702        0.471809        0.469918   \n\n   sample_19000ms  ...  sample_622000ms  sample_622500ms  sample_623000ms  \\\n0       -0.138985  ...              NaN              NaN              NaN   \n1       -0.158858  ...              NaN              NaN              NaN   \n2        0.176154  ...              NaN              NaN              NaN   \n3       -0.251957  ...              NaN              NaN              NaN   \n4        0.473377  ...              NaN              NaN              NaN   \n\n   sample_623500ms  sample_624000ms  sample_624500ms  sample_625000ms  \\\n0              NaN              NaN              NaN              NaN   \n1              NaN              NaN              NaN              NaN   \n2              NaN              NaN              NaN              NaN   \n3              NaN              NaN              NaN              NaN   \n4              NaN              NaN              NaN              NaN   \n\n   sample_625500ms  sample_626000ms  sample_626500ms  \n0              NaN              NaN              NaN  \n1              NaN              NaN              NaN  \n2              NaN              NaN              NaN  \n3              NaN              NaN              NaN  \n4              NaN              NaN              NaN  \n\n[5 rows x 1225 columns]",
      "text/html": "<div>\n<style scoped>\n    .dataframe tbody tr th:only-of-type {\n        vertical-align: middle;\n    }\n\n    .dataframe tbody tr th {\n        vertical-align: top;\n    }\n\n    .dataframe thead th {\n        text-align: right;\n    }\n</style>\n<table border=\"1\" class=\"dataframe\">\n  <thead>\n    <tr style=\"text-align: right;\">\n      <th></th>\n      <th>song_id</th>\n      <th>sample_15000ms</th>\n      <th>sample_15500ms</th>\n      <th>sample_16000ms</th>\n      <th>sample_16500ms</th>\n      <th>sample_17000ms</th>\n      <th>sample_17500ms</th>\n      <th>sample_18000ms</th>\n      <th>sample_18500ms</th>\n      <th>sample_19000ms</th>\n      <th>...</th>\n      <th>sample_622000ms</th>\n      <th>sample_622500ms</th>\n      <th>sample_623000ms</th>\n      <th>sample_623500ms</th>\n      <th>sample_624000ms</th>\n      <th>sample_624500ms</th>\n      <th>sample_625000ms</th>\n      <th>sample_625500ms</th>\n      <th>sample_626000ms</th>\n      <th>sample_626500ms</th>\n    </tr>\n  </thead>\n  <tbody>\n    <tr>\n      <th>0</th>\n      <td>2</td>\n      <td>-0.109386</td>\n      <td>-0.114942</td>\n      <td>-0.116413</td>\n      <td>-0.118613</td>\n      <td>-0.126457</td>\n      <td>-0.133199</td>\n      <td>-0.136855</td>\n      <td>-0.144713</td>\n      <td>-0.138985</td>\n      <td>...</td>\n      <td>NaN</td>\n      <td>NaN</td>\n      <td>NaN</td>\n      <td>NaN</td>\n      <td>NaN</td>\n      <td>NaN</td>\n      <td>NaN</td>\n      <td>NaN</td>\n      <td>NaN</td>\n      <td>NaN</td>\n    </tr>\n    <tr>\n      <th>1</th>\n      <td>3</td>\n      <td>-0.110846</td>\n      <td>-0.123973</td>\n      <td>-0.131103</td>\n      <td>-0.135956</td>\n      <td>-0.140775</td>\n      <td>-0.144664</td>\n      <td>-0.163118</td>\n      <td>-0.165218</td>\n      <td>-0.158858</td>\n      <td>...</td>\n      <td>NaN</td>\n      <td>NaN</td>\n      <td>NaN</td>\n      <td>NaN</td>\n      <td>NaN</td>\n      <td>NaN</td>\n      <td>NaN</td>\n      <td>NaN</td>\n      <td>NaN</td>\n      <td>NaN</td>\n    </tr>\n    <tr>\n      <th>2</th>\n      <td>4</td>\n      <td>0.222327</td>\n      <td>0.179446</td>\n      <td>0.178388</td>\n      <td>0.184056</td>\n      <td>0.176042</td>\n      <td>0.178720</td>\n      <td>0.176345</td>\n      <td>0.175793</td>\n      <td>0.176154</td>\n      <td>...</td>\n      <td>NaN</td>\n      <td>NaN</td>\n      <td>NaN</td>\n      <td>NaN</td>\n      <td>NaN</td>\n      <td>NaN</td>\n      <td>NaN</td>\n      <td>NaN</td>\n      <td>NaN</td>\n      <td>NaN</td>\n    </tr>\n    <tr>\n      <th>3</th>\n      <td>5</td>\n      <td>-0.255613</td>\n      <td>-0.251579</td>\n      <td>-0.251958</td>\n      <td>-0.251124</td>\n      <td>-0.250763</td>\n      <td>-0.251957</td>\n      <td>-0.251957</td>\n      <td>-0.251957</td>\n      <td>-0.251957</td>\n      <td>...</td>\n      <td>NaN</td>\n      <td>NaN</td>\n      <td>NaN</td>\n      <td>NaN</td>\n      <td>NaN</td>\n      <td>NaN</td>\n      <td>NaN</td>\n      <td>NaN</td>\n      <td>NaN</td>\n      <td>NaN</td>\n    </tr>\n    <tr>\n      <th>4</th>\n      <td>7</td>\n      <td>0.464234</td>\n      <td>0.460789</td>\n      <td>0.460991</td>\n      <td>0.461046</td>\n      <td>0.457240</td>\n      <td>0.465702</td>\n      <td>0.471809</td>\n      <td>0.469918</td>\n      <td>0.473377</td>\n      <td>...</td>\n      <td>NaN</td>\n      <td>NaN</td>\n      <td>NaN</td>\n      <td>NaN</td>\n      <td>NaN</td>\n      <td>NaN</td>\n      <td>NaN</td>\n      <td>NaN</td>\n      <td>NaN</td>\n      <td>NaN</td>\n    </tr>\n  </tbody>\n</table>\n<p>5 rows × 1225 columns</p>\n</div>"
     },
     "execution_count": 5,
     "metadata": {},
     "output_type": "execute_result"
    }
   ]
  },
  {
   "cell_type": "code",
   "source": [
    "arousal_file.loc[:, arousal_file.columns != 'song_id'].describe()"
   ],
   "metadata": {
    "colab": {
     "base_uri": "https://localhost:8080/",
     "height": 394
    },
    "id": "8zSvDrMXGDOV",
    "executionInfo": {
     "status": "ok",
     "timestamp": 1649793831753,
     "user_tz": -120,
     "elapsed": 1790,
     "user": {
      "displayName": "Victor Hug",
      "userId": "11181831673208928307"
     }
    },
    "outputId": "6977aa78-3277-44e6-bd62-216abba9efaf",
    "pycharm": {
     "name": "#%%\n"
    }
   },
   "execution_count": 6,
   "outputs": [
    {
     "data": {
      "text/plain": "       sample_15000ms  sample_15500ms  sample_16000ms  sample_16500ms  \\\ncount     1802.000000     1802.000000     1802.000000     1802.000000   \nmean         0.123961        0.124999        0.125694        0.126370   \nstd          0.266756        0.267682        0.268578        0.269261   \nmin         -0.654305       -0.654348       -0.655628       -0.663082   \n25%         -0.071864       -0.070000       -0.072250       -0.072093   \n50%          0.139000        0.140830        0.144438        0.144235   \n75%          0.341000        0.341581        0.343351        0.344000   \nmax          0.678000        0.687000        0.688000        0.696000   \n\n       sample_17000ms  sample_17500ms  sample_18000ms  sample_18500ms  \\\ncount     1802.000000     1802.000000     1802.000000     1802.000000   \nmean         0.126515        0.126578        0.126825        0.127375   \nstd          0.269770        0.270248        0.270959        0.272065   \nmin         -0.664821       -0.665411       -0.667466       -0.668622   \n25%         -0.073750       -0.069962       -0.076000       -0.076922   \n50%          0.143667        0.140169        0.141000        0.142247   \n75%          0.343506        0.344971        0.346750        0.348424   \nmax          0.693000        0.688000        0.695000        0.698000   \n\n       sample_19000ms  sample_19500ms  ...  sample_622000ms  sample_622500ms  \\\ncount     1802.000000     1802.000000  ...             1.00             1.00   \nmean         0.127409        0.127622  ...            -0.05            -0.05   \nstd          0.272942        0.273953  ...              NaN              NaN   \nmin         -0.661271       -0.663044  ...            -0.05            -0.05   \n25%         -0.077000       -0.077000  ...            -0.05            -0.05   \n50%          0.142000        0.144792  ...            -0.05            -0.05   \n75%          0.350978        0.351033  ...            -0.05            -0.05   \nmax          0.702000        0.696000  ...            -0.05            -0.05   \n\n       sample_623000ms  sample_623500ms  sample_624000ms  sample_624500ms  \\\ncount            1.000             1.00            1.000            1.000   \nmean            -0.056            -0.17           -0.236           -0.332   \nstd                NaN              NaN              NaN              NaN   \nmin             -0.056            -0.17           -0.236           -0.332   \n25%             -0.056            -0.17           -0.236           -0.332   \n50%             -0.056            -0.17           -0.236           -0.332   \n75%             -0.056            -0.17           -0.236           -0.332   \nmax             -0.056            -0.17           -0.236           -0.332   \n\n       sample_625000ms  sample_625500ms  sample_626000ms  sample_626500ms  \ncount             1.00            1.000             1.00            1.000  \nmean             -0.37           -0.392            -0.39           -0.378  \nstd                NaN              NaN              NaN              NaN  \nmin              -0.37           -0.392            -0.39           -0.378  \n25%              -0.37           -0.392            -0.39           -0.378  \n50%              -0.37           -0.392            -0.39           -0.378  \n75%              -0.37           -0.392            -0.39           -0.378  \nmax              -0.37           -0.392            -0.39           -0.378  \n\n[8 rows x 1224 columns]",
      "text/html": "<div>\n<style scoped>\n    .dataframe tbody tr th:only-of-type {\n        vertical-align: middle;\n    }\n\n    .dataframe tbody tr th {\n        vertical-align: top;\n    }\n\n    .dataframe thead th {\n        text-align: right;\n    }\n</style>\n<table border=\"1\" class=\"dataframe\">\n  <thead>\n    <tr style=\"text-align: right;\">\n      <th></th>\n      <th>sample_15000ms</th>\n      <th>sample_15500ms</th>\n      <th>sample_16000ms</th>\n      <th>sample_16500ms</th>\n      <th>sample_17000ms</th>\n      <th>sample_17500ms</th>\n      <th>sample_18000ms</th>\n      <th>sample_18500ms</th>\n      <th>sample_19000ms</th>\n      <th>sample_19500ms</th>\n      <th>...</th>\n      <th>sample_622000ms</th>\n      <th>sample_622500ms</th>\n      <th>sample_623000ms</th>\n      <th>sample_623500ms</th>\n      <th>sample_624000ms</th>\n      <th>sample_624500ms</th>\n      <th>sample_625000ms</th>\n      <th>sample_625500ms</th>\n      <th>sample_626000ms</th>\n      <th>sample_626500ms</th>\n    </tr>\n  </thead>\n  <tbody>\n    <tr>\n      <th>count</th>\n      <td>1802.000000</td>\n      <td>1802.000000</td>\n      <td>1802.000000</td>\n      <td>1802.000000</td>\n      <td>1802.000000</td>\n      <td>1802.000000</td>\n      <td>1802.000000</td>\n      <td>1802.000000</td>\n      <td>1802.000000</td>\n      <td>1802.000000</td>\n      <td>...</td>\n      <td>1.00</td>\n      <td>1.00</td>\n      <td>1.000</td>\n      <td>1.00</td>\n      <td>1.000</td>\n      <td>1.000</td>\n      <td>1.00</td>\n      <td>1.000</td>\n      <td>1.00</td>\n      <td>1.000</td>\n    </tr>\n    <tr>\n      <th>mean</th>\n      <td>0.123961</td>\n      <td>0.124999</td>\n      <td>0.125694</td>\n      <td>0.126370</td>\n      <td>0.126515</td>\n      <td>0.126578</td>\n      <td>0.126825</td>\n      <td>0.127375</td>\n      <td>0.127409</td>\n      <td>0.127622</td>\n      <td>...</td>\n      <td>-0.05</td>\n      <td>-0.05</td>\n      <td>-0.056</td>\n      <td>-0.17</td>\n      <td>-0.236</td>\n      <td>-0.332</td>\n      <td>-0.37</td>\n      <td>-0.392</td>\n      <td>-0.39</td>\n      <td>-0.378</td>\n    </tr>\n    <tr>\n      <th>std</th>\n      <td>0.266756</td>\n      <td>0.267682</td>\n      <td>0.268578</td>\n      <td>0.269261</td>\n      <td>0.269770</td>\n      <td>0.270248</td>\n      <td>0.270959</td>\n      <td>0.272065</td>\n      <td>0.272942</td>\n      <td>0.273953</td>\n      <td>...</td>\n      <td>NaN</td>\n      <td>NaN</td>\n      <td>NaN</td>\n      <td>NaN</td>\n      <td>NaN</td>\n      <td>NaN</td>\n      <td>NaN</td>\n      <td>NaN</td>\n      <td>NaN</td>\n      <td>NaN</td>\n    </tr>\n    <tr>\n      <th>min</th>\n      <td>-0.654305</td>\n      <td>-0.654348</td>\n      <td>-0.655628</td>\n      <td>-0.663082</td>\n      <td>-0.664821</td>\n      <td>-0.665411</td>\n      <td>-0.667466</td>\n      <td>-0.668622</td>\n      <td>-0.661271</td>\n      <td>-0.663044</td>\n      <td>...</td>\n      <td>-0.05</td>\n      <td>-0.05</td>\n      <td>-0.056</td>\n      <td>-0.17</td>\n      <td>-0.236</td>\n      <td>-0.332</td>\n      <td>-0.37</td>\n      <td>-0.392</td>\n      <td>-0.39</td>\n      <td>-0.378</td>\n    </tr>\n    <tr>\n      <th>25%</th>\n      <td>-0.071864</td>\n      <td>-0.070000</td>\n      <td>-0.072250</td>\n      <td>-0.072093</td>\n      <td>-0.073750</td>\n      <td>-0.069962</td>\n      <td>-0.076000</td>\n      <td>-0.076922</td>\n      <td>-0.077000</td>\n      <td>-0.077000</td>\n      <td>...</td>\n      <td>-0.05</td>\n      <td>-0.05</td>\n      <td>-0.056</td>\n      <td>-0.17</td>\n      <td>-0.236</td>\n      <td>-0.332</td>\n      <td>-0.37</td>\n      <td>-0.392</td>\n      <td>-0.39</td>\n      <td>-0.378</td>\n    </tr>\n    <tr>\n      <th>50%</th>\n      <td>0.139000</td>\n      <td>0.140830</td>\n      <td>0.144438</td>\n      <td>0.144235</td>\n      <td>0.143667</td>\n      <td>0.140169</td>\n      <td>0.141000</td>\n      <td>0.142247</td>\n      <td>0.142000</td>\n      <td>0.144792</td>\n      <td>...</td>\n      <td>-0.05</td>\n      <td>-0.05</td>\n      <td>-0.056</td>\n      <td>-0.17</td>\n      <td>-0.236</td>\n      <td>-0.332</td>\n      <td>-0.37</td>\n      <td>-0.392</td>\n      <td>-0.39</td>\n      <td>-0.378</td>\n    </tr>\n    <tr>\n      <th>75%</th>\n      <td>0.341000</td>\n      <td>0.341581</td>\n      <td>0.343351</td>\n      <td>0.344000</td>\n      <td>0.343506</td>\n      <td>0.344971</td>\n      <td>0.346750</td>\n      <td>0.348424</td>\n      <td>0.350978</td>\n      <td>0.351033</td>\n      <td>...</td>\n      <td>-0.05</td>\n      <td>-0.05</td>\n      <td>-0.056</td>\n      <td>-0.17</td>\n      <td>-0.236</td>\n      <td>-0.332</td>\n      <td>-0.37</td>\n      <td>-0.392</td>\n      <td>-0.39</td>\n      <td>-0.378</td>\n    </tr>\n    <tr>\n      <th>max</th>\n      <td>0.678000</td>\n      <td>0.687000</td>\n      <td>0.688000</td>\n      <td>0.696000</td>\n      <td>0.693000</td>\n      <td>0.688000</td>\n      <td>0.695000</td>\n      <td>0.698000</td>\n      <td>0.702000</td>\n      <td>0.696000</td>\n      <td>...</td>\n      <td>-0.05</td>\n      <td>-0.05</td>\n      <td>-0.056</td>\n      <td>-0.17</td>\n      <td>-0.236</td>\n      <td>-0.332</td>\n      <td>-0.37</td>\n      <td>-0.392</td>\n      <td>-0.39</td>\n      <td>-0.378</td>\n    </tr>\n  </tbody>\n</table>\n<p>8 rows × 1224 columns</p>\n</div>"
     },
     "execution_count": 6,
     "metadata": {},
     "output_type": "execute_result"
    }
   ]
  },
  {
   "cell_type": "code",
   "source": [
    "songs = pd.DataFrame()\n",
    "\n",
    "def add_mp3(value):\n",
    "    return str(value) + '.mp3'\n",
    "songs = songs.assign(file_name = arousal_file.loc[:, 'song_id'])\n",
    "songs.file_name = songs['file_name'].transform(add_mp3)\n",
    "songs = songs.assign(arousal_avg=arousal_file.loc[:, arousal_file.columns != 'song_id'].mean(axis=1))\n",
    "songs = songs.assign(valence_avg=valence_file.loc[:, valence_file.columns != 'song_id'].mean(axis=1))"
   ],
   "metadata": {
    "id": "F-XNP6h_CIXM",
    "executionInfo": {
     "status": "ok",
     "timestamp": 1649793831753,
     "user_tz": -120,
     "elapsed": 7,
     "user": {
      "displayName": "Victor Hug",
      "userId": "11181831673208928307"
     }
    },
    "pycharm": {
     "name": "#%%\n"
    }
   },
   "execution_count": 7,
   "outputs": []
  },
  {
   "cell_type": "code",
   "source": [
    "## Mean(Diviation of arousal float within the Songs)\n",
    "print('\\n\\n Arousal Deviation within Songs')\n",
    "print(arousal_file.loc[:, arousal_file.columns != 'song_id'].std(axis=1).describe())\n",
    "print('\\n\\n Valence Deviation within Songs')\n",
    "print(valence_file.loc[:, valence_file.columns != 'song_id'].std(axis=1).describe())"
   ],
   "metadata": {
    "colab": {
     "base_uri": "https://localhost:8080/"
    },
    "id": "yqMDSwSQGfQi",
    "executionInfo": {
     "status": "ok",
     "timestamp": 1649793831753,
     "user_tz": -120,
     "elapsed": 6,
     "user": {
      "displayName": "Victor Hug",
      "userId": "11181831673208928307"
     }
    },
    "outputId": "dbf1cdbf-6359-4cfb-81c0-311e86614e18",
    "pycharm": {
     "name": "#%%\n"
    }
   },
   "execution_count": 8,
   "outputs": [
    {
     "name": "stdout",
     "output_type": "stream",
     "text": [
      "\n",
      "\n",
      " Arousal Deviation within Songs\n",
      "count    1802.000000\n",
      "mean        0.040771\n",
      "std         0.036643\n",
      "min         0.003762\n",
      "25%         0.018364\n",
      "50%         0.030239\n",
      "75%         0.050099\n",
      "max         0.364901\n",
      "dtype: float64\n",
      "\n",
      "\n",
      " Valence Deviation within Songs\n",
      "count    1802.000000\n",
      "mean        0.033866\n",
      "std         0.025326\n",
      "min         0.004015\n",
      "25%         0.017378\n",
      "50%         0.027297\n",
      "75%         0.041837\n",
      "max         0.236557\n",
      "dtype: float64\n"
     ]
    }
   ]
  },
  {
   "cell_type": "markdown",
   "source": [
    "There is not much deviation within the Songs. \n",
    "Meaning the position of the Window does not effect the arousal and valence values very heavily. Thats why we will only predict the Average values of a song not the specific time windows."
   ],
   "metadata": {
    "id": "flRbObydIotR",
    "pycharm": {
     "name": "#%% md\n"
    }
   }
  },
  {
   "cell_type": "code",
   "source": [
    "songs.describe()"
   ],
   "metadata": {
    "colab": {
     "base_uri": "https://localhost:8080/",
     "height": 300
    },
    "id": "XJg0JxCAG1kp",
    "executionInfo": {
     "status": "ok",
     "timestamp": 1649793831753,
     "user_tz": -120,
     "elapsed": 5,
     "user": {
      "displayName": "Victor Hug",
      "userId": "11181831673208928307"
     }
    },
    "outputId": "683e0225-0ec4-4dba-e555-3205435cee29",
    "pycharm": {
     "name": "#%%\n"
    }
   },
   "execution_count": 9,
   "outputs": [
    {
     "data": {
      "text/plain": "       arousal_avg  valence_avg\ncount  1802.000000  1802.000000\nmean      0.137346     0.097688\nstd       0.279826     0.234633\nmin      -0.673034    -0.637343\n25%      -0.068675    -0.064162\n50%       0.157133     0.109598\n75%       0.369122     0.279371\nmax       0.752033     0.637600",
      "text/html": "<div>\n<style scoped>\n    .dataframe tbody tr th:only-of-type {\n        vertical-align: middle;\n    }\n\n    .dataframe tbody tr th {\n        vertical-align: top;\n    }\n\n    .dataframe thead th {\n        text-align: right;\n    }\n</style>\n<table border=\"1\" class=\"dataframe\">\n  <thead>\n    <tr style=\"text-align: right;\">\n      <th></th>\n      <th>arousal_avg</th>\n      <th>valence_avg</th>\n    </tr>\n  </thead>\n  <tbody>\n    <tr>\n      <th>count</th>\n      <td>1802.000000</td>\n      <td>1802.000000</td>\n    </tr>\n    <tr>\n      <th>mean</th>\n      <td>0.137346</td>\n      <td>0.097688</td>\n    </tr>\n    <tr>\n      <th>std</th>\n      <td>0.279826</td>\n      <td>0.234633</td>\n    </tr>\n    <tr>\n      <th>min</th>\n      <td>-0.673034</td>\n      <td>-0.637343</td>\n    </tr>\n    <tr>\n      <th>25%</th>\n      <td>-0.068675</td>\n      <td>-0.064162</td>\n    </tr>\n    <tr>\n      <th>50%</th>\n      <td>0.157133</td>\n      <td>0.109598</td>\n    </tr>\n    <tr>\n      <th>75%</th>\n      <td>0.369122</td>\n      <td>0.279371</td>\n    </tr>\n    <tr>\n      <th>max</th>\n      <td>0.752033</td>\n      <td>0.637600</td>\n    </tr>\n  </tbody>\n</table>\n</div>"
     },
     "execution_count": 9,
     "metadata": {},
     "output_type": "execute_result"
    }
   ]
  },
  {
   "cell_type": "code",
   "source": [
    "songs"
   ],
   "metadata": {
    "colab": {
     "base_uri": "https://localhost:8080/",
     "height": 424
    },
    "id": "UUFg3aF7E12p",
    "executionInfo": {
     "status": "ok",
     "timestamp": 1649793831754,
     "user_tz": -120,
     "elapsed": 6,
     "user": {
      "displayName": "Victor Hug",
      "userId": "11181831673208928307"
     }
    },
    "outputId": "d4c3ca80-a9d4-49bf-8a10-35b700fdf8de",
    "pycharm": {
     "name": "#%%\n"
    }
   },
   "execution_count": 10,
   "outputs": [
    {
     "data": {
      "text/plain": "     file_name  arousal_avg  valence_avg\n0        2.mp3    -0.197517    -0.215511\n1        3.mp3    -0.193187    -0.265855\n2        4.mp3     0.243072     0.155210\n3        5.mp3    -0.236207     0.140160\n4        7.mp3     0.376292     0.332455\n...        ...          ...          ...\n1797  2054.mp3    -0.169137     0.095237\n1798  2055.mp3     0.133553     0.082477\n1799  2056.mp3     0.002820     0.154216\n1800  2057.mp3     0.488453    -0.367627\n1801  2058.mp3     0.279927    -0.339768\n\n[1802 rows x 3 columns]",
      "text/html": "<div>\n<style scoped>\n    .dataframe tbody tr th:only-of-type {\n        vertical-align: middle;\n    }\n\n    .dataframe tbody tr th {\n        vertical-align: top;\n    }\n\n    .dataframe thead th {\n        text-align: right;\n    }\n</style>\n<table border=\"1\" class=\"dataframe\">\n  <thead>\n    <tr style=\"text-align: right;\">\n      <th></th>\n      <th>file_name</th>\n      <th>arousal_avg</th>\n      <th>valence_avg</th>\n    </tr>\n  </thead>\n  <tbody>\n    <tr>\n      <th>0</th>\n      <td>2.mp3</td>\n      <td>-0.197517</td>\n      <td>-0.215511</td>\n    </tr>\n    <tr>\n      <th>1</th>\n      <td>3.mp3</td>\n      <td>-0.193187</td>\n      <td>-0.265855</td>\n    </tr>\n    <tr>\n      <th>2</th>\n      <td>4.mp3</td>\n      <td>0.243072</td>\n      <td>0.155210</td>\n    </tr>\n    <tr>\n      <th>3</th>\n      <td>5.mp3</td>\n      <td>-0.236207</td>\n      <td>0.140160</td>\n    </tr>\n    <tr>\n      <th>4</th>\n      <td>7.mp3</td>\n      <td>0.376292</td>\n      <td>0.332455</td>\n    </tr>\n    <tr>\n      <th>...</th>\n      <td>...</td>\n      <td>...</td>\n      <td>...</td>\n    </tr>\n    <tr>\n      <th>1797</th>\n      <td>2054.mp3</td>\n      <td>-0.169137</td>\n      <td>0.095237</td>\n    </tr>\n    <tr>\n      <th>1798</th>\n      <td>2055.mp3</td>\n      <td>0.133553</td>\n      <td>0.082477</td>\n    </tr>\n    <tr>\n      <th>1799</th>\n      <td>2056.mp3</td>\n      <td>0.002820</td>\n      <td>0.154216</td>\n    </tr>\n    <tr>\n      <th>1800</th>\n      <td>2057.mp3</td>\n      <td>0.488453</td>\n      <td>-0.367627</td>\n    </tr>\n    <tr>\n      <th>1801</th>\n      <td>2058.mp3</td>\n      <td>0.279927</td>\n      <td>-0.339768</td>\n    </tr>\n  </tbody>\n</table>\n<p>1802 rows × 3 columns</p>\n</div>"
     },
     "execution_count": 10,
     "metadata": {},
     "output_type": "execute_result"
    }
   ]
  },
  {
   "cell_type": "code",
   "source": [
    "train_size = 1000\n",
    "test_size = 300\n",
    "file_names_train = songs.loc[:train_size, 'file_name']\n",
    "file_names_test = songs.loc[train_size:train_size+test_size, 'file_name']\n",
    "y_a_train = songs.loc[:train_size, 'arousal_avg']\n",
    "y_a_test = songs.loc[train_size:train_size+test_size, 'arousal_avg']\n",
    "y_v_train = songs.loc[:train_size, 'valence_avg']\n",
    "y_v_test = songs.loc[train_size:train_size+test_size, 'valence_avg']\n"
   ],
   "metadata": {
    "id": "t4CwhlEyDKuA",
    "executionInfo": {
     "status": "ok",
     "timestamp": 1649793929375,
     "user_tz": -120,
     "elapsed": 205,
     "user": {
      "displayName": "Victor Hug",
      "userId": "11181831673208928307"
     }
    },
    "pycharm": {
     "name": "#%%\n"
    }
   },
   "execution_count": 11,
   "outputs": []
  },
  {
   "cell_type": "code",
   "execution_count": 11,
   "outputs": [],
   "source": [],
   "metadata": {
    "collapsed": false,
    "pycharm": {
     "name": "#%%\n"
    }
   }
  },
  {
   "cell_type": "code",
   "source": [],
   "metadata": {
    "id": "mXIHbGyHDhgy",
    "executionInfo": {
     "status": "ok",
     "timestamp": 1649793930572,
     "user_tz": -120,
     "elapsed": 252,
     "user": {
      "displayName": "Victor Hug",
      "userId": "11181831673208928307"
     }
    },
    "pycharm": {
     "name": "#%%\n"
    }
   },
   "execution_count": 11,
   "outputs": []
  },
  {
   "cell_type": "code",
   "source": [
    "y_v_train"
   ],
   "metadata": {
    "colab": {
     "base_uri": "https://localhost:8080/"
    },
    "id": "4RoR18jhQSBd",
    "executionInfo": {
     "status": "ok",
     "timestamp": 1649793930891,
     "user_tz": -120,
     "elapsed": 2,
     "user": {
      "displayName": "Victor Hug",
      "userId": "11181831673208928307"
     }
    },
    "outputId": "3e446be5-0f36-4ada-8cbd-a2705be0c656",
    "pycharm": {
     "name": "#%%\n"
    }
   },
   "execution_count": 12,
   "outputs": [
    {
     "data": {
      "text/plain": "0      -0.215511\n1      -0.265855\n2       0.155210\n3       0.140160\n4       0.332455\n          ...   \n996    -0.062767\n997     0.046667\n998    -0.215817\n999     0.401883\n1000    0.146517\nName: valence_avg, Length: 1001, dtype: float64"
     },
     "execution_count": 12,
     "metadata": {},
     "output_type": "execute_result"
    }
   ]
  },
  {
   "cell_type": "code",
   "source": [],
   "metadata": {
    "id": "sIPCg8cbRKfF",
    "executionInfo": {
     "status": "ok",
     "timestamp": 1649782157893,
     "user_tz": -120,
     "elapsed": 8,
     "user": {
      "displayName": "Victor Hug",
      "userId": "11181831673208928307"
     }
    },
    "pycharm": {
     "name": "#%%\n"
    }
   },
   "execution_count": 12,
   "outputs": []
  },
  {
   "cell_type": "markdown",
   "source": [
    "# MFCC Features"
   ],
   "metadata": {
    "id": "6XMOX8cJRvnq",
    "pycharm": {
     "name": "#%% md\n"
    }
   }
  },
  {
   "cell_type": "code",
   "source": [
    "sr = 22050\n"
   ],
   "metadata": {
    "id": "Gmg6HaW8Syrx",
    "executionInfo": {
     "status": "ok",
     "timestamp": 1649794091210,
     "user_tz": -120,
     "elapsed": 225,
     "user": {
      "displayName": "Victor Hug",
      "userId": "11181831673208928307"
     }
    },
    "pycharm": {
     "name": "#%%\n"
    }
   },
   "execution_count": 13,
   "outputs": []
  },
  {
   "cell_type": "code",
   "source": [
    "def load_lr_files(files, save_wav=False):\n",
    "    song_length = len(files)\n",
    "    out = display(progress(0, song_length), display_id=True)\n",
    "\n",
    "    samples = list()\n",
    "    i = 1\n",
    "    for file in files:\n",
    "        wav_path = audio_base_path + file + '.wav'\n",
    "        if exists(wav_path):\n",
    "          sample, srn = lr.load(wav_path, sr=sr)\n",
    "        else:\n",
    "          sample, srn = lr.load(audio_base_path + file, sr=sr)\n",
    "          if save_wav:\n",
    "            sf.write(audio_base_path + file + '.wav', sample, sr)\n",
    "        samples.append(sample)\n",
    "        out.update(progress(i, song_length))\n",
    "        if srn != sr:\n",
    "            print('Wrong SR Now: %s' % srn)\n",
    "        i+=1\n",
    "    return samples"
   ],
   "metadata": {
    "id": "V1PyypbbRyE4",
    "executionInfo": {
     "status": "ok",
     "timestamp": 1649794235098,
     "user_tz": -120,
     "elapsed": 211,
     "user": {
      "displayName": "Victor Hug",
      "userId": "11181831673208928307"
     }
    },
    "pycharm": {
     "name": "#%%\n"
    }
   },
   "execution_count": 14,
   "outputs": []
  },
  {
   "cell_type": "code",
   "source": [],
   "metadata": {
    "id": "hdZ7PBKicmoH",
    "executionInfo": {
     "status": "ok",
     "timestamp": 1649794235352,
     "user_tz": -120,
     "elapsed": 1,
     "user": {
      "displayName": "Victor Hug",
      "userId": "11181831673208928307"
     }
    },
    "pycharm": {
     "name": "#%%\n"
    }
   },
   "execution_count": 14,
   "outputs": []
  },
  {
   "cell_type": "code",
   "source": [
    "samples_train = load_lr_files(file_names_train, True)"
   ],
   "metadata": {
    "colab": {
     "base_uri": "https://localhost:8080/",
     "height": 35
    },
    "id": "ag5Up6jRWaKh",
    "executionInfo": {
     "status": "ok",
     "timestamp": 1649796715118,
     "user_tz": -120,
     "elapsed": 2479294,
     "user": {
      "displayName": "Victor Hug",
      "userId": "11181831673208928307"
     }
    },
    "outputId": "b6814342-0e9f-4a76-8ab5-8dd55b615cad",
    "pycharm": {
     "name": "#%%\n"
    }
   },
   "execution_count": 15,
   "outputs": [
    {
     "data": {
      "text/plain": "<IPython.core.display.HTML object>",
      "text/html": "\n        <progress\n            value='0'\n            max='1001',\n            style='width: 100%'\n        >\n            0\n        </progress>\n    "
     },
     "metadata": {},
     "output_type": "display_data"
    }
   ]
  },
  {
   "cell_type": "code",
   "execution_count": 16,
   "outputs": [
    {
     "data": {
      "text/plain": "1001"
     },
     "execution_count": 16,
     "metadata": {},
     "output_type": "execute_result"
    }
   ],
   "source": [
    "len(samples_train)"
   ],
   "metadata": {
    "collapsed": false,
    "pycharm": {
     "name": "#%%\n"
    }
   }
  },
  {
   "cell_type": "code",
   "execution_count": 16,
   "outputs": [],
   "source": [],
   "metadata": {
    "collapsed": false,
    "pycharm": {
     "name": "#%%\n"
    }
   }
  },
  {
   "cell_type": "code",
   "source": [
    "samples_test = load_lr_files(file_names_test, True)"
   ],
   "metadata": {
    "colab": {
     "base_uri": "https://localhost:8080/",
     "height": 35
    },
    "id": "qhtEJQO1cufN",
    "executionInfo": {
     "status": "ok",
     "timestamp": 1649782559947,
     "user_tz": -120,
     "elapsed": 135277,
     "user": {
      "displayName": "Victor Hug",
      "userId": "11181831673208928307"
     }
    },
    "outputId": "3e6cf72f-eac6-458e-939b-1080b1301198",
    "pycharm": {
     "name": "#%%\n"
    }
   },
   "execution_count": 17,
   "outputs": [
    {
     "data": {
      "text/plain": "<IPython.core.display.HTML object>",
      "text/html": "\n        <progress\n            value='0'\n            max='301',\n            style='width: 100%'\n        >\n            0\n        </progress>\n    "
     },
     "metadata": {},
     "output_type": "display_data"
    }
   ]
  },
  {
   "cell_type": "code",
   "source": [
    "def get_mfcc_list(lr_files, window_length=1920):\n",
    "    mfcc_list = list()\n",
    "    out = display(progress(0, len(lr_files)), display_id=True)\n",
    "    i=0\n",
    "    len_mfcc=(20, window_length)\n",
    "    for audio in lr_files:\n",
    "        mfcc  = lr.feature.mfcc(y=audio, sr=sr)[:, :window_length]\n",
    "        if len_mfcc != mfcc.shape:\n",
    "            print('Error! Not same %s' % str(mfcc.shape))\n",
    "        len_mfcc = mfcc.shape\n",
    "        mfcc_list.append(mfcc)\n",
    "        i+=1\n",
    "        out.update(progress(i, len(lr_files)))\n",
    "    return np.array(mfcc_list)"
   ],
   "metadata": {
    "id": "4VWOYoegS_6N",
    "executionInfo": {
     "status": "ok",
     "timestamp": 1649782559947,
     "user_tz": -120,
     "elapsed": 8,
     "user": {
      "displayName": "Victor Hug",
      "userId": "11181831673208928307"
     }
    },
    "pycharm": {
     "name": "#%%\n"
    }
   },
   "execution_count": 18,
   "outputs": []
  },
  {
   "cell_type": "code",
   "source": [
    "mfcc_train = get_mfcc_list(samples_train)\n",
    "mfcc_test = get_mfcc_list(samples_test)"
   ],
   "metadata": {
    "colab": {
     "base_uri": "https://localhost:8080/",
     "height": 52
    },
    "id": "vS_0Ygp8UilE",
    "executionInfo": {
     "status": "ok",
     "timestamp": 1649783978388,
     "user_tz": -120,
     "elapsed": 124081,
     "user": {
      "displayName": "Victor Hug",
      "userId": "11181831673208928307"
     }
    },
    "outputId": "caea31e3-5742-4626-bf21-48671d5259cb",
    "pycharm": {
     "name": "#%%\n"
    }
   },
   "execution_count": 19,
   "outputs": [
    {
     "data": {
      "text/plain": "<IPython.core.display.HTML object>",
      "text/html": "\n        <progress\n            value='0'\n            max='1001',\n            style='width: 100%'\n        >\n            0\n        </progress>\n    "
     },
     "metadata": {},
     "output_type": "display_data"
    },
    {
     "data": {
      "text/plain": "<IPython.core.display.HTML object>",
      "text/html": "\n        <progress\n            value='0'\n            max='301',\n            style='width: 100%'\n        >\n            0\n        </progress>\n    "
     },
     "metadata": {},
     "output_type": "display_data"
    }
   ]
  },
  {
   "cell_type": "code",
   "execution_count": 20,
   "outputs": [
    {
     "data": {
      "text/plain": "(1001, 20, 1920)"
     },
     "execution_count": 20,
     "metadata": {},
     "output_type": "execute_result"
    }
   ],
   "source": [
    "mfcc_train.shape"
   ],
   "metadata": {
    "collapsed": false,
    "pycharm": {
     "name": "#%%\n"
    }
   }
  },
  {
   "cell_type": "code",
   "source": [
    "test = mfcc_train.reshape(1001, 1920, 20)"
   ],
   "metadata": {
    "id": "A6zBqYclVDng",
    "executionInfo": {
     "status": "ok",
     "timestamp": 1649784041955,
     "user_tz": -120,
     "elapsed": 202,
     "user": {
      "displayName": "Victor Hug",
      "userId": "11181831673208928307"
     }
    },
    "pycharm": {
     "name": "#%%\n"
    }
   },
   "execution_count": 21,
   "outputs": []
  },
  {
   "cell_type": "code",
   "execution_count": 22,
   "outputs": [
    {
     "data": {
      "text/plain": "[array([ 0.10757446,  0.17294312,  0.12948608, ..., -0.08334351,\n        -0.11959839,  0.        ], dtype=float32),\n array([ 0.0057373 ,  0.00848389,  0.00723267, ..., -0.01852417,\n        -0.02325439,  0.        ], dtype=float32),\n array([0.00192261, 0.00280762, 0.00631714, ..., 0.05603027, 0.07394409,\n        0.        ], dtype=float32),\n array([-0.02764893, -0.02560425, -0.03704834, ..., -0.02459717,\n         0.00463867,  0.        ], dtype=float32),\n array([0.00326538, 0.01528931, 0.02987671, ..., 0.06704712, 0.08410645,\n        0.        ], dtype=float32),\n array([-0.01040649, -0.00772095, -0.00686646, ..., -0.05984497,\n        -0.08026123,  0.        ], dtype=float32),\n array([ 0.02642822,  0.02734375,  0.00256348, ..., -0.09448242,\n        -0.12200928,  0.        ], dtype=float32),\n array([-0.02047729, -0.02706909, -0.03961182, ...,  0.04498291,\n         0.05212402,  0.        ], dtype=float32),\n array([-0.01004028, -0.01461792, -0.01251221, ..., -0.08847046,\n        -0.09973145,  0.        ], dtype=float32),\n array([ 0.05856323,  0.0880127 ,  0.12478638, ..., -0.00680542,\n         0.07510376,  0.        ], dtype=float32),\n array([-0.02856445, -0.05026245, -0.03829956, ..., -0.06219482,\n        -0.03469849,  0.        ], dtype=float32),\n array([0.046875  , 0.06439209, 0.05325317, ..., 0.05014038, 0.07006836,\n        0.        ], dtype=float32),\n array([ 0.03128052,  0.04837036,  0.04568481, ..., -0.12979126,\n        -0.1065979 ,  0.        ], dtype=float32),\n array([ 0.04278564,  0.0987854 ,  0.1368103 , ..., -0.05004883,\n        -0.01672363,  0.        ], dtype=float32),\n array([-0.02536011, -0.0378418 , -0.04025269, ...,  0.00268555,\n        -0.0057373 ,  0.        ], dtype=float32),\n array([-0.06707764, -0.08807373, -0.07775879, ...,  0.17654419,\n         0.17910767,  0.        ], dtype=float32),\n array([0.00961304, 0.01339722, 0.01446533, ..., 0.07504272, 0.0975647 ,\n        0.        ], dtype=float32),\n array([0.04296875, 0.06411743, 0.06784058, ..., 0.03994751, 0.05792236,\n        0.        ], dtype=float32),\n array([0.02081299, 0.03237915, 0.0256958 , ..., 0.03494263, 0.04528809,\n        0.        ], dtype=float32),\n array([0.0546875 , 0.10723877, 0.07113647, ..., 0.03561401, 0.03359985,\n        0.        ], dtype=float32),\n array([-0.02642822, -0.04623413, -0.05328369, ...,  0.03128052,\n         0.01757812,  0.        ], dtype=float32),\n array([-0.08422852, -0.14590454, -0.15441895, ...,  0.06018066,\n         0.07281494,  0.        ], dtype=float32),\n array([-0.01815796, -0.02822876, -0.01531982, ..., -0.03292847,\n        -0.04974365,  0.        ], dtype=float32),\n array([-0.01522827, -0.0135498 , -0.00744629, ...,  0.12521362,\n         0.13024902,  0.        ], dtype=float32),\n array([ 0.07333374,  0.11962891,  0.09527588, ..., -0.01257324,\n         0.00454712,  0.        ], dtype=float32),\n array([ 0.13049316,  0.2414856 ,  0.21832275, ..., -0.17004395,\n        -0.13565063,  0.        ], dtype=float32),\n array([-0.12567139, -0.17007446, -0.11245728, ..., -0.04898071,\n        -0.05734253,  0.        ], dtype=float32),\n array([ 0.08804321,  0.17861938,  0.20040894, ..., -0.23025513,\n        -0.25283813,  0.        ], dtype=float32),\n array([0.02389526, 0.03613281, 0.03747559, ..., 0.04342651, 0.08834839,\n        0.        ], dtype=float32),\n array([-0.00366211, -0.00695801, -0.00744629, ..., -0.06658936,\n        -0.10650635,  0.        ], dtype=float32),\n array([-0.03182983, -0.07189941, -0.0927124 , ...,  0.02801514,\n         0.03884888,  0.        ], dtype=float32),\n array([ 0.02084351,  0.04824829,  0.04190063, ..., -0.0135498 ,\n         0.00924683,  0.        ], dtype=float32),\n array([-0.02368164, -0.02581787, -0.01226807, ...,  0.01989746,\n         0.03613281,  0.        ], dtype=float32),\n array([ 0.02377319,  0.03079224, -0.01019287, ..., -0.07235718,\n        -0.07476807,  0.        ], dtype=float32),\n array([ 0.01834106,  0.02737427,  0.01611328, ...,  0.00897217,\n        -0.00360107,  0.        ], dtype=float32),\n array([-0.13650513, -0.15322876, -0.0914917 , ...,  0.07980347,\n         0.09384155,  0.        ], dtype=float32),\n array([-0.00933838,  0.00701904,  0.02587891, ..., -0.04641724,\n        -0.00515747,  0.        ], dtype=float32),\n array([-0.01904297,  0.00558472,  0.050354  , ...,  0.0395813 ,\n         0.06463623,  0.        ], dtype=float32),\n array([-0.06546021, -0.10177612, -0.02957153, ..., -0.08728027,\n        -0.08111572,  0.        ], dtype=float32),\n array([ 0.02474976,  0.03979492,  0.03347778, ...,  0.00048828,\n        -0.02081299,  0.        ], dtype=float32),\n array([ 0.09515381,  0.1546936 ,  0.12457275, ..., -0.07226562,\n        -0.09454346,  0.        ], dtype=float32),\n array([0.0362854 , 0.0567627 , 0.05477905, ..., 0.10827637, 0.12216187,\n        0.        ], dtype=float32),\n array([ 0.01168823,  0.02078247,  0.02514648, ..., -0.00158691,\n         0.05056763,  0.        ], dtype=float32),\n array([ 0.02084351,  0.04202271,  0.05065918, ..., -0.04373169,\n        -0.05371094,  0.        ], dtype=float32),\n array([-0.06430054, -0.09680176, -0.09127808, ..., -0.01843262,\n        -0.03170776,  0.        ], dtype=float32),\n array([ 0.074646  ,  0.12237549,  0.11514282, ..., -0.00436401,\n        -0.00341797,  0.        ], dtype=float32),\n array([ 0.0020752 , -0.00143433, -0.01055908, ..., -0.02679443,\n        -0.03811646,  0.        ], dtype=float32),\n array([-0.0022583 ,  0.00384521, -0.02545166, ...,  0.03469849,\n         0.05545044,  0.        ], dtype=float32),\n array([ 1.1453247e-01,  1.8374634e-01,  1.5768433e-01, ...,\n        -3.0517578e-05,  1.8402100e-02,  0.0000000e+00], dtype=float32),\n array([-0.11016846, -0.17300415, -0.15710449, ...,  0.09622192,\n         0.08102417,  0.        ], dtype=float32),\n array([-0.03015137, -0.05053711, -0.05044556, ...,  0.12374878,\n         0.175354  ,  0.        ], dtype=float32),\n array([-0.0213623 , -0.05145264, -0.06268311, ...,  0.15783691,\n         0.13339233,  0.        ], dtype=float32),\n array([ 0.17489624,  0.19006348,  0.05282593, ..., -0.01559448,\n        -0.01324463,  0.        ], dtype=float32),\n array([-0.04312134, -0.01495361,  0.04537964, ..., -0.08370972,\n        -0.12667847,  0.        ], dtype=float32),\n array([ 0.02267456,  0.05154419,  0.04782104, ..., -0.09844971,\n        -0.10342407,  0.        ], dtype=float32),\n array([-0.14633179, -0.23440552, -0.16757202, ..., -0.06759644,\n        -0.04684448,  0.        ], dtype=float32),\n array([ 0.01165771, -0.0017395 , -0.00085449, ..., -0.10946655,\n         0.01409912,  0.        ], dtype=float32),\n array([-0.07351685, -0.09414673, -0.07046509, ...,  0.10110474,\n         0.16189575,  0.        ], dtype=float32),\n array([-0.04214478, -0.06506348, -0.07644653, ...,  0.10571289,\n         0.12042236,  0.        ], dtype=float32),\n array([-0.00289917, -0.00506592, -0.00601196, ...,  0.1743164 ,\n         0.21972656,  0.        ], dtype=float32),\n array([ 0.01498413,  0.01202393, -0.00198364, ..., -0.00015259,\n         0.02532959,  0.        ], dtype=float32),\n array([0.01831055, 0.03134155, 0.02264404, ..., 0.4076538 , 0.4968567 ,\n        0.        ], dtype=float32),\n array([0.03781128, 0.04205322, 0.10684204, ..., 0.04199219, 0.05838013,\n        0.        ], dtype=float32),\n array([ 0.1428833 ,  0.24377441,  0.21057129, ..., -0.0479126 ,\n        -0.00436401,  0.        ], dtype=float32),\n array([0.02920532, 0.03988647, 0.02032471, ..., 0.05688477, 0.0619812 ,\n        0.        ], dtype=float32),\n array([0.09823608, 0.17059326, 0.14501953, ..., 0.02853394, 0.05413818,\n        0.        ], dtype=float32),\n array([0.07241821, 0.10061646, 0.09481812, ..., 0.06472778, 0.08670044,\n        0.        ], dtype=float32),\n array([-0.13925171, -0.18621826, -0.1399231 , ...,  0.02902222,\n        -0.0617981 ,  0.        ], dtype=float32),\n array([0.02246094, 0.03652954, 0.03216553, ..., 0.09429932, 0.07070923,\n        0.        ], dtype=float32),\n array([-6.1035156e-05, -4.5776367e-04, -4.5776367e-04, ...,\n        -2.0327759e-01, -2.3876953e-01,  0.0000000e+00], dtype=float32),\n array([-0.01116943, -0.01599121, -0.01467896, ...,  0.06845093,\n         0.10171509,  0.        ], dtype=float32),\n array([-0.02554321, -0.03988647, -0.03201294, ...,  0.12173462,\n         0.11483765,  0.        ], dtype=float32),\n array([0.01525879, 0.02932739, 0.03805542, ..., 0.05175781, 0.07183838,\n        0.        ], dtype=float32),\n array([0.18737793, 0.33636475, 0.30221558, ..., 0.24841309, 0.26522827,\n        0.        ], dtype=float32),\n array([0.19241333, 0.26431274, 0.14193726, ..., 0.03076172, 0.09939575,\n        0.        ], dtype=float32),\n array([-0.00228882, -0.00088501,  0.00231934, ...,  0.00527954,\n        -0.03173828,  0.        ], dtype=float32),\n array([ 0.08782959,  0.1439209 ,  0.12896729, ..., -0.07611084,\n        -0.0725708 ,  0.        ], dtype=float32),\n array([ 0.07754517,  0.11776733,  0.04907227, ..., -0.09341431,\n        -0.07418823,  0.        ], dtype=float32),\n array([-0.02325439, -0.03515625, -0.02865601, ...,  0.05560303,\n         0.08605957,  0.        ], dtype=float32),\n array([ 0.01367188,  0.0246582 ,  0.0291748 , ..., -0.14199829,\n        -0.18225098,  0.        ], dtype=float32),\n array([0.05548096, 0.08807373, 0.07830811, ..., 0.10446167, 0.11328125,\n        0.        ], dtype=float32),\n array([ 0.08917236,  0.15176392,  0.13192749, ..., -0.03375244,\n         0.02212524,  0.        ], dtype=float32),\n array([ 0.03009033,  0.05435181,  0.05667114, ..., -0.0350647 ,\n        -0.06698608,  0.        ], dtype=float32),\n array([ 0.02023315, -0.05596924,  0.05154419, ..., -0.00686646,\n        -0.00256348,  0.        ], dtype=float32),\n array([-0.04614258, -0.0708313 , -0.04803467, ...,  0.0713501 ,\n         0.08474731,  0.        ], dtype=float32),\n array([-0.10598755, -0.1375122 , -0.0199585 , ...,  0.03894043,\n         0.0020752 ,  0.        ], dtype=float32),\n array([0.1060791 , 0.12918091, 0.11553955, ..., 0.0675354 , 0.05749512,\n        0.        ], dtype=float32),\n array([-0.10165405, -0.17236328, -0.17590332, ...,  0.03717041,\n         0.040802  ,  0.        ], dtype=float32),\n array([-0.12844849, -0.21740723, -0.18069458, ...,  0.04196167,\n         0.03201294,  0.        ], dtype=float32),\n array([ 0.01141357,  0.0133667 ,  0.0145874 , ..., -0.10183716,\n        -0.10995483,  0.        ], dtype=float32),\n array([0.01971436, 0.02682495, 0.02020264, ..., 0.00704956, 0.0536499 ,\n        0.        ], dtype=float32),\n array([0.00848389, 0.01296997, 0.00631714, ..., 0.0930481 , 0.15011597,\n        0.        ], dtype=float32),\n array([ 0.03347778,  0.05813599,  0.04910278, ..., -0.15084839,\n        -0.15756226,  0.        ], dtype=float32),\n array([0.02331543, 0.03375244, 0.02728271, ..., 0.02310181, 0.05987549,\n        0.        ], dtype=float32),\n array([ 0.02844238,  0.07080078,  0.07931519, ..., -0.0065918 ,\n        -0.00848389,  0.        ], dtype=float32),\n array([-0.06887817, -0.13879395, -0.09725952, ..., -0.0418396 ,\n        -0.07901001,  0.        ], dtype=float32),\n array([ 0.00274658,  0.0050354 , -0.00039673, ...,  0.00878906,\n         0.02197266,  0.        ], dtype=float32),\n array([ 0.01116943,  0.01608276,  0.01315308, ..., -0.04571533,\n        -0.05148315,  0.        ], dtype=float32),\n array([0.01434326, 0.01647949, 0.00744629, ..., 0.02151489, 0.02496338,\n        0.        ], dtype=float32),\n array([0.13430786, 0.23852539, 0.21395874, ..., 0.03970337, 0.04898071,\n        0.        ], dtype=float32),\n array([ 0.07757568,  0.12277222,  0.11520386, ...,  0.05618286,\n        -0.15124512,  0.        ], dtype=float32),\n array([ 0.00332642, -0.03091431, -0.05355835, ...,  0.07843018,\n         0.02667236,  0.        ], dtype=float32),\n array([-0.05566406, -0.09307861, -0.12017822, ..., -0.09356689,\n        -0.12432861,  0.        ], dtype=float32),\n array([0.01361084, 0.02404785, 0.02084351, ..., 0.14926147, 0.15182495,\n        0.        ], dtype=float32),\n array([ 0.06570435,  0.11965942,  0.12509155, ...,  0.00735474,\n        -0.0007019 ,  0.        ], dtype=float32),\n array([-0.02008057, -0.03759766, -0.03643799, ..., -0.15042114,\n        -0.16122437,  0.        ], dtype=float32),\n array([-0.03436279, -0.05511475, -0.04754639, ...,  0.03091431,\n         0.07354736,  0.        ], dtype=float32),\n array([-0.10125732, -0.16104126, -0.11227417, ...,  0.12860107,\n         0.1416626 ,  0.        ], dtype=float32),\n array([-0.0864563 , -0.13400269, -0.10043335, ..., -0.08291626,\n        -0.10147095,  0.        ], dtype=float32),\n array([-0.04019165, -0.04937744, -0.04415894, ...,  0.15814209,\n         0.16085815,  0.        ], dtype=float32),\n array([-0.07974243, -0.1333313 , -0.15411377, ...,  0.05609131,\n         0.05157471,  0.        ], dtype=float32),\n array([-0.03372192, -0.0640564 , -0.0614624 , ..., -0.07693481,\n        -0.07250977,  0.        ], dtype=float32),\n array([ 0.02926636,  0.07089233,  0.0814209 , ...,  0.04190063,\n        -0.04693604,  0.        ], dtype=float32),\n array([0.05984497, 0.11810303, 0.09143066, ..., 0.00180054, 0.00628662,\n        0.        ], dtype=float32),\n array([ 0.0244751 ,  0.0625    ,  0.06488037, ...,  0.00198364,\n        -0.00534058,  0.        ], dtype=float32),\n array([0.08425903, 0.12741089, 0.09442139, ..., 0.02218628, 0.01443481,\n        0.        ], dtype=float32),\n array([-0.00112915, -0.00061035,  0.00247192, ...,  0.03274536,\n         0.037323  ,  0.        ], dtype=float32),\n array([0.06570435, 0.09524536, 0.08395386, ..., 0.07495117, 0.08963013,\n        0.        ], dtype=float32),\n array([-0.0435791 , -0.07626343, -0.04974365, ...,  0.10736084,\n         0.21258545,  0.        ], dtype=float32),\n array([0.01837158, 0.06045532, 0.06512451, ..., 0.02355957, 0.02993774,\n        0.        ], dtype=float32),\n array([-0.01901245,  0.00238037,  0.02554321, ...,  0.03973389,\n         0.04598999,  0.        ], dtype=float32),\n array([-0.07818604, -0.12109375, -0.09896851, ..., -0.10623169,\n        -0.17959595,  0.        ], dtype=float32),\n array([-0.04074097, -0.11450195, -0.09136963, ..., -0.0328064 ,\n         0.01382446,  0.        ], dtype=float32),\n array([0.0491333 , 0.11422729, 0.1602478 , ..., 0.01669312, 0.02319336,\n        0.        ], dtype=float32),\n array([ 0.03631592,  0.05603027,  0.04153442, ..., -0.05529785,\n        -0.06243896,  0.        ], dtype=float32),\n array([ 0.10696411,  0.16543579,  0.15673828, ..., -0.0513916 ,\n        -0.04977417,  0.        ], dtype=float32),\n array([0.01327515, 0.02966309, 0.04394531, ..., 0.00628662, 0.00570679,\n        0.        ], dtype=float32),\n array([-0.03375244, -0.04238892, -0.04345703, ...,  0.0333252 ,\n         0.04733276,  0.        ], dtype=float32),\n array([0.06015015, 0.05081177, 0.0512085 , ..., 0.09622192, 0.0854187 ,\n        0.        ], dtype=float32),\n array([ 0.00231934,  0.03170776,  0.06207275, ..., -0.15829468,\n        -0.14126587,  0.        ], dtype=float32),\n array([0.15698242, 0.24487305, 0.21878052, ..., 0.05487061, 0.06118774,\n        0.        ], dtype=float32),\n array([-0.00305176, -0.01351929, -0.02334595, ..., -0.00152588,\n         0.00790405,  0.        ], dtype=float32),\n array([-0.05740356, -0.08843994, -0.06735229, ...,  0.08251953,\n         0.11035156,  0.        ], dtype=float32),\n array([0.10913086, 0.09664917, 0.16934204, ..., 0.04443359, 0.00485229,\n        0.        ], dtype=float32),\n array([ 0.00213623, -0.03363037, -0.09286499, ..., -0.04528809,\n        -0.02798462,  0.        ], dtype=float32),\n array([ 0.05252075,  0.06958008,  0.05300903, ..., -0.18026733,\n        -0.20483398,  0.        ], dtype=float32),\n array([-0.08343506, -0.17108154, -0.17443848, ..., -0.21435547,\n        -0.2425232 ,  0.        ], dtype=float32),\n array([0.01623535, 0.02377319, 0.01745605, ..., 0.0116272 , 0.0213623 ,\n        0.        ], dtype=float32),\n array([-0.08340454, -0.14367676, -0.11334229, ..., -0.0057373 ,\n        -0.00872803,  0.        ], dtype=float32),\n array([ 0.01205444, -0.00323486,  0.0055542 , ..., -0.15689087,\n        -0.15744019,  0.        ], dtype=float32),\n array([ 0.02832031,  0.06539917,  0.07818604, ..., -0.00360107,\n        -0.02560425,  0.        ], dtype=float32),\n array([0.02996826, 0.04534912, 0.02957153, ..., 0.0151062 , 0.01498413,\n        0.        ], dtype=float32),\n array([0.03707886, 0.04464722, 0.04907227, ..., 0.15335083, 0.10726929,\n        0.        ], dtype=float32),\n array([-0.14593506, -0.25875854, -0.19244385, ...,  0.06246948,\n         0.07644653,  0.        ], dtype=float32),\n array([-0.00262451,  0.01715088,  0.01394653, ..., -0.0453186 ,\n        -0.06582642,  0.        ], dtype=float32),\n array([ 0.01858521,  0.03115845,  0.03109741, ..., -0.04440308,\n        -0.04483032,  0.        ], dtype=float32),\n array([ 0.01605225,  0.04003906,  0.05487061, ..., -0.1036377 ,\n        -0.17263794,  0.        ], dtype=float32),\n array([-0.00146484,  0.0005188 , -0.00244141, ..., -0.00549316,\n        -0.00378418,  0.        ], dtype=float32),\n array([ 0.01055908,  0.01657104,  0.01309204, ..., -0.00375366,\n        -0.02557373,  0.        ], dtype=float32),\n array([ 0.01324463,  0.01980591, -0.00811768, ..., -0.06759644,\n        -0.05426025,  0.        ], dtype=float32),\n array([-0.07546997, -0.09643555, -0.08990479, ..., -0.04678345,\n        -0.00952148,  0.        ], dtype=float32),\n array([ 0.00167847,  0.01983643,  0.02575684, ..., -0.2265625 ,\n        -0.22842407, -0.25405884], dtype=float32),\n array([0.01205444, 0.01605225, 0.00875854, ..., 0.18539429, 0.23547363,\n        0.        ], dtype=float32),\n array([-0.03030396, -0.04901123, -0.03500366, ..., -0.10424805,\n        -0.07049561,  0.        ], dtype=float32),\n array([ 0.03067017,  0.04257202,  0.0333252 , ..., -0.11688232,\n        -0.08621216,  0.        ], dtype=float32),\n array([0.02496338, 0.03588867, 0.01437378, ..., 0.21539307, 0.18991089,\n        0.        ], dtype=float32),\n array([-0.15542603, -0.31970215, -0.3363037 , ...,  0.05581665,\n         0.05786133,  0.        ], dtype=float32),\n array([0.00750732, 0.0135498 , 0.012146  , ..., 0.07785034, 0.07876587,\n        0.        ], dtype=float32),\n array([0.06610107, 0.09378052, 0.06558228, ..., 0.15106201, 0.2084961 ,\n        0.        ], dtype=float32),\n array([ 0.03030396,  0.04922485,  0.05133057, ..., -0.06903076,\n        -0.074646  ,  0.        ], dtype=float32),\n array([0.18759155, 0.2689209 , 0.2276001 , ..., 0.04586792, 0.03884888,\n        0.        ], dtype=float32),\n array([ 0.01605225,  0.02661133,  0.02871704, ..., -0.07382202,\n        -0.06988525,  0.        ], dtype=float32),\n array([-0.02175903, -0.02780151, -0.00643921, ..., -0.09423828,\n        -0.10876465,  0.        ], dtype=float32),\n array([-0.01800537, -0.03915405, -0.05407715, ..., -0.0145874 ,\n        -0.02075195,  0.        ], dtype=float32),\n array([-0.06033325, -0.08773804, -0.05386353, ..., -0.04135132,\n        -0.04092407,  0.        ], dtype=float32),\n array([-0.07095337, -0.11071777, -0.08023071, ...,  0.26461792,\n         0.33538818,  0.        ], dtype=float32),\n array([-0.01455688,  0.02484131,  0.07650757, ...,  0.04446411,\n         0.04354858,  0.        ], dtype=float32),\n array([-0.08041382, -0.12005615, -0.11135864, ..., -0.16900635,\n        -0.17974854,  0.        ], dtype=float32),\n array([ 0.04989624,  0.05465698,  0.0149231 , ..., -0.15130615,\n        -0.153656  ,  0.        ], dtype=float32),\n array([ 0.00161743, -0.0007019 , -0.00814819, ..., -0.12930298,\n        -0.0894165 ,  0.        ], dtype=float32),\n array([-0.06228638, -0.1026001 , -0.08633423, ...,  0.04788208,\n         0.03210449,  0.        ], dtype=float32),\n array([ 0.01138306,  0.01983643,  0.0133667 , ...,  0.01077271,\n         0.00286865, -0.00872803], dtype=float32),\n array([ 0.03939819,  0.06549072,  0.06271362, ..., -0.00402832,\n        -0.00292969,  0.        ], dtype=float32),\n array([-0.06448364, -0.09713745, -0.08615112, ..., -0.03366089,\n        -0.02642822,  0.        ], dtype=float32),\n array([-0.0617981 , -0.0944519 , -0.06216431, ...,  0.26992798,\n         0.21243286,  0.        ], dtype=float32),\n array([ 0.03210449,  0.06484985,  0.0395813 , ..., -0.0015564 ,\n        -0.0100708 ,  0.        ], dtype=float32),\n array([0.00457764, 0.00799561, 0.00881958, ..., 0.04486084, 0.05603027,\n        0.        ], dtype=float32),\n array([ 0.01498413,  0.02029419,  0.00979614, ..., -0.04495239,\n        -0.02697754,  0.        ], dtype=float32),\n array([ 0.00030518, -0.01617432, -0.03741455, ...,  0.0256958 ,\n         0.01226807,  0.        ], dtype=float32),\n array([ 0.01391602,  0.02026367,  0.01123047, ..., -0.08258057,\n        -0.0944519 ,  0.        ], dtype=float32),\n array([ 0.01992798,  0.01547241, -0.01010132, ..., -0.04119873,\n        -0.05578613,  0.        ], dtype=float32),\n array([-0.01016235, -0.02618408, -0.03369141, ..., -0.05328369,\n        -0.02496338,  0.        ], dtype=float32),\n array([-0.05679321, -0.10531616, -0.11898804, ...,  0.02734375,\n         0.02761841,  0.        ], dtype=float32),\n array([ 0.02105713,  0.10839844,  0.20175171, ..., -0.00082397,\n         0.01281738,  0.        ], dtype=float32),\n array([-0.03616333, -0.05987549, -0.05117798, ..., -0.05096436,\n        -0.06582642,  0.        ], dtype=float32),\n array([-0.01461792, -0.01998901, -0.01452637, ...,  0.06518555,\n         0.08981323,  0.        ], dtype=float32),\n array([ 0.03082275,  0.05789185,  0.04293823, ..., -0.00344849,\n        -0.00152588,  0.        ], dtype=float32),\n array([ 0.04507446,  0.0609436 ,  0.02703857, ...,  0.00170898,\n        -0.00561523,  0.        ], dtype=float32),\n array([-0.00411987, -0.01882935, -0.03567505, ...,  0.01391602,\n        -0.00305176,  0.        ], dtype=float32),\n array([ 0.00689697,  0.00628662, -0.00054932, ..., -0.09136963,\n        -0.07699585,  0.        ], dtype=float32),\n array([-0.0123291 , -0.01062012, -0.00228882, ..., -0.10913086,\n        -0.12310791,  0.        ], dtype=float32),\n array([ 0.00497437,  0.00549316,  0.00128174, ..., -0.01879883,\n        -0.01422119,  0.        ], dtype=float32),\n array([-0.00408936, -0.02697754, -0.03610229, ..., -0.06555176,\n        -0.0569458 ,  0.        ], dtype=float32),\n array([0.04559326, 0.06469727, 0.04928589, ..., 0.04281616, 0.03134155,\n        0.        ], dtype=float32),\n array([ 0.00964355,  0.00610352, -0.01196289, ...,  0.01190186,\n         0.01522827,  0.        ], dtype=float32),\n array([-0.00698853, -0.01205444,  0.00164795, ..., -0.00683594,\n        -0.01538086,  0.        ], dtype=float32),\n array([ 0.01507568,  0.01379395,  0.00488281, ..., -0.02206421,\n        -0.0680542 ,  0.        ], dtype=float32),\n array([-0.00280762,  0.0071106 ,  0.04034424, ..., -0.04571533,\n         0.03820801,  0.        ], dtype=float32),\n array([-0.02325439, -0.09277344, -0.09326172, ...,  0.01394653,\n         0.00848389,  0.        ], dtype=float32),\n array([0.01287842, 0.02496338, 0.02624512, ..., 0.16055298, 0.17059326,\n        0.        ], dtype=float32),\n array([ 0.03244019,  0.05187988,  0.05932617, ..., -0.14089966,\n        -0.20956421,  0.        ], dtype=float32),\n array([ 0.00280762,  0.00198364, -0.00186157, ..., -0.05157471,\n        -0.04602051,  0.        ], dtype=float32),\n array([-0.0451355 , -0.01748657,  0.04193115, ...,  0.03265381,\n        -0.00802612,  0.        ], dtype=float32),\n array([-0.07894897, -0.20770264, -0.23312378, ..., -0.01797485,\n        -0.01898193,  0.        ], dtype=float32),\n array([0.06768799, 0.10736084, 0.06820679, ..., 0.07025146, 0.0451355 ,\n        0.        ], dtype=float32),\n array([ 0.00732422, -0.04467773, -0.05740356, ..., -0.07565308,\n        -0.11572266,  0.        ], dtype=float32),\n array([-0.05230713, -0.09265137, -0.08047485, ...,  0.12835693,\n         0.08209229,  0.        ], dtype=float32),\n array([ 0.03601074,  0.05953979,  0.05343628, ..., -0.01315308,\n        -0.00994873,  0.        ], dtype=float32),\n array([-0.08026123, -0.10906982, -0.08859253, ..., -0.22116089,\n        -0.20736694,  0.        ], dtype=float32),\n array([ 0.11224365,  0.153656  ,  0.16009521, ...,  0.0017395 ,\n        -0.01199341,  0.        ], dtype=float32),\n array([0.03729248, 0.0647583 , 0.06549072, ..., 0.10327148, 0.11172485,\n        0.        ], dtype=float32),\n array([ 0.07162476,  0.12149048,  0.10314941, ..., -0.01913452,\n        -0.01608276,  0.        ], dtype=float32),\n array([-0.0501709 , -0.08581543, -0.06304932, ...,  0.17425537,\n         0.20770264,  0.        ], dtype=float32),\n array([ 0.02767944,  0.04800415,  0.04904175, ..., -0.00808716,\n        -0.04342651,  0.        ], dtype=float32),\n array([ 0.06488037,  0.11077881,  0.08624268, ..., -0.13064575,\n        -0.20144653,  0.        ], dtype=float32),\n array([-0.03952026, -0.08456421, -0.07589722, ..., -0.06066895,\n         0.0480957 ,  0.        ], dtype=float32),\n array([0.01022339, 0.02093506, 0.00946045, ..., 0.05728149, 0.07858276,\n        0.        ], dtype=float32),\n array([0.06845093, 0.14559937, 0.10534668, ..., 0.12399292, 0.2390747 ,\n        0.        ], dtype=float32),\n array([0.04428101, 0.07846069, 0.06246948, ..., 0.0211792 , 0.0279541 ,\n        0.        ], dtype=float32),\n array([-0.00024414,  0.00338745,  0.00808716, ...,  0.00411987,\n         0.01425171,  0.        ], dtype=float32),\n array([-0.00521851,  0.00125122,  0.01220703, ..., -0.03103638,\n        -0.12634277,  0.        ], dtype=float32),\n array([ 0.03723145,  0.04318237,  0.02450562, ..., -0.02755737,\n        -0.01992798,  0.        ], dtype=float32),\n array([ 0.00537109,  0.01623535,  0.02304077, ..., -0.10049438,\n        -0.13763428,  0.        ], dtype=float32),\n array([0.02062988, 0.08041382, 0.1293335 , ..., 0.10198975, 0.11538696,\n        0.        ], dtype=float32),\n array([ 0.02337646,  0.04824829,  0.05670166, ..., -0.00201416,\n        -0.0090332 ,  0.        ], dtype=float32),\n array([ 0.00585938,  0.00756836, -0.00823975, ..., -0.01681519,\n        -0.02758789,  0.        ], dtype=float32),\n array([ 0.07843018,  0.12329102,  0.11108398, ..., -0.02249146,\n        -0.02624512,  0.        ], dtype=float32),\n array([-0.00979614, -0.01782227, -0.01852417, ...,  0.04830933,\n         0.05911255,  0.        ], dtype=float32),\n array([ 0.05557251,  0.0760498 ,  0.05374146, ..., -0.16641235,\n        -0.18087769,  0.        ], dtype=float32),\n array([ 0.00482178,  0.01147461,  0.01644897, ...,  0.02731323,\n        -0.00726318,  0.        ], dtype=float32),\n array([0.02432251, 0.05084229, 0.05007935, ..., 0.00863647, 0.0027771 ,\n        0.        ], dtype=float32),\n array([-0.03948975, -0.06561279, -0.0657959 , ..., -0.01589966,\n        -0.01425171,  0.        ], dtype=float32),\n array([ 0.02105713,  0.03509521,  0.02593994, ..., -0.10119629,\n        -0.11459351,  0.        ], dtype=float32),\n array([-0.021698  , -0.04232788, -0.04467773, ..., -0.00881958,\n        -0.00881958,  0.        ], dtype=float32),\n array([-0.0428772 , -0.08154297, -0.09136963, ...,  0.01608276,\n        -0.00491333,  0.        ], dtype=float32),\n array([-0.05697632, -0.08441162, -0.06283569, ...,  0.02035522,\n         0.00744629,  0.        ], dtype=float32),\n array([-0.01959229,  0.00167847,  0.03671265, ..., -0.06381226,\n        -0.00405884,  0.        ], dtype=float32),\n array([-0.04864502, -0.08709717, -0.07843018, ...,  0.03970337,\n         0.02716064,  0.        ], dtype=float32),\n array([0.01531982, 0.01898193, 0.00817871, ..., 0.0737915 , 0.078125  ,\n        0.        ], dtype=float32),\n array([-0.00854492,  0.07467651,  0.12750244, ...,  0.07601929,\n         0.07910156,  0.        ], dtype=float32),\n array([-0.04800415, -0.03067017,  0.03317261, ..., -0.01095581,\n         0.00512695,  0.        ], dtype=float32),\n array([-0.18588257, -0.2638855 , -0.24987793, ...,  0.00512695,\n         0.0071106 ,  0.        ], dtype=float32),\n array([0.01824951, 0.03137207, 0.01239014, ..., 0.08035278, 0.10513306,\n        0.        ], dtype=float32),\n array([-0.02441406, -0.02349854, -0.0065918 , ...,  0.04406738,\n         0.02740479,  0.        ], dtype=float32),\n array([ 0.00216675,  0.00579834,  0.00247192, ...,  0.03601074,\n        -0.00042725,  0.        ], dtype=float32),\n array([ 0.00408936,  0.01425171,  0.00344849, ..., -0.09524536,\n        -0.12042236,  0.        ], dtype=float32),\n array([ 0.21694946,  0.37243652,  0.32769775, ..., -0.05606079,\n        -0.04699707,  0.        ], dtype=float32),\n array([-0.06686401, -0.10305786, -0.08422852, ..., -0.2048645 ,\n        -0.22146606,  0.        ], dtype=float32),\n array([-0.04467773, -0.05899048, -0.05773926, ..., -0.01431274,\n        -0.01318359,  0.        ], dtype=float32),\n array([-0.00408936, -0.0345459 , -0.03479004, ..., -0.05456543,\n        -0.06600952,  0.        ], dtype=float32),\n array([0.00970459, 0.01339722, 0.01333618, ..., 0.        , 0.        ,\n        0.        ], dtype=float32),\n array([-0.0098877 , -0.02539062,  0.00967407, ..., -0.13406372,\n        -0.14874268,  0.        ], dtype=float32),\n array([ 0.0017395 ,  0.00119019, -0.0085144 , ..., -0.01400757,\n        -0.02044678,  0.        ], dtype=float32),\n array([ 0.01138306,  0.04226685,  0.04962158, ..., -0.06402588,\n        -0.05630493,  0.        ], dtype=float32),\n array([ 0.07025146,  0.1177063 ,  0.09591675, ..., -0.0196228 ,\n        -0.02520752,  0.        ], dtype=float32),\n array([-0.01992798,  0.02362061,  0.04046631, ...,  0.09494019,\n         0.15475464,  0.        ], dtype=float32),\n array([ 0.01602173,  0.05395508,  0.08670044, ..., -0.05743408,\n        -0.040802  ,  0.        ], dtype=float32),\n array([-0.01089478, -0.01577759, -0.0161438 , ..., -0.01254272,\n         0.02832031,  0.        ], dtype=float32),\n array([ 0.03030396,  0.05105591,  0.05255127, ..., -0.02325439,\n         0.00405884,  0.        ], dtype=float32),\n array([ 0.01596069,  0.02392578,  0.02316284, ..., -0.05578613,\n        -0.06655884,  0.        ], dtype=float32),\n array([0.01074219, 0.01400757, 0.00823975, ..., 0.03952026, 0.03552246,\n        0.        ], dtype=float32),\n array([ 0.0602417 ,  0.09918213,  0.10388184, ..., -0.03137207,\n        -0.07775879,  0.        ], dtype=float32),\n array([ 0.02828979, -0.1020813 , -0.11386108, ..., -0.00170898,\n        -0.01211548,  0.        ], dtype=float32),\n array([ 0.00952148,  0.0223999 ,  0.02511597, ..., -0.16201782,\n        -0.07644653,  0.        ], dtype=float32),\n array([-0.01083374,  0.01278687,  0.04284668, ...,  0.02435303,\n         0.04962158,  0.        ], dtype=float32),\n array([ 0.01031494,  0.01147461,  0.02877808, ..., -0.02005005,\n         0.02597046,  0.        ], dtype=float32),\n array([-0.00973511, -0.01831055, -0.01068115, ...,  0.03356934,\n         0.03475952,  0.        ], dtype=float32),\n array([-0.09448242, -0.1427002 , -0.13778687, ...,  0.09906006,\n         0.1083374 ,  0.        ], dtype=float32),\n array([-0.04858398, -0.05865479, -0.01712036, ..., -0.01300049,\n        -0.01489258,  0.        ], dtype=float32),\n array([ 0.03939819,  0.00137329, -0.11251831, ..., -0.10617065,\n        -0.0335083 ,  0.        ], dtype=float32),\n array([0.01745605, 0.0369873 , 0.02410889, ..., 0.03036499, 0.10375977,\n        0.        ], dtype=float32),\n array([ 0.01257324,  0.01913452,  0.0111084 , ..., -0.05059814,\n        -0.11291504,  0.        ], dtype=float32),\n array([ 0.05615234,  0.09561157,  0.05441284, ..., -0.06356812,\n        -0.09921265,  0.        ], dtype=float32),\n array([ 0.03182983,  0.05117798,  0.03948975, ..., -0.05697632,\n        -0.06564331,  0.        ], dtype=float32),\n array([-0.26678467, -0.5244751 , -0.4145813 , ..., -0.03268433,\n        -0.0630188 ,  0.        ], dtype=float32),\n array([-0.02471924, -0.05197144, -0.05154419, ...,  0.00112915,\n         0.01498413,  0.        ], dtype=float32),\n array([ 0.06326294,  0.12298584,  0.05541992, ..., -0.06433105,\n        -0.06573486,  0.        ], dtype=float32),\n array([-0.02862549, -0.05392456, -0.03811646, ...,  0.01074219,\n         0.02331543,  0.        ], dtype=float32),\n array([-0.00436401, -0.00695801, -0.00830078, ..., -0.04974365,\n        -0.05535889,  0.        ], dtype=float32),\n array([ 0.00878906,  0.01016235,  0.01266479, ..., -0.00857544,\n        -0.00897217,  0.        ], dtype=float32),\n array([ 0.00262451,  0.00320435, -0.00024414, ...,  0.04342651,\n         0.03823853,  0.        ], dtype=float32),\n array([-0.10964966, -0.17285156, -0.1595459 , ..., -0.09133911,\n        -0.08294678,  0.        ], dtype=float32),\n array([0.13839722, 0.1625061 , 0.12030029, ..., 0.16567993, 0.22738647,\n        0.        ], dtype=float32),\n array([ 0.04165649,  0.0635376 ,  0.0579834 , ..., -0.00012207,\n        -0.00018311,  0.        ], dtype=float32),\n array([0.07675171, 0.13101196, 0.10540771, ..., 0.07946777, 0.09884644,\n        0.        ], dtype=float32),\n array([-0.00326538, -0.00515747, -0.00411987, ...,  0.03353882,\n         0.03518677,  0.        ], dtype=float32),\n array([-0.07949829, -0.14736938, -0.12387085, ...,  0.01959229,\n        -0.00405884,  0.        ], dtype=float32),\n array([-0.02478027, -0.04226685, -0.03723145, ..., -0.04031372,\n        -0.06414795,  0.        ], dtype=float32),\n array([ 0.05117798,  0.09115601,  0.0874939 , ..., -0.00613403,\n        -0.00598145,  0.        ], dtype=float32),\n array([-0.01361084, -0.01333618,  0.00030518, ...,  0.02310181,\n         0.00161743,  0.        ], dtype=float32),\n array([-0.00985718,  0.00259399,  0.02182007, ..., -0.00430298,\n        -0.01065063,  0.        ], dtype=float32),\n array([ 0.00280762,  0.00283813, -0.00036621, ..., -0.21755981,\n        -0.24005127,  0.        ], dtype=float32),\n array([ 0.1317749 ,  0.22854614,  0.2461853 , ..., -0.09020996,\n        -0.0953064 ,  0.        ], dtype=float32),\n array([-0.00100708,  0.00445557,  0.00311279, ...,  0.01864624,\n         0.01446533,  0.        ], dtype=float32),\n array([ 0.00540161,  0.01428223,  0.01721191, ..., -0.04660034,\n        -0.06869507,  0.        ], dtype=float32),\n array([-0.01126099, -0.02627563, -0.02954102, ...,  0.17144775,\n         0.10617065,  0.        ], dtype=float32),\n array([-0.01272583, -0.01950073, -0.01638794, ...,  0.1651001 ,\n         0.1871643 ,  0.        ], dtype=float32),\n array([0.13562012, 0.19546509, 0.15917969, ..., 0.2374878 , 0.2692871 ,\n        0.        ], dtype=float32),\n array([-0.10394287, -0.16143799, -0.11633301, ...,  0.08786011,\n         0.07769775,  0.        ], dtype=float32),\n array([-0.01025391, -0.01843262, -0.02865601, ...,  0.1003418 ,\n         0.12243652,  0.        ], dtype=float32),\n array([-0.21966553, -0.38653564, -0.32635498, ...,  0.05554199,\n         0.10079956,  0.        ], dtype=float32)]"
     },
     "execution_count": 22,
     "metadata": {},
     "output_type": "execute_result"
    }
   ],
   "source": [
    "samples_test"
   ],
   "metadata": {
    "collapsed": false,
    "pycharm": {
     "name": "#%%\n"
    }
   }
  },
  {
   "cell_type": "code",
   "source": [
    "test.shape"
   ],
   "metadata": {
    "colab": {
     "base_uri": "https://localhost:8080/"
    },
    "id": "g4_7W4anysIV",
    "executionInfo": {
     "status": "ok",
     "timestamp": 1649784056588,
     "user_tz": -120,
     "elapsed": 205,
     "user": {
      "displayName": "Victor Hug",
      "userId": "11181831673208928307"
     }
    },
    "outputId": "d561c126-845e-404b-b0eb-9d1bf8da8a87",
    "pycharm": {
     "name": "#%%\n"
    }
   },
   "execution_count": 23,
   "outputs": [
    {
     "data": {
      "text/plain": "(1001, 1920, 20)"
     },
     "execution_count": 23,
     "metadata": {},
     "output_type": "execute_result"
    }
   ]
  },
  {
   "cell_type": "code",
   "source": [
    "y_a_test = y_a_test.reset_index()['arousal_avg']\n",
    "y_v_test = y_v_test.reset_index()['valence_avg']"
   ],
   "metadata": {
    "id": "zsC6OUtmwClA",
    "executionInfo": {
     "status": "ok",
     "timestamp": 1649783581174,
     "user_tz": -120,
     "elapsed": 216,
     "user": {
      "displayName": "Victor Hug",
      "userId": "11181831673208928307"
     }
    },
    "pycharm": {
     "name": "#%%\n"
    }
   },
   "execution_count": 24,
   "outputs": []
  },
  {
   "cell_type": "code",
   "source": [
    "y_train = []\n",
    "for i in range(len(y_a_train)):\n",
    "  y_train.append([y_a_train[i], y_v_train[i]])\n",
    "\n",
    "y_train = np.array(y_train)\n",
    "\n",
    "y_test = []\n",
    "for i in range(len(y_a_test)):\n",
    "  y_test.append([y_a_test[i], y_v_test[i]])\n",
    "\n",
    "y_test = np.array(y_test)"
   ],
   "metadata": {
    "id": "oXHDW62gWp_w",
    "executionInfo": {
     "status": "ok",
     "timestamp": 1649783582226,
     "user_tz": -120,
     "elapsed": 1,
     "user": {
      "displayName": "Victor Hug",
      "userId": "11181831673208928307"
     }
    },
    "pycharm": {
     "name": "#%%\n"
    }
   },
   "execution_count": 25,
   "outputs": []
  },
  {
   "cell_type": "markdown",
   "source": [
    "# Model"
   ],
   "metadata": {
    "id": "mJL89pcSeFjY",
    "pycharm": {
     "name": "#%% md\n"
    }
   }
  },
  {
   "cell_type": "code",
   "source": [
    "import torch.nn as nn\n",
    "import torch\n",
    "import torch.nn.functional as F\n",
    "import torch.optim as optim\n",
    "from torch.autograd import Variable\n",
    "from torch.nn import Linear, ReLU, CrossEntropyLoss, Sequential, Conv2d, MaxPool2d, Module, Softmax, BatchNorm2d, Dropout\n",
    "from torch.optim import Adam, SGD"
   ],
   "metadata": {
    "id": "y6vjPydeeK9M",
    "executionInfo": {
     "status": "ok",
     "timestamp": 1649783088507,
     "user_tz": -120,
     "elapsed": 221,
     "user": {
      "displayName": "Victor Hug",
      "userId": "11181831673208928307"
     }
    },
    "pycharm": {
     "name": "#%%\n"
    }
   },
   "execution_count": 26,
   "outputs": []
  },
  {
   "cell_type": "code",
   "source": [
    "device = torch.device(\"cuda:0\" if torch.cuda.is_available() else \"cpu\")\n",
    "device"
   ],
   "metadata": {
    "colab": {
     "base_uri": "https://localhost:8080/"
    },
    "id": "kOzJ-rxEeWOr",
    "executionInfo": {
     "status": "ok",
     "timestamp": 1649782582479,
     "user_tz": -120,
     "elapsed": 3,
     "user": {
      "displayName": "Victor Hug",
      "userId": "11181831673208928307"
     }
    },
    "outputId": "ffc560ea-8dcf-4473-bc94-8a3e89eb6701",
    "pycharm": {
     "name": "#%%\n"
    }
   },
   "execution_count": 27,
   "outputs": [
    {
     "data": {
      "text/plain": "device(type='cuda', index=0)"
     },
     "execution_count": 27,
     "metadata": {},
     "output_type": "execute_result"
    }
   ]
  },
  {
   "cell_type": "code",
   "source": [
    "class Net(nn.Module):\n",
    "    def __init__(self):\n",
    "        super().__init__()\n",
    "        self.cnn_layers = Sequential(\n",
    "            # Defining a 2D convolution layer\n",
    "            Conv2d(1, 4, kernel_size=6, stride=1, padding=0),\n",
    "            BatchNorm2d(4),\n",
    "            ReLU(inplace=True),\n",
    "            MaxPool2d(kernesl_size=6, stride=2),\n",
    "            # Defining another 2D convolution layer\n",
    "            Conv2d(4, 4, kernel_size=6, stride=1, padding=1),\n",
    "            BatchNorm2d(4),\n",
    "            ReLU(inplace=True),\n",
    "            MaxPool2d(kernel_size=4, stride=2),\n",
    "        )\n",
    "\n",
    "        self.linear_layers = Sequential(\n",
    "            Linear(1904, 2)\n",
    "        )\n",
    "\n",
    "    def forward(self, x):\n",
    "        x = self.cnn_layers(x)\n",
    "        x = x.view(x.size(0), -1)\n",
    "        x = self.linear_layers(x)\n",
    "        return x\n"
   ],
   "metadata": {
    "id": "v59_xbTIeGH0",
    "executionInfo": {
     "status": "ok",
     "timestamp": 1649787671648,
     "user_tz": -120,
     "elapsed": 214,
     "user": {
      "displayName": "Victor Hug",
      "userId": "11181831673208928307"
     }
    },
    "pycharm": {
     "name": "#%%\n"
    }
   },
   "execution_count": 32,
   "outputs": []
  },
  {
   "cell_type": "code",
   "source": [
    "mfcc_train_reshaped = mfcc_train.reshape(len(mfcc_train), 1, 1920, 20)\n",
    "mfcc_test_reshaped = mfcc_test.reshape(len(mfcc_test), 1, 1920, 20)"
   ],
   "metadata": {
    "id": "0AAZhpAwuT4S",
    "executionInfo": {
     "status": "ok",
     "timestamp": 1649787671900,
     "user_tz": -120,
     "elapsed": 1,
     "user": {
      "displayName": "Victor Hug",
      "userId": "11181831673208928307"
     }
    },
    "pycharm": {
     "name": "#%%\n"
    }
   },
   "execution_count": 33,
   "outputs": []
  },
  {
   "cell_type": "code",
   "source": [
    "net = Net().to(device)\n",
    "print(net)"
   ],
   "metadata": {
    "colab": {
     "base_uri": "https://localhost:8080/"
    },
    "id": "68K2DkAiufxZ",
    "executionInfo": {
     "status": "ok",
     "timestamp": 1649787672134,
     "user_tz": -120,
     "elapsed": 3,
     "user": {
      "displayName": "Victor Hug",
      "userId": "11181831673208928307"
     }
    },
    "outputId": "79bd3755-a3ba-41c7-c8e9-80ac7c736554",
    "pycharm": {
     "name": "#%%\n"
    }
   },
   "execution_count": 34,
   "outputs": [
    {
     "name": "stdout",
     "output_type": "stream",
     "text": [
      "Net(\n",
      "  (cnn_layers): Sequential(\n",
      "    (0): Conv2d(1, 4, kernel_size=(6, 6), stride=(1, 1))\n",
      "    (1): BatchNorm2d(4, eps=1e-05, momentum=0.1, affine=True, track_running_stats=True)\n",
      "    (2): ReLU(inplace=True)\n",
      "    (3): MaxPool2d(kernel_size=6, stride=2, padding=0, dilation=1, ceil_mode=False)\n",
      "    (4): Conv2d(4, 4, kernel_size=(6, 6), stride=(1, 1), padding=(1, 1))\n",
      "    (5): BatchNorm2d(4, eps=1e-05, momentum=0.1, affine=True, track_running_stats=True)\n",
      "    (6): ReLU(inplace=True)\n",
      "    (7): MaxPool2d(kernel_size=4, stride=2, padding=0, dilation=1, ceil_mode=False)\n",
      "  )\n",
      "  (linear_layers): Sequential(\n",
      "    (0): Linear(in_features=1904, out_features=2, bias=True)\n",
      "  )\n",
      ")\n"
     ]
    }
   ]
  },
  {
   "cell_type": "code",
   "source": [
    "x_training = torch.tensor(mfcc_train_reshaped, device=device)\n",
    "y_training = torch.tensor(y_train, device=device)\n",
    "x_validation = torch.tensor(mfcc_test_reshaped, device=device)\n",
    "y_validation = torch.tensor(y_test, device=device)\n",
    "net = Net().to(device)"
   ],
   "metadata": {
    "id": "XN3sxVZYnBBA",
    "executionInfo": {
     "status": "ok",
     "timestamp": 1649787672134,
     "user_tz": -120,
     "elapsed": 2,
     "user": {
      "displayName": "Victor Hug",
      "userId": "11181831673208928307"
     }
    },
    "pycharm": {
     "name": "#%%\n"
    }
   },
   "execution_count": 35,
   "outputs": []
  },
  {
   "cell_type": "code",
   "source": [
    "x_training.shape"
   ],
   "metadata": {
    "colab": {
     "base_uri": "https://localhost:8080/"
    },
    "id": "0NXQd6jqxU1W",
    "executionInfo": {
     "status": "ok",
     "timestamp": 1649787990364,
     "user_tz": -120,
     "elapsed": 241,
     "user": {
      "displayName": "Victor Hug",
      "userId": "11181831673208928307"
     }
    },
    "outputId": "a2cdd084-1514-4d2a-abc0-b0db10821b4d",
    "pycharm": {
     "name": "#%%\n"
    }
   },
   "execution_count": 36,
   "outputs": [
    {
     "data": {
      "text/plain": "torch.Size([1001, 1, 1920, 20])"
     },
     "execution_count": 36,
     "metadata": {},
     "output_type": "execute_result"
    }
   ]
  },
  {
   "cell_type": "code",
   "source": [
    "criterion = nn.HuberLoss()\n",
    "optimizer = optim.Adam(net.parameters())"
   ],
   "metadata": {
    "id": "oOwFcoIeV0A6",
    "executionInfo": {
     "status": "ok",
     "timestamp": 1649787672352,
     "user_tz": -120,
     "elapsed": 1,
     "user": {
      "displayName": "Victor Hug",
      "userId": "11181831673208928307"
     }
    },
    "pycharm": {
     "name": "#%%\n"
    }
   },
   "execution_count": 37,
   "outputs": []
  },
  {
   "cell_type": "code",
   "source": [
    "train_losses = []\n",
    "val_losses = []\n",
    "def train(epoch):\n",
    "    net.train()\n",
    "    tr_loss = 0\n",
    "\n",
    "    # converting the data into GPU format\n",
    "    \"\"\"if torch.cuda.is_available():\n",
    "        x_train = x_train.cuda()\n",
    "        y_train = y_train.cuda()\n",
    "        x_val = x_val.cuda()\n",
    "        y_val = y_val.cuda()\"\"\"\n",
    "\n",
    "    # clearing the Gradients of the model parameters\n",
    "    optimizer.zero_grad()\n",
    "\n",
    "    # prediction for training and validation set\n",
    "    output_train = net(x_training)\n",
    "    output_val = net(x_validation)\n",
    "    # computing the training and validation loss\n",
    "    loss_train = criterion(output_train.float(), y_training.float())\n",
    "    loss_val = criterion(output_val.float(), y_validation.float())\n",
    "    train_losses.append(loss_train)\n",
    "    val_losses.append(loss_val)\n",
    "\n",
    "    # computing the updated weights of all the model parameters\n",
    "    loss_train.backward()\n",
    "    optimizer.step()\n",
    "    tr_loss = loss_train.item()\n",
    "    if epoch%2 == 0:\n",
    "        # printing the validation loss\n",
    "        print('Epoch : ',epoch+1, '\\t', 'loss :', float(loss_val), '\\t', 'train_loss:', float(loss_train))"
   ],
   "metadata": {
    "id": "Kpu83hiEVOS8",
    "executionInfo": {
     "status": "ok",
     "timestamp": 1649787736544,
     "user_tz": -120,
     "elapsed": 220,
     "user": {
      "displayName": "Victor Hug",
      "userId": "11181831673208928307"
     }
    },
    "pycharm": {
     "name": "#%%\n"
    }
   },
   "execution_count": 38,
   "outputs": []
  },
  {
   "cell_type": "code",
   "source": [
    "for i in range(100):\n",
    "  train(i)"
   ],
   "metadata": {
    "id": "AT-Fih27WVC6",
    "colab": {
     "base_uri": "https://localhost:8080/"
    },
    "executionInfo": {
     "status": "ok",
     "timestamp": 1649787739546,
     "user_tz": -120,
     "elapsed": 3003,
     "user": {
      "displayName": "Victor Hug",
      "userId": "11181831673208928307"
     }
    },
    "outputId": "fb68272d-942c-427a-cedc-a470abbfaf6e",
    "pycharm": {
     "name": "#%%\n"
    }
   },
   "execution_count": 39,
   "outputs": [
    {
     "ename": "RuntimeError",
     "evalue": "Given input size: (4x952x2). Calculated output size: (4x475x0). Output size is too small",
     "output_type": "error",
     "traceback": [
      "\u001B[0;31m---------------------------------------------------------------------------\u001B[0m",
      "\u001B[0;31mRuntimeError\u001B[0m                              Traceback (most recent call last)",
      "\u001B[0;32m/tmp/ipykernel_53811/1760209236.py\u001B[0m in \u001B[0;36m<module>\u001B[0;34m\u001B[0m\n\u001B[1;32m      1\u001B[0m \u001B[0;32mfor\u001B[0m \u001B[0mi\u001B[0m \u001B[0;32min\u001B[0m \u001B[0mrange\u001B[0m\u001B[0;34m(\u001B[0m\u001B[0;36m100\u001B[0m\u001B[0;34m)\u001B[0m\u001B[0;34m:\u001B[0m\u001B[0;34m\u001B[0m\u001B[0;34m\u001B[0m\u001B[0m\n\u001B[0;32m----> 2\u001B[0;31m   \u001B[0mtrain\u001B[0m\u001B[0;34m(\u001B[0m\u001B[0mi\u001B[0m\u001B[0;34m)\u001B[0m\u001B[0;34m\u001B[0m\u001B[0;34m\u001B[0m\u001B[0m\n\u001B[0m",
      "\u001B[0;32m/tmp/ipykernel_53811/2710711325.py\u001B[0m in \u001B[0;36mtrain\u001B[0;34m(epoch)\u001B[0m\n\u001B[1;32m     16\u001B[0m \u001B[0;34m\u001B[0m\u001B[0m\n\u001B[1;32m     17\u001B[0m     \u001B[0;31m# prediction for training and validation set\u001B[0m\u001B[0;34m\u001B[0m\u001B[0;34m\u001B[0m\u001B[0;34m\u001B[0m\u001B[0m\n\u001B[0;32m---> 18\u001B[0;31m     \u001B[0moutput_train\u001B[0m \u001B[0;34m=\u001B[0m \u001B[0mnet\u001B[0m\u001B[0;34m(\u001B[0m\u001B[0mx_training\u001B[0m\u001B[0;34m)\u001B[0m\u001B[0;34m\u001B[0m\u001B[0;34m\u001B[0m\u001B[0m\n\u001B[0m\u001B[1;32m     19\u001B[0m     \u001B[0moutput_val\u001B[0m \u001B[0;34m=\u001B[0m \u001B[0mnet\u001B[0m\u001B[0;34m(\u001B[0m\u001B[0mx_validation\u001B[0m\u001B[0;34m)\u001B[0m\u001B[0;34m\u001B[0m\u001B[0;34m\u001B[0m\u001B[0m\n\u001B[1;32m     20\u001B[0m     \u001B[0;31m# computing the training and validation loss\u001B[0m\u001B[0;34m\u001B[0m\u001B[0;34m\u001B[0m\u001B[0;34m\u001B[0m\u001B[0m\n",
      "\u001B[0;32m~/anaconda3/envs/torch-librosa-37/lib/python3.7/site-packages/torch/nn/modules/module.py\u001B[0m in \u001B[0;36m_call_impl\u001B[0;34m(self, *input, **kwargs)\u001B[0m\n\u001B[1;32m   1108\u001B[0m         if not (self._backward_hooks or self._forward_hooks or self._forward_pre_hooks or _global_backward_hooks\n\u001B[1;32m   1109\u001B[0m                 or _global_forward_hooks or _global_forward_pre_hooks):\n\u001B[0;32m-> 1110\u001B[0;31m             \u001B[0;32mreturn\u001B[0m \u001B[0mforward_call\u001B[0m\u001B[0;34m(\u001B[0m\u001B[0;34m*\u001B[0m\u001B[0minput\u001B[0m\u001B[0;34m,\u001B[0m \u001B[0;34m**\u001B[0m\u001B[0mkwargs\u001B[0m\u001B[0;34m)\u001B[0m\u001B[0;34m\u001B[0m\u001B[0;34m\u001B[0m\u001B[0m\n\u001B[0m\u001B[1;32m   1111\u001B[0m         \u001B[0;31m# Do not call functions when jit is used\u001B[0m\u001B[0;34m\u001B[0m\u001B[0;34m\u001B[0m\u001B[0;34m\u001B[0m\u001B[0m\n\u001B[1;32m   1112\u001B[0m         \u001B[0mfull_backward_hooks\u001B[0m\u001B[0;34m,\u001B[0m \u001B[0mnon_full_backward_hooks\u001B[0m \u001B[0;34m=\u001B[0m \u001B[0;34m[\u001B[0m\u001B[0;34m]\u001B[0m\u001B[0;34m,\u001B[0m \u001B[0;34m[\u001B[0m\u001B[0;34m]\u001B[0m\u001B[0;34m\u001B[0m\u001B[0;34m\u001B[0m\u001B[0m\n",
      "\u001B[0;32m/tmp/ipykernel_53811/1126698325.py\u001B[0m in \u001B[0;36mforward\u001B[0;34m(self, x)\u001B[0m\n\u001B[1;32m     20\u001B[0m \u001B[0;34m\u001B[0m\u001B[0m\n\u001B[1;32m     21\u001B[0m     \u001B[0;32mdef\u001B[0m \u001B[0mforward\u001B[0m\u001B[0;34m(\u001B[0m\u001B[0mself\u001B[0m\u001B[0;34m,\u001B[0m \u001B[0mx\u001B[0m\u001B[0;34m)\u001B[0m\u001B[0;34m:\u001B[0m\u001B[0;34m\u001B[0m\u001B[0;34m\u001B[0m\u001B[0m\n\u001B[0;32m---> 22\u001B[0;31m         \u001B[0mx\u001B[0m \u001B[0;34m=\u001B[0m \u001B[0mself\u001B[0m\u001B[0;34m.\u001B[0m\u001B[0mcnn_layers\u001B[0m\u001B[0;34m(\u001B[0m\u001B[0mx\u001B[0m\u001B[0;34m)\u001B[0m\u001B[0;34m\u001B[0m\u001B[0;34m\u001B[0m\u001B[0m\n\u001B[0m\u001B[1;32m     23\u001B[0m         \u001B[0mx\u001B[0m \u001B[0;34m=\u001B[0m \u001B[0mx\u001B[0m\u001B[0;34m.\u001B[0m\u001B[0mview\u001B[0m\u001B[0;34m(\u001B[0m\u001B[0mx\u001B[0m\u001B[0;34m.\u001B[0m\u001B[0msize\u001B[0m\u001B[0;34m(\u001B[0m\u001B[0;36m0\u001B[0m\u001B[0;34m)\u001B[0m\u001B[0;34m,\u001B[0m \u001B[0;34m-\u001B[0m\u001B[0;36m1\u001B[0m\u001B[0;34m)\u001B[0m\u001B[0;34m\u001B[0m\u001B[0;34m\u001B[0m\u001B[0m\n\u001B[1;32m     24\u001B[0m         \u001B[0mx\u001B[0m \u001B[0;34m=\u001B[0m \u001B[0mself\u001B[0m\u001B[0;34m.\u001B[0m\u001B[0mlinear_layers\u001B[0m\u001B[0;34m(\u001B[0m\u001B[0mx\u001B[0m\u001B[0;34m)\u001B[0m\u001B[0;34m\u001B[0m\u001B[0;34m\u001B[0m\u001B[0m\n",
      "\u001B[0;32m~/anaconda3/envs/torch-librosa-37/lib/python3.7/site-packages/torch/nn/modules/module.py\u001B[0m in \u001B[0;36m_call_impl\u001B[0;34m(self, *input, **kwargs)\u001B[0m\n\u001B[1;32m   1108\u001B[0m         if not (self._backward_hooks or self._forward_hooks or self._forward_pre_hooks or _global_backward_hooks\n\u001B[1;32m   1109\u001B[0m                 or _global_forward_hooks or _global_forward_pre_hooks):\n\u001B[0;32m-> 1110\u001B[0;31m             \u001B[0;32mreturn\u001B[0m \u001B[0mforward_call\u001B[0m\u001B[0;34m(\u001B[0m\u001B[0;34m*\u001B[0m\u001B[0minput\u001B[0m\u001B[0;34m,\u001B[0m \u001B[0;34m**\u001B[0m\u001B[0mkwargs\u001B[0m\u001B[0;34m)\u001B[0m\u001B[0;34m\u001B[0m\u001B[0;34m\u001B[0m\u001B[0m\n\u001B[0m\u001B[1;32m   1111\u001B[0m         \u001B[0;31m# Do not call functions when jit is used\u001B[0m\u001B[0;34m\u001B[0m\u001B[0;34m\u001B[0m\u001B[0;34m\u001B[0m\u001B[0m\n\u001B[1;32m   1112\u001B[0m         \u001B[0mfull_backward_hooks\u001B[0m\u001B[0;34m,\u001B[0m \u001B[0mnon_full_backward_hooks\u001B[0m \u001B[0;34m=\u001B[0m \u001B[0;34m[\u001B[0m\u001B[0;34m]\u001B[0m\u001B[0;34m,\u001B[0m \u001B[0;34m[\u001B[0m\u001B[0;34m]\u001B[0m\u001B[0;34m\u001B[0m\u001B[0;34m\u001B[0m\u001B[0m\n",
      "\u001B[0;32m~/anaconda3/envs/torch-librosa-37/lib/python3.7/site-packages/torch/nn/modules/container.py\u001B[0m in \u001B[0;36mforward\u001B[0;34m(self, input)\u001B[0m\n\u001B[1;32m    139\u001B[0m     \u001B[0;32mdef\u001B[0m \u001B[0mforward\u001B[0m\u001B[0;34m(\u001B[0m\u001B[0mself\u001B[0m\u001B[0;34m,\u001B[0m \u001B[0minput\u001B[0m\u001B[0;34m)\u001B[0m\u001B[0;34m:\u001B[0m\u001B[0;34m\u001B[0m\u001B[0;34m\u001B[0m\u001B[0m\n\u001B[1;32m    140\u001B[0m         \u001B[0;32mfor\u001B[0m \u001B[0mmodule\u001B[0m \u001B[0;32min\u001B[0m \u001B[0mself\u001B[0m\u001B[0;34m:\u001B[0m\u001B[0;34m\u001B[0m\u001B[0;34m\u001B[0m\u001B[0m\n\u001B[0;32m--> 141\u001B[0;31m             \u001B[0minput\u001B[0m \u001B[0;34m=\u001B[0m \u001B[0mmodule\u001B[0m\u001B[0;34m(\u001B[0m\u001B[0minput\u001B[0m\u001B[0;34m)\u001B[0m\u001B[0;34m\u001B[0m\u001B[0;34m\u001B[0m\u001B[0m\n\u001B[0m\u001B[1;32m    142\u001B[0m         \u001B[0;32mreturn\u001B[0m \u001B[0minput\u001B[0m\u001B[0;34m\u001B[0m\u001B[0;34m\u001B[0m\u001B[0m\n\u001B[1;32m    143\u001B[0m \u001B[0;34m\u001B[0m\u001B[0m\n",
      "\u001B[0;32m~/anaconda3/envs/torch-librosa-37/lib/python3.7/site-packages/torch/nn/modules/module.py\u001B[0m in \u001B[0;36m_call_impl\u001B[0;34m(self, *input, **kwargs)\u001B[0m\n\u001B[1;32m   1108\u001B[0m         if not (self._backward_hooks or self._forward_hooks or self._forward_pre_hooks or _global_backward_hooks\n\u001B[1;32m   1109\u001B[0m                 or _global_forward_hooks or _global_forward_pre_hooks):\n\u001B[0;32m-> 1110\u001B[0;31m             \u001B[0;32mreturn\u001B[0m \u001B[0mforward_call\u001B[0m\u001B[0;34m(\u001B[0m\u001B[0;34m*\u001B[0m\u001B[0minput\u001B[0m\u001B[0;34m,\u001B[0m \u001B[0;34m**\u001B[0m\u001B[0mkwargs\u001B[0m\u001B[0;34m)\u001B[0m\u001B[0;34m\u001B[0m\u001B[0;34m\u001B[0m\u001B[0m\n\u001B[0m\u001B[1;32m   1111\u001B[0m         \u001B[0;31m# Do not call functions when jit is used\u001B[0m\u001B[0;34m\u001B[0m\u001B[0;34m\u001B[0m\u001B[0;34m\u001B[0m\u001B[0m\n\u001B[1;32m   1112\u001B[0m         \u001B[0mfull_backward_hooks\u001B[0m\u001B[0;34m,\u001B[0m \u001B[0mnon_full_backward_hooks\u001B[0m \u001B[0;34m=\u001B[0m \u001B[0;34m[\u001B[0m\u001B[0;34m]\u001B[0m\u001B[0;34m,\u001B[0m \u001B[0;34m[\u001B[0m\u001B[0;34m]\u001B[0m\u001B[0;34m\u001B[0m\u001B[0;34m\u001B[0m\u001B[0m\n",
      "\u001B[0;32m~/anaconda3/envs/torch-librosa-37/lib/python3.7/site-packages/torch/nn/modules/pooling.py\u001B[0m in \u001B[0;36mforward\u001B[0;34m(self, input)\u001B[0m\n\u001B[1;32m    162\u001B[0m         return F.max_pool2d(input, self.kernel_size, self.stride,\n\u001B[1;32m    163\u001B[0m                             \u001B[0mself\u001B[0m\u001B[0;34m.\u001B[0m\u001B[0mpadding\u001B[0m\u001B[0;34m,\u001B[0m \u001B[0mself\u001B[0m\u001B[0;34m.\u001B[0m\u001B[0mdilation\u001B[0m\u001B[0;34m,\u001B[0m \u001B[0mself\u001B[0m\u001B[0;34m.\u001B[0m\u001B[0mceil_mode\u001B[0m\u001B[0;34m,\u001B[0m\u001B[0;34m\u001B[0m\u001B[0;34m\u001B[0m\u001B[0m\n\u001B[0;32m--> 164\u001B[0;31m                             self.return_indices)\n\u001B[0m\u001B[1;32m    165\u001B[0m \u001B[0;34m\u001B[0m\u001B[0m\n\u001B[1;32m    166\u001B[0m \u001B[0;34m\u001B[0m\u001B[0m\n",
      "\u001B[0;32m~/anaconda3/envs/torch-librosa-37/lib/python3.7/site-packages/torch/_jit_internal.py\u001B[0m in \u001B[0;36mfn\u001B[0;34m(*args, **kwargs)\u001B[0m\n\u001B[1;32m    420\u001B[0m             \u001B[0;32mreturn\u001B[0m \u001B[0mif_true\u001B[0m\u001B[0;34m(\u001B[0m\u001B[0;34m*\u001B[0m\u001B[0margs\u001B[0m\u001B[0;34m,\u001B[0m \u001B[0;34m**\u001B[0m\u001B[0mkwargs\u001B[0m\u001B[0;34m)\u001B[0m\u001B[0;34m\u001B[0m\u001B[0;34m\u001B[0m\u001B[0m\n\u001B[1;32m    421\u001B[0m         \u001B[0;32melse\u001B[0m\u001B[0;34m:\u001B[0m\u001B[0;34m\u001B[0m\u001B[0;34m\u001B[0m\u001B[0m\n\u001B[0;32m--> 422\u001B[0;31m             \u001B[0;32mreturn\u001B[0m \u001B[0mif_false\u001B[0m\u001B[0;34m(\u001B[0m\u001B[0;34m*\u001B[0m\u001B[0margs\u001B[0m\u001B[0;34m,\u001B[0m \u001B[0;34m**\u001B[0m\u001B[0mkwargs\u001B[0m\u001B[0;34m)\u001B[0m\u001B[0;34m\u001B[0m\u001B[0;34m\u001B[0m\u001B[0m\n\u001B[0m\u001B[1;32m    423\u001B[0m \u001B[0;34m\u001B[0m\u001B[0m\n\u001B[1;32m    424\u001B[0m     \u001B[0;32mif\u001B[0m \u001B[0mif_true\u001B[0m\u001B[0;34m.\u001B[0m\u001B[0m__doc__\u001B[0m \u001B[0;32mis\u001B[0m \u001B[0;32mNone\u001B[0m \u001B[0;32mand\u001B[0m \u001B[0mif_false\u001B[0m\u001B[0;34m.\u001B[0m\u001B[0m__doc__\u001B[0m \u001B[0;32mis\u001B[0m \u001B[0;32mnot\u001B[0m \u001B[0;32mNone\u001B[0m\u001B[0;34m:\u001B[0m\u001B[0;34m\u001B[0m\u001B[0;34m\u001B[0m\u001B[0m\n",
      "\u001B[0;32m~/anaconda3/envs/torch-librosa-37/lib/python3.7/site-packages/torch/nn/functional.py\u001B[0m in \u001B[0;36m_max_pool2d\u001B[0;34m(input, kernel_size, stride, padding, dilation, ceil_mode, return_indices)\u001B[0m\n\u001B[1;32m    795\u001B[0m     \u001B[0;32mif\u001B[0m \u001B[0mstride\u001B[0m \u001B[0;32mis\u001B[0m \u001B[0;32mNone\u001B[0m\u001B[0;34m:\u001B[0m\u001B[0;34m\u001B[0m\u001B[0;34m\u001B[0m\u001B[0m\n\u001B[1;32m    796\u001B[0m         \u001B[0mstride\u001B[0m \u001B[0;34m=\u001B[0m \u001B[0mtorch\u001B[0m\u001B[0;34m.\u001B[0m\u001B[0mjit\u001B[0m\u001B[0;34m.\u001B[0m\u001B[0mannotate\u001B[0m\u001B[0;34m(\u001B[0m\u001B[0mList\u001B[0m\u001B[0;34m[\u001B[0m\u001B[0mint\u001B[0m\u001B[0;34m]\u001B[0m\u001B[0;34m,\u001B[0m \u001B[0;34m[\u001B[0m\u001B[0;34m]\u001B[0m\u001B[0;34m)\u001B[0m\u001B[0;34m\u001B[0m\u001B[0;34m\u001B[0m\u001B[0m\n\u001B[0;32m--> 797\u001B[0;31m     \u001B[0;32mreturn\u001B[0m \u001B[0mtorch\u001B[0m\u001B[0;34m.\u001B[0m\u001B[0mmax_pool2d\u001B[0m\u001B[0;34m(\u001B[0m\u001B[0minput\u001B[0m\u001B[0;34m,\u001B[0m \u001B[0mkernel_size\u001B[0m\u001B[0;34m,\u001B[0m \u001B[0mstride\u001B[0m\u001B[0;34m,\u001B[0m \u001B[0mpadding\u001B[0m\u001B[0;34m,\u001B[0m \u001B[0mdilation\u001B[0m\u001B[0;34m,\u001B[0m \u001B[0mceil_mode\u001B[0m\u001B[0;34m)\u001B[0m\u001B[0;34m\u001B[0m\u001B[0;34m\u001B[0m\u001B[0m\n\u001B[0m\u001B[1;32m    798\u001B[0m \u001B[0;34m\u001B[0m\u001B[0m\n\u001B[1;32m    799\u001B[0m \u001B[0;34m\u001B[0m\u001B[0m\n",
      "\u001B[0;31mRuntimeError\u001B[0m: Given input size: (4x952x2). Calculated output size: (4x475x0). Output size is too small"
     ]
    }
   ]
  },
  {
   "cell_type": "code",
   "source": [
    "net(torch.tensor(mfcc_train[50].reshape(1,1,1935,20), device=device))"
   ],
   "metadata": {
    "colab": {
     "base_uri": "https://localhost:8080/"
    },
    "id": "fm6fvJ5fxJEO",
    "executionInfo": {
     "status": "ok",
     "timestamp": 1649788075939,
     "user_tz": -120,
     "elapsed": 212,
     "user": {
      "displayName": "Victor Hug",
      "userId": "11181831673208928307"
     }
    },
    "outputId": "c461f392-e4fa-40a5-e718-046a6c08eea4",
    "pycharm": {
     "name": "#%%\n"
    }
   },
   "execution_count": 222,
   "outputs": [
    {
     "output_type": "execute_result",
     "data": {
      "text/plain": [
       "tensor([[0.7307, 0.1580]], device='cuda:0', grad_fn=<AddmmBackward0>)"
      ]
     },
     "metadata": {},
     "execution_count": 222
    }
   ]
  },
  {
   "cell_type": "code",
   "source": [
    "y_train[50]"
   ],
   "metadata": {
    "colab": {
     "base_uri": "https://localhost:8080/"
    },
    "id": "Zt_hlT7TBSDl",
    "executionInfo": {
     "status": "ok",
     "timestamp": 1649788081639,
     "user_tz": -120,
     "elapsed": 291,
     "user": {
      "displayName": "Victor Hug",
      "userId": "11181831673208928307"
     }
    },
    "outputId": "b23342b0-6059-41b4-8be6-23266c5d2103",
    "pycharm": {
     "name": "#%%\n"
    }
   },
   "execution_count": 223,
   "outputs": [
    {
     "output_type": "execute_result",
     "data": {
      "text/plain": [
       "array([0.58268833, 0.19256875])"
      ]
     },
     "metadata": {},
     "execution_count": 223
    }
   ]
  },
  {
   "cell_type": "code",
   "source": [],
   "metadata": {
    "id": "7DDBAvvQB_Gs",
    "pycharm": {
     "name": "#%%\n"
    }
   },
   "execution_count": null,
   "outputs": []
  }
 ]
}